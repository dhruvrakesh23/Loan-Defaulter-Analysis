{
 "cells": [
  {
   "cell_type": "code",
   "execution_count": 1,
   "id": "b0dcd17e",
   "metadata": {},
   "outputs": [
    {
     "data": {
      "text/html": [
       "<div>\n",
       "<style scoped>\n",
       "    .dataframe tbody tr th:only-of-type {\n",
       "        vertical-align: middle;\n",
       "    }\n",
       "\n",
       "    .dataframe tbody tr th {\n",
       "        vertical-align: top;\n",
       "    }\n",
       "\n",
       "    .dataframe thead th {\n",
       "        text-align: right;\n",
       "    }\n",
       "</style>\n",
       "<table border=\"1\" class=\"dataframe\">\n",
       "  <thead>\n",
       "    <tr style=\"text-align: right;\">\n",
       "      <th></th>\n",
       "      <th>UID</th>\n",
       "      <th>type</th>\n",
       "      <th>loan_amount</th>\n",
       "      <th>age</th>\n",
       "      <th>purpose_of_loan</th>\n",
       "      <th>requested_amount</th>\n",
       "      <th>marital_status</th>\n",
       "      <th>residenceType</th>\n",
       "      <th>income</th>\n",
       "      <th>monthly_rent</th>\n",
       "      <th>ownership</th>\n",
       "      <th>number_prev_loans</th>\n",
       "      <th>prev_def</th>\n",
       "      <th>prev_bal</th>\n",
       "      <th>loan_default</th>\n",
       "    </tr>\n",
       "  </thead>\n",
       "  <tbody>\n",
       "    <tr>\n",
       "      <th>0</th>\n",
       "      <td>1JIJ98G</td>\n",
       "      <td>PERSONAL LOAN</td>\n",
       "      <td>1000000</td>\n",
       "      <td>45.137135</td>\n",
       "      <td>wedding</td>\n",
       "      <td>500000.0</td>\n",
       "      <td>MARRIED</td>\n",
       "      <td>Own House</td>\n",
       "      <td>150000.0</td>\n",
       "      <td>0</td>\n",
       "      <td>INDIVIDUAL</td>\n",
       "      <td>9</td>\n",
       "      <td>0</td>\n",
       "      <td>0</td>\n",
       "      <td>0</td>\n",
       "    </tr>\n",
       "    <tr>\n",
       "      <th>1</th>\n",
       "      <td>1ITH0P5</td>\n",
       "      <td>PERSONAL LOAN</td>\n",
       "      <td>381412</td>\n",
       "      <td>31.850072</td>\n",
       "      <td>other</td>\n",
       "      <td>500000.0</td>\n",
       "      <td>MARRIED</td>\n",
       "      <td>Rented - Family</td>\n",
       "      <td>60000.0</td>\n",
       "      <td>5000</td>\n",
       "      <td>INDIVIDUAL</td>\n",
       "      <td>16</td>\n",
       "      <td>1</td>\n",
       "      <td>72720</td>\n",
       "      <td>0</td>\n",
       "    </tr>\n",
       "    <tr>\n",
       "      <th>2</th>\n",
       "      <td>1ITDL9J</td>\n",
       "      <td>PERSONAL LOAN</td>\n",
       "      <td>84770</td>\n",
       "      <td>37.898109</td>\n",
       "      <td>wedding</td>\n",
       "      <td>500000.0</td>\n",
       "      <td>MARRIED</td>\n",
       "      <td>Rented - Family</td>\n",
       "      <td>100000.0</td>\n",
       "      <td>8000</td>\n",
       "      <td>INDIVIDUAL</td>\n",
       "      <td>5</td>\n",
       "      <td>0</td>\n",
       "      <td>387762</td>\n",
       "      <td>0</td>\n",
       "    </tr>\n",
       "    <tr>\n",
       "      <th>3</th>\n",
       "      <td>1I6G9PG</td>\n",
       "      <td>PERSONAL LOAN</td>\n",
       "      <td>712844</td>\n",
       "      <td>30.097812</td>\n",
       "      <td>loanrefinancing</td>\n",
       "      <td>60000.0</td>\n",
       "      <td>SINGLE</td>\n",
       "      <td>Own House</td>\n",
       "      <td>60000.0</td>\n",
       "      <td>0</td>\n",
       "      <td>INDIVIDUAL</td>\n",
       "      <td>14</td>\n",
       "      <td>0</td>\n",
       "      <td>1059828</td>\n",
       "      <td>0</td>\n",
       "    </tr>\n",
       "    <tr>\n",
       "      <th>4</th>\n",
       "      <td>1I5K2R3</td>\n",
       "      <td>PERSONAL LOAN</td>\n",
       "      <td>195206</td>\n",
       "      <td>33.104034</td>\n",
       "      <td>Personal</td>\n",
       "      <td>50000.0</td>\n",
       "      <td>MARRIED</td>\n",
       "      <td>Own House</td>\n",
       "      <td>31700.0</td>\n",
       "      <td>0</td>\n",
       "      <td>INDIVIDUAL</td>\n",
       "      <td>4</td>\n",
       "      <td>0</td>\n",
       "      <td>42361</td>\n",
       "      <td>0</td>\n",
       "    </tr>\n",
       "    <tr>\n",
       "      <th>...</th>\n",
       "      <td>...</td>\n",
       "      <td>...</td>\n",
       "      <td>...</td>\n",
       "      <td>...</td>\n",
       "      <td>...</td>\n",
       "      <td>...</td>\n",
       "      <td>...</td>\n",
       "      <td>...</td>\n",
       "      <td>...</td>\n",
       "      <td>...</td>\n",
       "      <td>...</td>\n",
       "      <td>...</td>\n",
       "      <td>...</td>\n",
       "      <td>...</td>\n",
       "      <td>...</td>\n",
       "    </tr>\n",
       "    <tr>\n",
       "      <th>12808</th>\n",
       "      <td>1AG01U9</td>\n",
       "      <td>PERSONAL LOAN</td>\n",
       "      <td>25000</td>\n",
       "      <td>33.046538</td>\n",
       "      <td>loanrefinancing</td>\n",
       "      <td>200000.0</td>\n",
       "      <td>MARRIED</td>\n",
       "      <td>Rented - Family</td>\n",
       "      <td>25000.0</td>\n",
       "      <td>6000</td>\n",
       "      <td>INDIVIDUAL</td>\n",
       "      <td>5</td>\n",
       "      <td>0</td>\n",
       "      <td>100143</td>\n",
       "      <td>0</td>\n",
       "    </tr>\n",
       "    <tr>\n",
       "      <th>12809</th>\n",
       "      <td>1AFL31H</td>\n",
       "      <td>CREDIT CARD</td>\n",
       "      <td>2499</td>\n",
       "      <td>23.833481</td>\n",
       "      <td>other</td>\n",
       "      <td>500000.0</td>\n",
       "      <td>SINGLE</td>\n",
       "      <td>Rented - Alone</td>\n",
       "      <td>21000.0</td>\n",
       "      <td>1500</td>\n",
       "      <td>INDIVIDUAL</td>\n",
       "      <td>1</td>\n",
       "      <td>0</td>\n",
       "      <td>0</td>\n",
       "      <td>0</td>\n",
       "    </tr>\n",
       "    <tr>\n",
       "      <th>12810</th>\n",
       "      <td>1AFL1VT</td>\n",
       "      <td>CREDIT CARD</td>\n",
       "      <td>45318</td>\n",
       "      <td>24.786272</td>\n",
       "      <td>wedding</td>\n",
       "      <td>260000.0</td>\n",
       "      <td>SINGLE</td>\n",
       "      <td>Rented - Alone</td>\n",
       "      <td>31000.0</td>\n",
       "      <td>6000</td>\n",
       "      <td>INDIVIDUAL</td>\n",
       "      <td>1</td>\n",
       "      <td>0</td>\n",
       "      <td>25432</td>\n",
       "      <td>0</td>\n",
       "    </tr>\n",
       "    <tr>\n",
       "      <th>12811</th>\n",
       "      <td>1AFKVOI</td>\n",
       "      <td>PERSONAL LOAN</td>\n",
       "      <td>285448</td>\n",
       "      <td>31.598185</td>\n",
       "      <td>homeimprovement</td>\n",
       "      <td>500000.0</td>\n",
       "      <td>MARRIED</td>\n",
       "      <td>Rented - Family</td>\n",
       "      <td>60000.0</td>\n",
       "      <td>6000</td>\n",
       "      <td>INDIVIDUAL</td>\n",
       "      <td>3</td>\n",
       "      <td>0</td>\n",
       "      <td>167230</td>\n",
       "      <td>0</td>\n",
       "    </tr>\n",
       "    <tr>\n",
       "      <th>12812</th>\n",
       "      <td>1AFKS77</td>\n",
       "      <td>CREDIT CARD</td>\n",
       "      <td>5930</td>\n",
       "      <td>28.337338</td>\n",
       "      <td>Personal</td>\n",
       "      <td>50000.0</td>\n",
       "      <td>SINGLE</td>\n",
       "      <td>Rented - Family</td>\n",
       "      <td>20000.0</td>\n",
       "      <td>6000</td>\n",
       "      <td>INDIVIDUAL</td>\n",
       "      <td>2</td>\n",
       "      <td>0</td>\n",
       "      <td>18915</td>\n",
       "      <td>0</td>\n",
       "    </tr>\n",
       "  </tbody>\n",
       "</table>\n",
       "<p>12813 rows × 15 columns</p>\n",
       "</div>"
      ],
      "text/plain": [
       "           UID           type  loan_amount        age  purpose_of_loan  \\\n",
       "0      1JIJ98G  PERSONAL LOAN      1000000  45.137135          wedding   \n",
       "1      1ITH0P5  PERSONAL LOAN       381412  31.850072            other   \n",
       "2      1ITDL9J  PERSONAL LOAN        84770  37.898109          wedding   \n",
       "3      1I6G9PG  PERSONAL LOAN       712844  30.097812  loanrefinancing   \n",
       "4      1I5K2R3  PERSONAL LOAN       195206  33.104034         Personal   \n",
       "...        ...            ...          ...        ...              ...   \n",
       "12808  1AG01U9  PERSONAL LOAN        25000  33.046538  loanrefinancing   \n",
       "12809  1AFL31H    CREDIT CARD         2499  23.833481            other   \n",
       "12810  1AFL1VT    CREDIT CARD        45318  24.786272          wedding   \n",
       "12811  1AFKVOI  PERSONAL LOAN       285448  31.598185  homeimprovement   \n",
       "12812  1AFKS77    CREDIT CARD         5930  28.337338         Personal   \n",
       "\n",
       "       requested_amount marital_status    residenceType    income  \\\n",
       "0              500000.0        MARRIED        Own House  150000.0   \n",
       "1              500000.0        MARRIED  Rented - Family   60000.0   \n",
       "2              500000.0        MARRIED  Rented - Family  100000.0   \n",
       "3               60000.0         SINGLE        Own House   60000.0   \n",
       "4               50000.0        MARRIED        Own House   31700.0   \n",
       "...                 ...            ...              ...       ...   \n",
       "12808          200000.0        MARRIED  Rented - Family   25000.0   \n",
       "12809          500000.0         SINGLE   Rented - Alone   21000.0   \n",
       "12810          260000.0         SINGLE   Rented - Alone   31000.0   \n",
       "12811          500000.0        MARRIED  Rented - Family   60000.0   \n",
       "12812           50000.0         SINGLE  Rented - Family   20000.0   \n",
       "\n",
       "       monthly_rent   ownership  number_prev_loans  prev_def  prev_bal  \\\n",
       "0                 0  INDIVIDUAL                  9         0         0   \n",
       "1              5000  INDIVIDUAL                 16         1     72720   \n",
       "2              8000  INDIVIDUAL                  5         0    387762   \n",
       "3                 0  INDIVIDUAL                 14         0   1059828   \n",
       "4                 0  INDIVIDUAL                  4         0     42361   \n",
       "...             ...         ...                ...       ...       ...   \n",
       "12808          6000  INDIVIDUAL                  5         0    100143   \n",
       "12809          1500  INDIVIDUAL                  1         0         0   \n",
       "12810          6000  INDIVIDUAL                  1         0     25432   \n",
       "12811          6000  INDIVIDUAL                  3         0    167230   \n",
       "12812          6000  INDIVIDUAL                  2         0     18915   \n",
       "\n",
       "       loan_default  \n",
       "0                 0  \n",
       "1                 0  \n",
       "2                 0  \n",
       "3                 0  \n",
       "4                 0  \n",
       "...             ...  \n",
       "12808             0  \n",
       "12809             0  \n",
       "12810             0  \n",
       "12811             0  \n",
       "12812             0  \n",
       "\n",
       "[12813 rows x 15 columns]"
      ]
     },
     "execution_count": 1,
     "metadata": {},
     "output_type": "execute_result"
    }
   ],
   "source": [
    "#import combined table to python\n",
    "\n",
    "import pandas as pd\n",
    "model = pd.read_csv(\"D:\\Internship\\Dataset\\FinalModeliteration\\FinalModel.csv\")\n",
    "model"
   ]
  },
  {
   "cell_type": "code",
   "execution_count": 2,
   "id": "5c272ae6",
   "metadata": {},
   "outputs": [
    {
     "data": {
      "text/html": [
       "<div>\n",
       "<style scoped>\n",
       "    .dataframe tbody tr th:only-of-type {\n",
       "        vertical-align: middle;\n",
       "    }\n",
       "\n",
       "    .dataframe tbody tr th {\n",
       "        vertical-align: top;\n",
       "    }\n",
       "\n",
       "    .dataframe thead th {\n",
       "        text-align: right;\n",
       "    }\n",
       "</style>\n",
       "<table border=\"1\" class=\"dataframe\">\n",
       "  <thead>\n",
       "    <tr style=\"text-align: right;\">\n",
       "      <th></th>\n",
       "      <th>UID</th>\n",
       "      <th>type</th>\n",
       "      <th>loan_amount</th>\n",
       "      <th>age</th>\n",
       "      <th>purpose_of_loan</th>\n",
       "      <th>requested_amount</th>\n",
       "      <th>marital_status</th>\n",
       "      <th>residenceType</th>\n",
       "      <th>income</th>\n",
       "      <th>monthly_rent</th>\n",
       "      <th>ownership</th>\n",
       "      <th>number_prev_loans</th>\n",
       "      <th>prev_def</th>\n",
       "      <th>prev_bal</th>\n",
       "      <th>loan_default</th>\n",
       "    </tr>\n",
       "  </thead>\n",
       "  <tbody>\n",
       "    <tr>\n",
       "      <th>10</th>\n",
       "      <td>1HI1JCU</td>\n",
       "      <td>CREDIT CARD</td>\n",
       "      <td>0</td>\n",
       "      <td>27.844514</td>\n",
       "      <td>other</td>\n",
       "      <td>400000.0</td>\n",
       "      <td>SINGLE</td>\n",
       "      <td>Own House</td>\n",
       "      <td>23452.0</td>\n",
       "      <td>0</td>\n",
       "      <td>INDIVIDUAL</td>\n",
       "      <td>2</td>\n",
       "      <td>0</td>\n",
       "      <td>61152</td>\n",
       "      <td>1</td>\n",
       "    </tr>\n",
       "    <tr>\n",
       "      <th>11</th>\n",
       "      <td>1HHRUQ4</td>\n",
       "      <td>CREDIT CARD</td>\n",
       "      <td>0</td>\n",
       "      <td>23.592545</td>\n",
       "      <td>other</td>\n",
       "      <td>300000.0</td>\n",
       "      <td>SINGLE</td>\n",
       "      <td>Rented - Family</td>\n",
       "      <td>26000.0</td>\n",
       "      <td>8000</td>\n",
       "      <td>INDIVIDUAL</td>\n",
       "      <td>1</td>\n",
       "      <td>0</td>\n",
       "      <td>3477</td>\n",
       "      <td>1</td>\n",
       "    </tr>\n",
       "    <tr>\n",
       "      <th>15</th>\n",
       "      <td>1HFPJVJ</td>\n",
       "      <td>CREDIT CARD</td>\n",
       "      <td>0</td>\n",
       "      <td>22.932709</td>\n",
       "      <td>Personal</td>\n",
       "      <td>220000.0</td>\n",
       "      <td>SINGLE</td>\n",
       "      <td>Own House</td>\n",
       "      <td>30000.0</td>\n",
       "      <td>0</td>\n",
       "      <td>INDIVIDUAL</td>\n",
       "      <td>3</td>\n",
       "      <td>1</td>\n",
       "      <td>1480</td>\n",
       "      <td>1</td>\n",
       "    </tr>\n",
       "    <tr>\n",
       "      <th>21</th>\n",
       "      <td>1HFP2K8</td>\n",
       "      <td>PERSONAL LOAN</td>\n",
       "      <td>59226</td>\n",
       "      <td>27.463945</td>\n",
       "      <td>Personal</td>\n",
       "      <td>75000.0</td>\n",
       "      <td>SINGLE</td>\n",
       "      <td>Own House</td>\n",
       "      <td>22000.0</td>\n",
       "      <td>0</td>\n",
       "      <td>INDIVIDUAL</td>\n",
       "      <td>3</td>\n",
       "      <td>1</td>\n",
       "      <td>37329</td>\n",
       "      <td>1</td>\n",
       "    </tr>\n",
       "    <tr>\n",
       "      <th>23</th>\n",
       "      <td>1HFP1BD</td>\n",
       "      <td>TWO-WHEELER LOAN</td>\n",
       "      <td>33194</td>\n",
       "      <td>26.793158</td>\n",
       "      <td>homeimprovement</td>\n",
       "      <td>200000.0</td>\n",
       "      <td>MARRIED</td>\n",
       "      <td>Own House</td>\n",
       "      <td>50000.0</td>\n",
       "      <td>0</td>\n",
       "      <td>INDIVIDUAL</td>\n",
       "      <td>4</td>\n",
       "      <td>1</td>\n",
       "      <td>0</td>\n",
       "      <td>1</td>\n",
       "    </tr>\n",
       "    <tr>\n",
       "      <th>...</th>\n",
       "      <td>...</td>\n",
       "      <td>...</td>\n",
       "      <td>...</td>\n",
       "      <td>...</td>\n",
       "      <td>...</td>\n",
       "      <td>...</td>\n",
       "      <td>...</td>\n",
       "      <td>...</td>\n",
       "      <td>...</td>\n",
       "      <td>...</td>\n",
       "      <td>...</td>\n",
       "      <td>...</td>\n",
       "      <td>...</td>\n",
       "      <td>...</td>\n",
       "      <td>...</td>\n",
       "    </tr>\n",
       "    <tr>\n",
       "      <th>12773</th>\n",
       "      <td>1AKCRF8</td>\n",
       "      <td>PERSONAL LOAN</td>\n",
       "      <td>0</td>\n",
       "      <td>27.417401</td>\n",
       "      <td>Personal</td>\n",
       "      <td>500000.0</td>\n",
       "      <td>SINGLE</td>\n",
       "      <td>Own House</td>\n",
       "      <td>70000.0</td>\n",
       "      <td>0</td>\n",
       "      <td>INDIVIDUAL</td>\n",
       "      <td>1</td>\n",
       "      <td>1</td>\n",
       "      <td>0</td>\n",
       "      <td>1</td>\n",
       "    </tr>\n",
       "    <tr>\n",
       "      <th>12787</th>\n",
       "      <td>1AJN6HP</td>\n",
       "      <td>CREDIT CARD</td>\n",
       "      <td>0</td>\n",
       "      <td>32.701561</td>\n",
       "      <td>loanrefinancing</td>\n",
       "      <td>400000.0</td>\n",
       "      <td>SINGLE</td>\n",
       "      <td>Rented - Family</td>\n",
       "      <td>40000.0</td>\n",
       "      <td>10000</td>\n",
       "      <td>INDIVIDUAL</td>\n",
       "      <td>10</td>\n",
       "      <td>1</td>\n",
       "      <td>72217</td>\n",
       "      <td>1</td>\n",
       "    </tr>\n",
       "    <tr>\n",
       "      <th>12790</th>\n",
       "      <td>1AJLCJ7</td>\n",
       "      <td>CREDIT CARD</td>\n",
       "      <td>0</td>\n",
       "      <td>48.167998</td>\n",
       "      <td>other</td>\n",
       "      <td>150000.0</td>\n",
       "      <td>MARRIED</td>\n",
       "      <td>Own House</td>\n",
       "      <td>21500.0</td>\n",
       "      <td>0</td>\n",
       "      <td>GUARANTOR</td>\n",
       "      <td>2</td>\n",
       "      <td>0</td>\n",
       "      <td>1876155</td>\n",
       "      <td>1</td>\n",
       "    </tr>\n",
       "    <tr>\n",
       "      <th>12794</th>\n",
       "      <td>1AIITM4</td>\n",
       "      <td>CREDIT CARD</td>\n",
       "      <td>0</td>\n",
       "      <td>35.937767</td>\n",
       "      <td>homeimprovement</td>\n",
       "      <td>500000.0</td>\n",
       "      <td>MARRIED</td>\n",
       "      <td>Rented - Alone</td>\n",
       "      <td>36000.0</td>\n",
       "      <td>6000</td>\n",
       "      <td>JOINT</td>\n",
       "      <td>3</td>\n",
       "      <td>1</td>\n",
       "      <td>0</td>\n",
       "      <td>1</td>\n",
       "    </tr>\n",
       "    <tr>\n",
       "      <th>12806</th>\n",
       "      <td>1AG2OG1</td>\n",
       "      <td>TWO-WHEELER LOAN</td>\n",
       "      <td>0</td>\n",
       "      <td>21.131166</td>\n",
       "      <td>homeimprovement</td>\n",
       "      <td>500000.0</td>\n",
       "      <td>MARRIED</td>\n",
       "      <td>Own House</td>\n",
       "      <td>27000.0</td>\n",
       "      <td>0</td>\n",
       "      <td>INDIVIDUAL</td>\n",
       "      <td>1</td>\n",
       "      <td>0</td>\n",
       "      <td>0</td>\n",
       "      <td>1</td>\n",
       "    </tr>\n",
       "  </tbody>\n",
       "</table>\n",
       "<p>2493 rows × 15 columns</p>\n",
       "</div>"
      ],
      "text/plain": [
       "           UID              type  loan_amount        age  purpose_of_loan  \\\n",
       "10     1HI1JCU       CREDIT CARD            0  27.844514            other   \n",
       "11     1HHRUQ4       CREDIT CARD            0  23.592545            other   \n",
       "15     1HFPJVJ       CREDIT CARD            0  22.932709         Personal   \n",
       "21     1HFP2K8     PERSONAL LOAN        59226  27.463945         Personal   \n",
       "23     1HFP1BD  TWO-WHEELER LOAN        33194  26.793158  homeimprovement   \n",
       "...        ...               ...          ...        ...              ...   \n",
       "12773  1AKCRF8     PERSONAL LOAN            0  27.417401         Personal   \n",
       "12787  1AJN6HP       CREDIT CARD            0  32.701561  loanrefinancing   \n",
       "12790  1AJLCJ7       CREDIT CARD            0  48.167998            other   \n",
       "12794  1AIITM4       CREDIT CARD            0  35.937767  homeimprovement   \n",
       "12806  1AG2OG1  TWO-WHEELER LOAN            0  21.131166  homeimprovement   \n",
       "\n",
       "       requested_amount marital_status    residenceType   income  \\\n",
       "10             400000.0         SINGLE        Own House  23452.0   \n",
       "11             300000.0         SINGLE  Rented - Family  26000.0   \n",
       "15             220000.0         SINGLE        Own House  30000.0   \n",
       "21              75000.0         SINGLE        Own House  22000.0   \n",
       "23             200000.0        MARRIED        Own House  50000.0   \n",
       "...                 ...            ...              ...      ...   \n",
       "12773          500000.0         SINGLE        Own House  70000.0   \n",
       "12787          400000.0         SINGLE  Rented - Family  40000.0   \n",
       "12790          150000.0        MARRIED        Own House  21500.0   \n",
       "12794          500000.0        MARRIED   Rented - Alone  36000.0   \n",
       "12806          500000.0        MARRIED        Own House  27000.0   \n",
       "\n",
       "       monthly_rent   ownership  number_prev_loans  prev_def  prev_bal  \\\n",
       "10                0  INDIVIDUAL                  2         0     61152   \n",
       "11             8000  INDIVIDUAL                  1         0      3477   \n",
       "15                0  INDIVIDUAL                  3         1      1480   \n",
       "21                0  INDIVIDUAL                  3         1     37329   \n",
       "23                0  INDIVIDUAL                  4         1         0   \n",
       "...             ...         ...                ...       ...       ...   \n",
       "12773             0  INDIVIDUAL                  1         1         0   \n",
       "12787         10000  INDIVIDUAL                 10         1     72217   \n",
       "12790             0   GUARANTOR                  2         0   1876155   \n",
       "12794          6000       JOINT                  3         1         0   \n",
       "12806             0  INDIVIDUAL                  1         0         0   \n",
       "\n",
       "       loan_default  \n",
       "10                1  \n",
       "11                1  \n",
       "15                1  \n",
       "21                1  \n",
       "23                1  \n",
       "...             ...  \n",
       "12773             1  \n",
       "12787             1  \n",
       "12790             1  \n",
       "12794             1  \n",
       "12806             1  \n",
       "\n",
       "[2493 rows x 15 columns]"
      ]
     },
     "execution_count": 2,
     "metadata": {},
     "output_type": "execute_result"
    }
   ],
   "source": [
    "df_defaulted = model.loc[model['loan_default']==1]\n",
    "df_defaulted"
   ]
  },
  {
   "cell_type": "code",
   "execution_count": 3,
   "id": "ba30d92b",
   "metadata": {},
   "outputs": [
    {
     "data": {
      "text/html": [
       "<div>\n",
       "<style scoped>\n",
       "    .dataframe tbody tr th:only-of-type {\n",
       "        vertical-align: middle;\n",
       "    }\n",
       "\n",
       "    .dataframe tbody tr th {\n",
       "        vertical-align: top;\n",
       "    }\n",
       "\n",
       "    .dataframe thead th {\n",
       "        text-align: right;\n",
       "    }\n",
       "</style>\n",
       "<table border=\"1\" class=\"dataframe\">\n",
       "  <thead>\n",
       "    <tr style=\"text-align: right;\">\n",
       "      <th></th>\n",
       "      <th>UID</th>\n",
       "      <th>type</th>\n",
       "      <th>loan_amount</th>\n",
       "      <th>age</th>\n",
       "      <th>purpose_of_loan</th>\n",
       "      <th>requested_amount</th>\n",
       "      <th>marital_status</th>\n",
       "      <th>residenceType</th>\n",
       "      <th>income</th>\n",
       "      <th>monthly_rent</th>\n",
       "      <th>ownership</th>\n",
       "      <th>number_prev_loans</th>\n",
       "      <th>prev_def</th>\n",
       "      <th>prev_bal</th>\n",
       "      <th>loan_default</th>\n",
       "    </tr>\n",
       "  </thead>\n",
       "  <tbody>\n",
       "    <tr>\n",
       "      <th>0</th>\n",
       "      <td>1JIJ98G</td>\n",
       "      <td>PERSONAL LOAN</td>\n",
       "      <td>1000000</td>\n",
       "      <td>45.137135</td>\n",
       "      <td>wedding</td>\n",
       "      <td>500000.0</td>\n",
       "      <td>MARRIED</td>\n",
       "      <td>Own House</td>\n",
       "      <td>150000.0</td>\n",
       "      <td>0</td>\n",
       "      <td>INDIVIDUAL</td>\n",
       "      <td>9</td>\n",
       "      <td>0</td>\n",
       "      <td>0</td>\n",
       "      <td>0</td>\n",
       "    </tr>\n",
       "    <tr>\n",
       "      <th>1</th>\n",
       "      <td>1ITH0P5</td>\n",
       "      <td>PERSONAL LOAN</td>\n",
       "      <td>381412</td>\n",
       "      <td>31.850072</td>\n",
       "      <td>other</td>\n",
       "      <td>500000.0</td>\n",
       "      <td>MARRIED</td>\n",
       "      <td>Rented - Family</td>\n",
       "      <td>60000.0</td>\n",
       "      <td>5000</td>\n",
       "      <td>INDIVIDUAL</td>\n",
       "      <td>16</td>\n",
       "      <td>1</td>\n",
       "      <td>72720</td>\n",
       "      <td>0</td>\n",
       "    </tr>\n",
       "    <tr>\n",
       "      <th>2</th>\n",
       "      <td>1ITDL9J</td>\n",
       "      <td>PERSONAL LOAN</td>\n",
       "      <td>84770</td>\n",
       "      <td>37.898109</td>\n",
       "      <td>wedding</td>\n",
       "      <td>500000.0</td>\n",
       "      <td>MARRIED</td>\n",
       "      <td>Rented - Family</td>\n",
       "      <td>100000.0</td>\n",
       "      <td>8000</td>\n",
       "      <td>INDIVIDUAL</td>\n",
       "      <td>5</td>\n",
       "      <td>0</td>\n",
       "      <td>387762</td>\n",
       "      <td>0</td>\n",
       "    </tr>\n",
       "    <tr>\n",
       "      <th>3</th>\n",
       "      <td>1I6G9PG</td>\n",
       "      <td>PERSONAL LOAN</td>\n",
       "      <td>712844</td>\n",
       "      <td>30.097812</td>\n",
       "      <td>loanrefinancing</td>\n",
       "      <td>60000.0</td>\n",
       "      <td>SINGLE</td>\n",
       "      <td>Own House</td>\n",
       "      <td>60000.0</td>\n",
       "      <td>0</td>\n",
       "      <td>INDIVIDUAL</td>\n",
       "      <td>14</td>\n",
       "      <td>0</td>\n",
       "      <td>1059828</td>\n",
       "      <td>0</td>\n",
       "    </tr>\n",
       "    <tr>\n",
       "      <th>4</th>\n",
       "      <td>1I5K2R3</td>\n",
       "      <td>PERSONAL LOAN</td>\n",
       "      <td>195206</td>\n",
       "      <td>33.104034</td>\n",
       "      <td>Personal</td>\n",
       "      <td>50000.0</td>\n",
       "      <td>MARRIED</td>\n",
       "      <td>Own House</td>\n",
       "      <td>31700.0</td>\n",
       "      <td>0</td>\n",
       "      <td>INDIVIDUAL</td>\n",
       "      <td>4</td>\n",
       "      <td>0</td>\n",
       "      <td>42361</td>\n",
       "      <td>0</td>\n",
       "    </tr>\n",
       "    <tr>\n",
       "      <th>...</th>\n",
       "      <td>...</td>\n",
       "      <td>...</td>\n",
       "      <td>...</td>\n",
       "      <td>...</td>\n",
       "      <td>...</td>\n",
       "      <td>...</td>\n",
       "      <td>...</td>\n",
       "      <td>...</td>\n",
       "      <td>...</td>\n",
       "      <td>...</td>\n",
       "      <td>...</td>\n",
       "      <td>...</td>\n",
       "      <td>...</td>\n",
       "      <td>...</td>\n",
       "      <td>...</td>\n",
       "    </tr>\n",
       "    <tr>\n",
       "      <th>12808</th>\n",
       "      <td>1AG01U9</td>\n",
       "      <td>PERSONAL LOAN</td>\n",
       "      <td>25000</td>\n",
       "      <td>33.046538</td>\n",
       "      <td>loanrefinancing</td>\n",
       "      <td>200000.0</td>\n",
       "      <td>MARRIED</td>\n",
       "      <td>Rented - Family</td>\n",
       "      <td>25000.0</td>\n",
       "      <td>6000</td>\n",
       "      <td>INDIVIDUAL</td>\n",
       "      <td>5</td>\n",
       "      <td>0</td>\n",
       "      <td>100143</td>\n",
       "      <td>0</td>\n",
       "    </tr>\n",
       "    <tr>\n",
       "      <th>12809</th>\n",
       "      <td>1AFL31H</td>\n",
       "      <td>CREDIT CARD</td>\n",
       "      <td>2499</td>\n",
       "      <td>23.833481</td>\n",
       "      <td>other</td>\n",
       "      <td>500000.0</td>\n",
       "      <td>SINGLE</td>\n",
       "      <td>Rented - Alone</td>\n",
       "      <td>21000.0</td>\n",
       "      <td>1500</td>\n",
       "      <td>INDIVIDUAL</td>\n",
       "      <td>1</td>\n",
       "      <td>0</td>\n",
       "      <td>0</td>\n",
       "      <td>0</td>\n",
       "    </tr>\n",
       "    <tr>\n",
       "      <th>12810</th>\n",
       "      <td>1AFL1VT</td>\n",
       "      <td>CREDIT CARD</td>\n",
       "      <td>45318</td>\n",
       "      <td>24.786272</td>\n",
       "      <td>wedding</td>\n",
       "      <td>260000.0</td>\n",
       "      <td>SINGLE</td>\n",
       "      <td>Rented - Alone</td>\n",
       "      <td>31000.0</td>\n",
       "      <td>6000</td>\n",
       "      <td>INDIVIDUAL</td>\n",
       "      <td>1</td>\n",
       "      <td>0</td>\n",
       "      <td>25432</td>\n",
       "      <td>0</td>\n",
       "    </tr>\n",
       "    <tr>\n",
       "      <th>12811</th>\n",
       "      <td>1AFKVOI</td>\n",
       "      <td>PERSONAL LOAN</td>\n",
       "      <td>285448</td>\n",
       "      <td>31.598185</td>\n",
       "      <td>homeimprovement</td>\n",
       "      <td>500000.0</td>\n",
       "      <td>MARRIED</td>\n",
       "      <td>Rented - Family</td>\n",
       "      <td>60000.0</td>\n",
       "      <td>6000</td>\n",
       "      <td>INDIVIDUAL</td>\n",
       "      <td>3</td>\n",
       "      <td>0</td>\n",
       "      <td>167230</td>\n",
       "      <td>0</td>\n",
       "    </tr>\n",
       "    <tr>\n",
       "      <th>12812</th>\n",
       "      <td>1AFKS77</td>\n",
       "      <td>CREDIT CARD</td>\n",
       "      <td>5930</td>\n",
       "      <td>28.337338</td>\n",
       "      <td>Personal</td>\n",
       "      <td>50000.0</td>\n",
       "      <td>SINGLE</td>\n",
       "      <td>Rented - Family</td>\n",
       "      <td>20000.0</td>\n",
       "      <td>6000</td>\n",
       "      <td>INDIVIDUAL</td>\n",
       "      <td>2</td>\n",
       "      <td>0</td>\n",
       "      <td>18915</td>\n",
       "      <td>0</td>\n",
       "    </tr>\n",
       "  </tbody>\n",
       "</table>\n",
       "<p>10320 rows × 15 columns</p>\n",
       "</div>"
      ],
      "text/plain": [
       "           UID           type  loan_amount        age  purpose_of_loan  \\\n",
       "0      1JIJ98G  PERSONAL LOAN      1000000  45.137135          wedding   \n",
       "1      1ITH0P5  PERSONAL LOAN       381412  31.850072            other   \n",
       "2      1ITDL9J  PERSONAL LOAN        84770  37.898109          wedding   \n",
       "3      1I6G9PG  PERSONAL LOAN       712844  30.097812  loanrefinancing   \n",
       "4      1I5K2R3  PERSONAL LOAN       195206  33.104034         Personal   \n",
       "...        ...            ...          ...        ...              ...   \n",
       "12808  1AG01U9  PERSONAL LOAN        25000  33.046538  loanrefinancing   \n",
       "12809  1AFL31H    CREDIT CARD         2499  23.833481            other   \n",
       "12810  1AFL1VT    CREDIT CARD        45318  24.786272          wedding   \n",
       "12811  1AFKVOI  PERSONAL LOAN       285448  31.598185  homeimprovement   \n",
       "12812  1AFKS77    CREDIT CARD         5930  28.337338         Personal   \n",
       "\n",
       "       requested_amount marital_status    residenceType    income  \\\n",
       "0              500000.0        MARRIED        Own House  150000.0   \n",
       "1              500000.0        MARRIED  Rented - Family   60000.0   \n",
       "2              500000.0        MARRIED  Rented - Family  100000.0   \n",
       "3               60000.0         SINGLE        Own House   60000.0   \n",
       "4               50000.0        MARRIED        Own House   31700.0   \n",
       "...                 ...            ...              ...       ...   \n",
       "12808          200000.0        MARRIED  Rented - Family   25000.0   \n",
       "12809          500000.0         SINGLE   Rented - Alone   21000.0   \n",
       "12810          260000.0         SINGLE   Rented - Alone   31000.0   \n",
       "12811          500000.0        MARRIED  Rented - Family   60000.0   \n",
       "12812           50000.0         SINGLE  Rented - Family   20000.0   \n",
       "\n",
       "       monthly_rent   ownership  number_prev_loans  prev_def  prev_bal  \\\n",
       "0                 0  INDIVIDUAL                  9         0         0   \n",
       "1              5000  INDIVIDUAL                 16         1     72720   \n",
       "2              8000  INDIVIDUAL                  5         0    387762   \n",
       "3                 0  INDIVIDUAL                 14         0   1059828   \n",
       "4                 0  INDIVIDUAL                  4         0     42361   \n",
       "...             ...         ...                ...       ...       ...   \n",
       "12808          6000  INDIVIDUAL                  5         0    100143   \n",
       "12809          1500  INDIVIDUAL                  1         0         0   \n",
       "12810          6000  INDIVIDUAL                  1         0     25432   \n",
       "12811          6000  INDIVIDUAL                  3         0    167230   \n",
       "12812          6000  INDIVIDUAL                  2         0     18915   \n",
       "\n",
       "       loan_default  \n",
       "0                 0  \n",
       "1                 0  \n",
       "2                 0  \n",
       "3                 0  \n",
       "4                 0  \n",
       "...             ...  \n",
       "12808             0  \n",
       "12809             0  \n",
       "12810             0  \n",
       "12811             0  \n",
       "12812             0  \n",
       "\n",
       "[10320 rows x 15 columns]"
      ]
     },
     "execution_count": 3,
     "metadata": {},
     "output_type": "execute_result"
    }
   ],
   "source": [
    "df_notdefaulted = model.loc[model['loan_default']==0]\n",
    "df_notdefaulted"
   ]
  },
  {
   "cell_type": "code",
   "execution_count": 4,
   "id": "651d078f",
   "metadata": {},
   "outputs": [],
   "source": [
    "import numpy as np\n",
    "import matplotlib.pyplot as plt\n",
    "import seaborn as sns"
   ]
  },
  {
   "cell_type": "markdown",
   "id": "3c32a4ca",
   "metadata": {},
   "source": [
    "#  Age"
   ]
  },
  {
   "cell_type": "code",
   "execution_count": 5,
   "id": "23cea397",
   "metadata": {},
   "outputs": [
    {
     "data": {
      "image/png": "[encoded data removed]",
      "text/plain": [
       "<Figure size 432x288 with 1 Axes>"
      ]
     },
     "metadata": {
      "needs_background": "light"
     },
     "output_type": "display_data"
    }
   ],
   "source": [
    "plt.plot(df_defaulted['age'],np.zeros_like(df_defaulted['age']),'o')\n",
    "plt.xlabel('Age')\n",
    "plt.show()\n",
    "agedef = df_defaulted['age']\n",
    "#agedef.to_csv(r'D:\\Internship\\Dataset\\TablesForUnivariateAnalysis\\agedef.csv')"
   ]
  },
  {
   "cell_type": "code",
   "execution_count": 6,
   "id": "7bcf741d",
   "metadata": {},
   "outputs": [
    {
     "data": {
      "image/png": "[encoded data removed]",
      "text/plain": [
       "<Figure size 432x288 with 1 Axes>"
      ]
     },
     "metadata": {
      "needs_background": "light"
     },
     "output_type": "display_data"
    }
   ],
   "source": [
    "plt.plot(df_notdefaulted['age'],np.zeros_like(df_notdefaulted['age']),'o')\n",
    "plt.xlabel('Age')\n",
    "plt.show()\n",
    "agenotdef = df_notdefaulted['age']\n",
    "#agenotdef.to_csv(r'D:\\Internship\\Dataset\\TablesForUnivariateAnalysis\\agenotdef.csv')"
   ]
  },
  {
   "cell_type": "code",
   "execution_count": 7,
   "id": "483d5e23",
   "metadata": {},
   "outputs": [
    {
     "data": {
      "text/plain": [
       "count    2493.000000\n",
       "mean       29.661762\n",
       "std         5.802872\n",
       "min        17.298096\n",
       "25%        25.498128\n",
       "50%        28.419475\n",
       "75%        32.403129\n",
       "max        63.141611\n",
       "Name: age, dtype: float64"
      ]
     },
     "execution_count": 7,
     "metadata": {},
     "output_type": "execute_result"
    }
   ],
   "source": [
    "df_defaulted['age'].describe()"
   ]
  },
  {
   "cell_type": "code",
   "execution_count": 8,
   "id": "f648c88c",
   "metadata": {},
   "outputs": [
    {
     "data": {
      "text/plain": [
       "count    10320.000000\n",
       "mean        30.561819\n",
       "std          5.857741\n",
       "min         18.902510\n",
       "25%         26.292121\n",
       "50%         29.294236\n",
       "75%         33.402465\n",
       "max         58.043629\n",
       "Name: age, dtype: float64"
      ]
     },
     "execution_count": 8,
     "metadata": {},
     "output_type": "execute_result"
    }
   ],
   "source": [
    "df_notdefaulted['age'].describe()"
   ]
  },
  {
   "cell_type": "markdown",
   "id": "62d672a5",
   "metadata": {},
   "source": [
    "# Loan Type"
   ]
  },
  {
   "cell_type": "code",
   "execution_count": 9,
   "id": "31143910",
   "metadata": {},
   "outputs": [
    {
     "data": {
      "text/html": [
       "<div>\n",
       "<style scoped>\n",
       "    .dataframe tbody tr th:only-of-type {\n",
       "        vertical-align: middle;\n",
       "    }\n",
       "\n",
       "    .dataframe tbody tr th {\n",
       "        vertical-align: top;\n",
       "    }\n",
       "\n",
       "    .dataframe thead th {\n",
       "        text-align: right;\n",
       "    }\n",
       "</style>\n",
       "<table border=\"1\" class=\"dataframe\">\n",
       "  <thead>\n",
       "    <tr style=\"text-align: right;\">\n",
       "      <th></th>\n",
       "      <th>Type</th>\n",
       "      <th>Number</th>\n",
       "    </tr>\n",
       "  </thead>\n",
       "  <tbody>\n",
       "    <tr>\n",
       "      <th>0</th>\n",
       "      <td>CREDIT CARD</td>\n",
       "      <td>1844</td>\n",
       "    </tr>\n",
       "    <tr>\n",
       "      <th>1</th>\n",
       "      <td>PERSONAL LOAN</td>\n",
       "      <td>516</td>\n",
       "    </tr>\n",
       "    <tr>\n",
       "      <th>2</th>\n",
       "      <td>TWO-WHEELER LOAN</td>\n",
       "      <td>133</td>\n",
       "    </tr>\n",
       "  </tbody>\n",
       "</table>\n",
       "</div>"
      ],
      "text/plain": [
       "               Type  Number\n",
       "0       CREDIT CARD    1844\n",
       "1     PERSONAL LOAN     516\n",
       "2  TWO-WHEELER LOAN     133"
      ]
     },
     "execution_count": 9,
     "metadata": {},
     "output_type": "execute_result"
    }
   ],
   "source": [
    "type_def = df_defaulted['type'].value_counts().to_frame()\n",
    "type_def = type_def.reset_index()\n",
    "type_def.columns = ['Type','Number']\n",
    "type_def"
   ]
  },
  {
   "cell_type": "code",
   "execution_count": 10,
   "id": "7f17ec9d",
   "metadata": {},
   "outputs": [],
   "source": [
    "#type_def.to_csv(r'D:\\Internship\\Dataset\\TablesForUnivariateAnalysis\\typedef.csv')"
   ]
  },
  {
   "cell_type": "code",
   "execution_count": 11,
   "id": "a67373e1",
   "metadata": {},
   "outputs": [
    {
     "data": {
      "text/html": [
       "<div>\n",
       "<style scoped>\n",
       "    .dataframe tbody tr th:only-of-type {\n",
       "        vertical-align: middle;\n",
       "    }\n",
       "\n",
       "    .dataframe tbody tr th {\n",
       "        vertical-align: top;\n",
       "    }\n",
       "\n",
       "    .dataframe thead th {\n",
       "        text-align: right;\n",
       "    }\n",
       "</style>\n",
       "<table border=\"1\" class=\"dataframe\">\n",
       "  <thead>\n",
       "    <tr style=\"text-align: right;\">\n",
       "      <th></th>\n",
       "      <th>Type</th>\n",
       "      <th>Number</th>\n",
       "    </tr>\n",
       "  </thead>\n",
       "  <tbody>\n",
       "    <tr>\n",
       "      <th>0</th>\n",
       "      <td>CREDIT CARD</td>\n",
       "      <td>4922</td>\n",
       "    </tr>\n",
       "    <tr>\n",
       "      <th>1</th>\n",
       "      <td>PERSONAL LOAN</td>\n",
       "      <td>4436</td>\n",
       "    </tr>\n",
       "    <tr>\n",
       "      <th>2</th>\n",
       "      <td>TWO-WHEELER LOAN</td>\n",
       "      <td>962</td>\n",
       "    </tr>\n",
       "  </tbody>\n",
       "</table>\n",
       "</div>"
      ],
      "text/plain": [
       "               Type  Number\n",
       "0       CREDIT CARD    4922\n",
       "1     PERSONAL LOAN    4436\n",
       "2  TWO-WHEELER LOAN     962"
      ]
     },
     "execution_count": 11,
     "metadata": {},
     "output_type": "execute_result"
    }
   ],
   "source": [
    "type_notdef = df_notdefaulted['type'].value_counts().to_frame()\n",
    "type_notdef = type_notdef.reset_index()\n",
    "type_notdef.columns = ['Type','Number']\n",
    "type_notdef"
   ]
  },
  {
   "cell_type": "code",
   "execution_count": 12,
   "id": "65692487",
   "metadata": {},
   "outputs": [],
   "source": [
    "#type_notdef.to_csv(r'D:\\Internship\\Dataset\\TablesForUnivariateAnalysis\\typenotdef.csv')"
   ]
  },
  {
   "cell_type": "markdown",
   "id": "1781e41e",
   "metadata": {},
   "source": [
    "# Loan Amount(Current Balance)"
   ]
  },
  {
   "cell_type": "code",
   "execution_count": 13,
   "id": "197edd38",
   "metadata": {},
   "outputs": [
    {
     "data": {
      "image/png": "[encoded data removed]",
      "text/plain": [
       "<Figure size 432x288 with 1 Axes>"
      ]
     },
     "metadata": {
      "needs_background": "light"
     },
     "output_type": "display_data"
    }
   ],
   "source": [
    "plt.plot(df_notdefaulted['loan_amount'],np.zeros_like(df_notdefaulted['loan_amount']),'o')\n",
    "plt.plot(df_defaulted['loan_amount'],np.zeros_like(df_defaulted['loan_amount']),'o')\n",
    "plt.xlabel('loan_amount')\n",
    "plt.show()"
   ]
  },
  {
   "cell_type": "code",
   "execution_count": 14,
   "id": "c4f2c570",
   "metadata": {},
   "outputs": [],
   "source": [
    "loanamountnotdef = df_notdefaulted['loan_amount']\n",
    "#loanamountnotdef.to_csv(r'D:\\Internship\\Dataset\\TablesForUnivariateAnalysis\\loanamountnotdef.csv')"
   ]
  },
  {
   "cell_type": "code",
   "execution_count": 15,
   "id": "2858108d",
   "metadata": {},
   "outputs": [],
   "source": [
    "loanamountdef = df_defaulted['loan_amount']\n",
    "#loanamountdef.to_csv(r'D:\\Internship\\Dataset\\TablesForUnivariateAnalysis\\loanamountdef.csv')"
   ]
  },
  {
   "cell_type": "code",
   "execution_count": 16,
   "id": "93ed875e",
   "metadata": {},
   "outputs": [
    {
     "data": {
      "text/plain": [
       "count    1.032000e+04\n",
       "mean     9.817057e+04\n",
       "std      1.614852e+05\n",
       "min      0.000000e+00\n",
       "25%      1.869750e+04\n",
       "50%      4.642850e+04\n",
       "75%      1.061495e+05\n",
       "max      2.992000e+06\n",
       "Name: loan_amount, dtype: float64"
      ]
     },
     "execution_count": 16,
     "metadata": {},
     "output_type": "execute_result"
    }
   ],
   "source": [
    "loanamountnotdef.describe()"
   ]
  },
  {
   "cell_type": "code",
   "execution_count": 17,
   "id": "b670207f",
   "metadata": {},
   "outputs": [
    {
     "data": {
      "text/plain": [
       "count    2.493000e+03\n",
       "mean     3.535762e+04\n",
       "std      2.384341e+05\n",
       "min     -1.300000e+01\n",
       "25%      0.000000e+00\n",
       "50%      0.000000e+00\n",
       "75%      4.114900e+04\n",
       "max      1.135932e+07\n",
       "Name: loan_amount, dtype: float64"
      ]
     },
     "execution_count": 17,
     "metadata": {},
     "output_type": "execute_result"
    }
   ],
   "source": [
    "loanamountdef.describe()"
   ]
  },
  {
   "cell_type": "code",
   "execution_count": 18,
   "id": "3eedd99c",
   "metadata": {},
   "outputs": [
    {
     "data": {
      "text/plain": [
       "10       0\n",
       "11       0\n",
       "15       0\n",
       "25       0\n",
       "35       0\n",
       "        ..\n",
       "12773    0\n",
       "12787    0\n",
       "12790    0\n",
       "12794    0\n",
       "12806    0\n",
       "Name: loan_amount, Length: 1461, dtype: int64"
      ]
     },
     "execution_count": 18,
     "metadata": {},
     "output_type": "execute_result"
    }
   ],
   "source": [
    "check = loanamountdef == 0\n",
    "check = loanamountdef[check]\n",
    "check"
   ]
  },
  {
   "cell_type": "code",
   "execution_count": 19,
   "id": "a0c1366d",
   "metadata": {},
   "outputs": [
    {
     "data": {
      "text/plain": [
       "43       0\n",
       "46       0\n",
       "53       0\n",
       "81       0\n",
       "83       0\n",
       "        ..\n",
       "12760    0\n",
       "12768    0\n",
       "12771    0\n",
       "12792    0\n",
       "12802    0\n",
       "Name: loan_amount, Length: 806, dtype: int64"
      ]
     },
     "execution_count": 19,
     "metadata": {},
     "output_type": "execute_result"
    }
   ],
   "source": [
    "check = loanamountnotdef == 0\n",
    "check = loanamountnotdef[check]\n",
    "check"
   ]
  },
  {
   "cell_type": "markdown",
   "id": "c50fd10d",
   "metadata": {},
   "source": [
    "# Purpose of Loan"
   ]
  },
  {
   "cell_type": "code",
   "execution_count": 20,
   "id": "22371754",
   "metadata": {},
   "outputs": [
    {
     "data": {
      "text/html": [
       "<div>\n",
       "<style scoped>\n",
       "    .dataframe tbody tr th:only-of-type {\n",
       "        vertical-align: middle;\n",
       "    }\n",
       "\n",
       "    .dataframe tbody tr th {\n",
       "        vertical-align: top;\n",
       "    }\n",
       "\n",
       "    .dataframe thead th {\n",
       "        text-align: right;\n",
       "    }\n",
       "</style>\n",
       "<table border=\"1\" class=\"dataframe\">\n",
       "  <thead>\n",
       "    <tr style=\"text-align: right;\">\n",
       "      <th></th>\n",
       "      <th>Purpose</th>\n",
       "      <th>Number</th>\n",
       "    </tr>\n",
       "  </thead>\n",
       "  <tbody>\n",
       "    <tr>\n",
       "      <th>0</th>\n",
       "      <td>homeimprovement</td>\n",
       "      <td>558</td>\n",
       "    </tr>\n",
       "    <tr>\n",
       "      <th>1</th>\n",
       "      <td>Personal</td>\n",
       "      <td>536</td>\n",
       "    </tr>\n",
       "    <tr>\n",
       "      <th>2</th>\n",
       "      <td>loanrefinancing</td>\n",
       "      <td>490</td>\n",
       "    </tr>\n",
       "    <tr>\n",
       "      <th>3</th>\n",
       "      <td>other</td>\n",
       "      <td>455</td>\n",
       "    </tr>\n",
       "    <tr>\n",
       "      <th>4</th>\n",
       "      <td>wedding</td>\n",
       "      <td>300</td>\n",
       "    </tr>\n",
       "    <tr>\n",
       "      <th>5</th>\n",
       "      <td>medical</td>\n",
       "      <td>154</td>\n",
       "    </tr>\n",
       "  </tbody>\n",
       "</table>\n",
       "</div>"
      ],
      "text/plain": [
       "           Purpose  Number\n",
       "0  homeimprovement     558\n",
       "1         Personal     536\n",
       "2  loanrefinancing     490\n",
       "3            other     455\n",
       "4          wedding     300\n",
       "5          medical     154"
      ]
     },
     "execution_count": 20,
     "metadata": {},
     "output_type": "execute_result"
    }
   ],
   "source": [
    "purpose_def = df_defaulted['purpose_of_loan'].value_counts().to_frame()\n",
    "purpose_def = purpose_def.reset_index()\n",
    "purpose_def.columns = ['Purpose','Number']\n",
    "purpose_def\n",
    "#purpose_def.to_csv(r'D:\\Internship\\Dataset\\TablesForUnivariateAnalysis\\purpose_def.csv')"
   ]
  },
  {
   "cell_type": "code",
   "execution_count": 21,
   "id": "63896837",
   "metadata": {},
   "outputs": [
    {
     "data": {
      "text/html": [
       "<div>\n",
       "<style scoped>\n",
       "    .dataframe tbody tr th:only-of-type {\n",
       "        vertical-align: middle;\n",
       "    }\n",
       "\n",
       "    .dataframe tbody tr th {\n",
       "        vertical-align: top;\n",
       "    }\n",
       "\n",
       "    .dataframe thead th {\n",
       "        text-align: right;\n",
       "    }\n",
       "</style>\n",
       "<table border=\"1\" class=\"dataframe\">\n",
       "  <thead>\n",
       "    <tr style=\"text-align: right;\">\n",
       "      <th></th>\n",
       "      <th>Purpose</th>\n",
       "      <th>Number</th>\n",
       "    </tr>\n",
       "  </thead>\n",
       "  <tbody>\n",
       "    <tr>\n",
       "      <th>0</th>\n",
       "      <td>loanrefinancing</td>\n",
       "      <td>2439</td>\n",
       "    </tr>\n",
       "    <tr>\n",
       "      <th>1</th>\n",
       "      <td>Personal</td>\n",
       "      <td>2156</td>\n",
       "    </tr>\n",
       "    <tr>\n",
       "      <th>2</th>\n",
       "      <td>homeimprovement</td>\n",
       "      <td>2144</td>\n",
       "    </tr>\n",
       "    <tr>\n",
       "      <th>3</th>\n",
       "      <td>other</td>\n",
       "      <td>1635</td>\n",
       "    </tr>\n",
       "    <tr>\n",
       "      <th>4</th>\n",
       "      <td>wedding</td>\n",
       "      <td>1188</td>\n",
       "    </tr>\n",
       "    <tr>\n",
       "      <th>5</th>\n",
       "      <td>medical</td>\n",
       "      <td>758</td>\n",
       "    </tr>\n",
       "  </tbody>\n",
       "</table>\n",
       "</div>"
      ],
      "text/plain": [
       "           Purpose  Number\n",
       "0  loanrefinancing    2439\n",
       "1         Personal    2156\n",
       "2  homeimprovement    2144\n",
       "3            other    1635\n",
       "4          wedding    1188\n",
       "5          medical     758"
      ]
     },
     "execution_count": 21,
     "metadata": {},
     "output_type": "execute_result"
    }
   ],
   "source": [
    "purpose_notdef = df_notdefaulted['purpose_of_loan'].value_counts().to_frame()\n",
    "purpose_notdef = purpose_notdef.reset_index()\n",
    "purpose_notdef.columns = ['Purpose','Number']\n",
    "purpose_notdef\n",
    "#purpose_notdef.to_csv(r'D:\\Internship\\Dataset\\TablesForUnivariateAnalysis\\purpose_notdef.csv')"
   ]
  },
  {
   "cell_type": "markdown",
   "id": "c42f621e",
   "metadata": {},
   "source": [
    "# Marital Status"
   ]
  },
  {
   "cell_type": "code",
   "execution_count": 22,
   "id": "ae8e697c",
   "metadata": {},
   "outputs": [
    {
     "data": {
      "text/html": [
       "<div>\n",
       "<style scoped>\n",
       "    .dataframe tbody tr th:only-of-type {\n",
       "        vertical-align: middle;\n",
       "    }\n",
       "\n",
       "    .dataframe tbody tr th {\n",
       "        vertical-align: top;\n",
       "    }\n",
       "\n",
       "    .dataframe thead th {\n",
       "        text-align: right;\n",
       "    }\n",
       "</style>\n",
       "<table border=\"1\" class=\"dataframe\">\n",
       "  <thead>\n",
       "    <tr style=\"text-align: right;\">\n",
       "      <th></th>\n",
       "      <th>Status</th>\n",
       "      <th>Number</th>\n",
       "    </tr>\n",
       "  </thead>\n",
       "  <tbody>\n",
       "    <tr>\n",
       "      <th>0</th>\n",
       "      <td>MARRIED</td>\n",
       "      <td>1645</td>\n",
       "    </tr>\n",
       "    <tr>\n",
       "      <th>1</th>\n",
       "      <td>SINGLE</td>\n",
       "      <td>848</td>\n",
       "    </tr>\n",
       "  </tbody>\n",
       "</table>\n",
       "</div>"
      ],
      "text/plain": [
       "    Status  Number\n",
       "0  MARRIED    1645\n",
       "1   SINGLE     848"
      ]
     },
     "execution_count": 22,
     "metadata": {},
     "output_type": "execute_result"
    }
   ],
   "source": [
    "marital_def = df_defaulted['marital_status'].value_counts().to_frame()\n",
    "marital_def = marital_def.reset_index()\n",
    "marital_def.columns = ['Status','Number']\n",
    "marital_def"
   ]
  },
  {
   "cell_type": "code",
   "execution_count": 23,
   "id": "2844b88d",
   "metadata": {},
   "outputs": [],
   "source": [
    "#marital_def.to_csv(r'D:\\Internship\\Dataset\\TablesForUnivariateAnalysis\\maritaldef.csv')"
   ]
  },
  {
   "cell_type": "code",
   "execution_count": 24,
   "id": "54b93d92",
   "metadata": {},
   "outputs": [
    {
     "data": {
      "text/html": [
       "<div>\n",
       "<style scoped>\n",
       "    .dataframe tbody tr th:only-of-type {\n",
       "        vertical-align: middle;\n",
       "    }\n",
       "\n",
       "    .dataframe tbody tr th {\n",
       "        vertical-align: top;\n",
       "    }\n",
       "\n",
       "    .dataframe thead th {\n",
       "        text-align: right;\n",
       "    }\n",
       "</style>\n",
       "<table border=\"1\" class=\"dataframe\">\n",
       "  <thead>\n",
       "    <tr style=\"text-align: right;\">\n",
       "      <th></th>\n",
       "      <th>Status</th>\n",
       "      <th>Number</th>\n",
       "    </tr>\n",
       "  </thead>\n",
       "  <tbody>\n",
       "    <tr>\n",
       "      <th>0</th>\n",
       "      <td>MARRIED</td>\n",
       "      <td>5918</td>\n",
       "    </tr>\n",
       "    <tr>\n",
       "      <th>1</th>\n",
       "      <td>SINGLE</td>\n",
       "      <td>4402</td>\n",
       "    </tr>\n",
       "  </tbody>\n",
       "</table>\n",
       "</div>"
      ],
      "text/plain": [
       "    Status  Number\n",
       "0  MARRIED    5918\n",
       "1   SINGLE    4402"
      ]
     },
     "execution_count": 24,
     "metadata": {},
     "output_type": "execute_result"
    }
   ],
   "source": [
    "marital_notdef = df_notdefaulted['marital_status'].value_counts().to_frame()\n",
    "marital_notdef = marital_notdef.reset_index()\n",
    "marital_notdef.columns = ['Status','Number']\n",
    "marital_notdef"
   ]
  },
  {
   "cell_type": "code",
   "execution_count": 25,
   "id": "9646e8ee",
   "metadata": {},
   "outputs": [],
   "source": [
    "#marital_notdef.to_csv(r'D:\\Internship\\Dataset\\TablesForUnivariateAnalysis\\maritalnotdef.csv')"
   ]
  },
  {
   "cell_type": "markdown",
   "id": "2a0f8aff",
   "metadata": {},
   "source": [
    "# Residence Type"
   ]
  },
  {
   "cell_type": "code",
   "execution_count": 26,
   "id": "7af96f44",
   "metadata": {},
   "outputs": [
    {
     "data": {
      "text/html": [
       "<div>\n",
       "<style scoped>\n",
       "    .dataframe tbody tr th:only-of-type {\n",
       "        vertical-align: middle;\n",
       "    }\n",
       "\n",
       "    .dataframe tbody tr th {\n",
       "        vertical-align: top;\n",
       "    }\n",
       "\n",
       "    .dataframe thead th {\n",
       "        text-align: right;\n",
       "    }\n",
       "</style>\n",
       "<table border=\"1\" class=\"dataframe\">\n",
       "  <thead>\n",
       "    <tr style=\"text-align: right;\">\n",
       "      <th></th>\n",
       "      <th>Residence</th>\n",
       "      <th>Number</th>\n",
       "    </tr>\n",
       "  </thead>\n",
       "  <tbody>\n",
       "    <tr>\n",
       "      <th>0</th>\n",
       "      <td>Rented - Family</td>\n",
       "      <td>4541</td>\n",
       "    </tr>\n",
       "    <tr>\n",
       "      <th>1</th>\n",
       "      <td>Own House</td>\n",
       "      <td>4072</td>\n",
       "    </tr>\n",
       "    <tr>\n",
       "      <th>2</th>\n",
       "      <td>Rented - Alone</td>\n",
       "      <td>1707</td>\n",
       "    </tr>\n",
       "  </tbody>\n",
       "</table>\n",
       "</div>"
      ],
      "text/plain": [
       "         Residence  Number\n",
       "0  Rented - Family    4541\n",
       "1        Own House    4072\n",
       "2   Rented - Alone    1707"
      ]
     },
     "execution_count": 26,
     "metadata": {},
     "output_type": "execute_result"
    }
   ],
   "source": [
    "residence_notdef = df_notdefaulted['residenceType'].value_counts().to_frame()\n",
    "residence_notdef = residence_notdef.reset_index()\n",
    "residence_notdef.columns = ['Residence','Number']\n",
    "residence_notdef"
   ]
  },
  {
   "cell_type": "code",
   "execution_count": 27,
   "id": "1896d46b",
   "metadata": {},
   "outputs": [],
   "source": [
    "#residence_notdef.to_csv(r'D:\\Internship\\Dataset\\TablesForUnivariateAnalysis\\residencenotdef.csv')"
   ]
  },
  {
   "cell_type": "code",
   "execution_count": 28,
   "id": "6746a3c0",
   "metadata": {},
   "outputs": [
    {
     "data": {
      "text/html": [
       "<div>\n",
       "<style scoped>\n",
       "    .dataframe tbody tr th:only-of-type {\n",
       "        vertical-align: middle;\n",
       "    }\n",
       "\n",
       "    .dataframe tbody tr th {\n",
       "        vertical-align: top;\n",
       "    }\n",
       "\n",
       "    .dataframe thead th {\n",
       "        text-align: right;\n",
       "    }\n",
       "</style>\n",
       "<table border=\"1\" class=\"dataframe\">\n",
       "  <thead>\n",
       "    <tr style=\"text-align: right;\">\n",
       "      <th></th>\n",
       "      <th>Residence</th>\n",
       "      <th>Number</th>\n",
       "    </tr>\n",
       "  </thead>\n",
       "  <tbody>\n",
       "    <tr>\n",
       "      <th>0</th>\n",
       "      <td>Rented - Family</td>\n",
       "      <td>1149</td>\n",
       "    </tr>\n",
       "    <tr>\n",
       "      <th>1</th>\n",
       "      <td>Own House</td>\n",
       "      <td>1028</td>\n",
       "    </tr>\n",
       "    <tr>\n",
       "      <th>2</th>\n",
       "      <td>Rented - Alone</td>\n",
       "      <td>316</td>\n",
       "    </tr>\n",
       "  </tbody>\n",
       "</table>\n",
       "</div>"
      ],
      "text/plain": [
       "         Residence  Number\n",
       "0  Rented - Family    1149\n",
       "1        Own House    1028\n",
       "2   Rented - Alone     316"
      ]
     },
     "execution_count": 28,
     "metadata": {},
     "output_type": "execute_result"
    }
   ],
   "source": [
    "residence_def = df_defaulted['residenceType'].value_counts().to_frame()\n",
    "residence_def = residence_def.reset_index()\n",
    "residence_def.columns = ['Residence','Number']\n",
    "residence_def"
   ]
  },
  {
   "cell_type": "code",
   "execution_count": 29,
   "id": "e068c1c4",
   "metadata": {},
   "outputs": [],
   "source": [
    "#residence_def.to_csv(r'D:\\Internship\\Dataset\\TablesForUnivariateAnalysis\\residencedef.csv')"
   ]
  },
  {
   "cell_type": "markdown",
   "id": "26d77c62",
   "metadata": {},
   "source": [
    "# Ownership"
   ]
  },
  {
   "cell_type": "code",
   "execution_count": 30,
   "id": "25aae277",
   "metadata": {},
   "outputs": [
    {
     "data": {
      "text/html": [
       "<div>\n",
       "<style scoped>\n",
       "    .dataframe tbody tr th:only-of-type {\n",
       "        vertical-align: middle;\n",
       "    }\n",
       "\n",
       "    .dataframe tbody tr th {\n",
       "        vertical-align: top;\n",
       "    }\n",
       "\n",
       "    .dataframe thead th {\n",
       "        text-align: right;\n",
       "    }\n",
       "</style>\n",
       "<table border=\"1\" class=\"dataframe\">\n",
       "  <thead>\n",
       "    <tr style=\"text-align: right;\">\n",
       "      <th></th>\n",
       "      <th>Ownership</th>\n",
       "      <th>Number</th>\n",
       "    </tr>\n",
       "  </thead>\n",
       "  <tbody>\n",
       "    <tr>\n",
       "      <th>0</th>\n",
       "      <td>INDIVIDUAL</td>\n",
       "      <td>10007</td>\n",
       "    </tr>\n",
       "    <tr>\n",
       "      <th>1</th>\n",
       "      <td>JOINT</td>\n",
       "      <td>260</td>\n",
       "    </tr>\n",
       "    <tr>\n",
       "      <th>2</th>\n",
       "      <td>GUARANTOR</td>\n",
       "      <td>53</td>\n",
       "    </tr>\n",
       "  </tbody>\n",
       "</table>\n",
       "</div>"
      ],
      "text/plain": [
       "    Ownership  Number\n",
       "0  INDIVIDUAL   10007\n",
       "1       JOINT     260\n",
       "2   GUARANTOR      53"
      ]
     },
     "execution_count": 30,
     "metadata": {},
     "output_type": "execute_result"
    }
   ],
   "source": [
    "own_notdef = df_notdefaulted['ownership'].value_counts().to_frame()\n",
    "own_notdef = own_notdef.reset_index()\n",
    "own_notdef.columns = ['Ownership','Number']\n",
    "own_notdef"
   ]
  },
  {
   "cell_type": "code",
   "execution_count": 31,
   "id": "834d5c9b",
   "metadata": {},
   "outputs": [],
   "source": [
    "#own_notdef.to_csv(r'D:\\Internship\\Dataset\\TablesForUnivariateAnalysis\\ownnotdef.csv')"
   ]
  },
  {
   "cell_type": "code",
   "execution_count": 32,
   "id": "fe83f0eb",
   "metadata": {},
   "outputs": [
    {
     "data": {
      "text/html": [
       "<div>\n",
       "<style scoped>\n",
       "    .dataframe tbody tr th:only-of-type {\n",
       "        vertical-align: middle;\n",
       "    }\n",
       "\n",
       "    .dataframe tbody tr th {\n",
       "        vertical-align: top;\n",
       "    }\n",
       "\n",
       "    .dataframe thead th {\n",
       "        text-align: right;\n",
       "    }\n",
       "</style>\n",
       "<table border=\"1\" class=\"dataframe\">\n",
       "  <thead>\n",
       "    <tr style=\"text-align: right;\">\n",
       "      <th></th>\n",
       "      <th>Ownership</th>\n",
       "      <th>Number</th>\n",
       "    </tr>\n",
       "  </thead>\n",
       "  <tbody>\n",
       "    <tr>\n",
       "      <th>0</th>\n",
       "      <td>INDIVIDUAL</td>\n",
       "      <td>2402</td>\n",
       "    </tr>\n",
       "    <tr>\n",
       "      <th>1</th>\n",
       "      <td>JOINT</td>\n",
       "      <td>79</td>\n",
       "    </tr>\n",
       "    <tr>\n",
       "      <th>2</th>\n",
       "      <td>GUARANTOR</td>\n",
       "      <td>12</td>\n",
       "    </tr>\n",
       "  </tbody>\n",
       "</table>\n",
       "</div>"
      ],
      "text/plain": [
       "    Ownership  Number\n",
       "0  INDIVIDUAL    2402\n",
       "1       JOINT      79\n",
       "2   GUARANTOR      12"
      ]
     },
     "execution_count": 32,
     "metadata": {},
     "output_type": "execute_result"
    }
   ],
   "source": [
    "own_def = df_defaulted['ownership'].value_counts().to_frame()\n",
    "own_def = own_def.reset_index()\n",
    "own_def.columns = ['Ownership','Number']\n",
    "own_def"
   ]
  },
  {
   "cell_type": "code",
   "execution_count": 33,
   "id": "c6475ef8",
   "metadata": {},
   "outputs": [],
   "source": [
    "#own_def.to_csv(r'D:\\Internship\\Dataset\\TablesForUnivariateAnalysis\\own_def.csv')"
   ]
  },
  {
   "cell_type": "markdown",
   "id": "f44fcf66",
   "metadata": {},
   "source": [
    "# Income"
   ]
  },
  {
   "cell_type": "code",
   "execution_count": 34,
   "id": "e934d491",
   "metadata": {},
   "outputs": [
    {
     "data": {
      "image/png": "[encoded data removed]",
      "text/plain": [
       "<Figure size 432x288 with 1 Axes>"
      ]
     },
     "metadata": {
      "needs_background": "light"
     },
     "output_type": "display_data"
    }
   ],
   "source": [
    "plt.plot(df_notdefaulted['income'],np.zeros_like(df_notdefaulted['income']),'o')\n",
    "plt.plot(df_defaulted['income'],np.zeros_like(df_defaulted['income']),'o')\n",
    "plt.xlabel('income')\n",
    "plt.show()"
   ]
  },
  {
   "cell_type": "code",
   "execution_count": 35,
   "id": "b6792cc6",
   "metadata": {},
   "outputs": [],
   "source": [
    "incomenotdef = df_notdefaulted['income']\n",
    "#incomenotdef.to_csv(r'D:\\Internship\\Dataset\\TablesForUnivariateAnalysis\\incomenotdef.csv')"
   ]
  },
  {
   "cell_type": "code",
   "execution_count": 36,
   "id": "27fe8fb9",
   "metadata": {},
   "outputs": [],
   "source": [
    "incomedef = df_defaulted['income']\n",
    "#incomedef.to_csv(r'D:\\Internship\\Dataset\\TablesForUnivariateAnalysis\\incomedef.csv')"
   ]
  },
  {
   "cell_type": "code",
   "execution_count": 37,
   "id": "ae7a28ea",
   "metadata": {},
   "outputs": [
    {
     "data": {
      "text/plain": [
       "count    2.493000e+03\n",
       "mean     2.416364e+05\n",
       "std      1.001428e+07\n",
       "min      2.000000e+03\n",
       "25%      2.500000e+04\n",
       "50%      3.200000e+04\n",
       "75%      4.600000e+04\n",
       "max      5.000500e+08\n",
       "Name: income, dtype: float64"
      ]
     },
     "execution_count": 37,
     "metadata": {},
     "output_type": "execute_result"
    }
   ],
   "source": [
    "incomedef.describe()"
   ]
  },
  {
   "cell_type": "code",
   "execution_count": 38,
   "id": "37e9745d",
   "metadata": {},
   "outputs": [
    {
     "data": {
      "text/plain": [
       "count    1.032000e+04\n",
       "mean     6.978506e+05\n",
       "std      1.555214e+07\n",
       "min      2.550000e+01\n",
       "25%      2.300000e+04\n",
       "50%      2.900000e+04\n",
       "75%      4.000000e+04\n",
       "max      7.700770e+08\n",
       "Name: income, dtype: float64"
      ]
     },
     "execution_count": 38,
     "metadata": {},
     "output_type": "execute_result"
    }
   ],
   "source": [
    "incomenotdef.describe()"
   ]
  },
  {
   "cell_type": "markdown",
   "id": "1947baad",
   "metadata": {},
   "source": [
    "# Number of Previous Loans"
   ]
  },
  {
   "cell_type": "code",
   "execution_count": 39,
   "id": "2e29e726",
   "metadata": {},
   "outputs": [
    {
     "data": {
      "image/png": "[encoded data removed]",
      "text/plain": [
       "<Figure size 432x288 with 1 Axes>"
      ]
     },
     "metadata": {
      "needs_background": "light"
     },
     "output_type": "display_data"
    }
   ],
   "source": [
    "plt.plot(df_notdefaulted['number_prev_loans'],np.zeros_like(df_notdefaulted['number_prev_loans']),'o')\n",
    "plt.plot(df_defaulted['number_prev_loans'],np.zeros_like(df_defaulted['number_prev_loans']),'o')\n",
    "plt.xlabel('Number of Previous loans')\n",
    "plt.show()"
   ]
  },
  {
   "cell_type": "code",
   "execution_count": 40,
   "id": "6e0e836c",
   "metadata": {},
   "outputs": [],
   "source": [
    "numberloansdef = df_defaulted['number_prev_loans']\n",
    "#numberloansdef.to_csv(r'D:\\Internship\\Dataset\\TablesForUnivariateAnalysis\\numberloansdef.csv')"
   ]
  },
  {
   "cell_type": "code",
   "execution_count": 41,
   "id": "2fe4d289",
   "metadata": {},
   "outputs": [],
   "source": [
    "numberloansnotdef = df_notdefaulted['number_prev_loans']\n",
    "#numberloansnotdef.to_csv(r'D:\\Internship\\Dataset\\TablesForUnivariateAnalysis\\numberloansnotdef.csv')"
   ]
  },
  {
   "cell_type": "code",
   "execution_count": 42,
   "id": "438c4ff5",
   "metadata": {},
   "outputs": [
    {
     "data": {
      "text/plain": [
       "count    2493.000000\n",
       "mean        5.446450\n",
       "std         5.183398\n",
       "min         1.000000\n",
       "25%         2.000000\n",
       "50%         4.000000\n",
       "75%         7.000000\n",
       "max        49.000000\n",
       "Name: number_prev_loans, dtype: float64"
      ]
     },
     "execution_count": 42,
     "metadata": {},
     "output_type": "execute_result"
    }
   ],
   "source": [
    "numberloansdef.describe()"
   ]
  },
  {
   "cell_type": "code",
   "execution_count": 43,
   "id": "0759f07d",
   "metadata": {},
   "outputs": [
    {
     "data": {
      "text/plain": [
       "count    10320.000000\n",
       "mean         6.941085\n",
       "std          6.909366\n",
       "min          1.000000\n",
       "25%          2.000000\n",
       "50%          5.000000\n",
       "75%          9.000000\n",
       "max        133.000000\n",
       "Name: number_prev_loans, dtype: float64"
      ]
     },
     "execution_count": 43,
     "metadata": {},
     "output_type": "execute_result"
    }
   ],
   "source": [
    "numberloansnotdef.describe()"
   ]
  },
  {
   "cell_type": "markdown",
   "id": "15d57b25",
   "metadata": {},
   "source": [
    "# Previous Default"
   ]
  },
  {
   "cell_type": "code",
   "execution_count": 44,
   "id": "ca833980",
   "metadata": {},
   "outputs": [
    {
     "data": {
      "image/png": "[encoded data removed]",
      "text/plain": [
       "<Figure size 432x288 with 1 Axes>"
      ]
     },
     "metadata": {
      "needs_background": "light"
     },
     "output_type": "display_data"
    }
   ],
   "source": [
    "plt.plot(df_notdefaulted['prev_def'],np.zeros_like(df_notdefaulted['prev_def']),'o')\n",
    "plt.plot(df_defaulted['prev_def'],np.zeros_like(df_defaulted['prev_def']),'o')\n",
    "plt.xlabel('Previous Default')\n",
    "plt.show()"
   ]
  },
  {
   "cell_type": "code",
   "execution_count": 45,
   "id": "83270784",
   "metadata": {},
   "outputs": [],
   "source": [
    "prevdef = df_defaulted['prev_def']\n",
    "#prevdef.to_csv(r'D:\\Internship\\Dataset\\TablesForUnivariateAnalysis\\prevdef.csv')\n"
   ]
  },
  {
   "cell_type": "code",
   "execution_count": 46,
   "id": "f6bdff9a",
   "metadata": {},
   "outputs": [],
   "source": [
    "prevnotdef = df_notdefaulted['prev_def']\n",
    "#prevnotdef.to_csv(r'D:\\Internship\\Dataset\\TablesForUnivariateAnalysis\\prevnotdef.csv')"
   ]
  },
  {
   "cell_type": "code",
   "execution_count": 47,
   "id": "ef2bcb60",
   "metadata": {},
   "outputs": [
    {
     "data": {
      "text/plain": [
       "15       1\n",
       "21       1\n",
       "23       1\n",
       "27       1\n",
       "42       1\n",
       "        ..\n",
       "12690    1\n",
       "12747    1\n",
       "12773    1\n",
       "12787    1\n",
       "12794    1\n",
       "Name: prev_def, Length: 1635, dtype: int64"
      ]
     },
     "execution_count": 47,
     "metadata": {},
     "output_type": "execute_result"
    }
   ],
   "source": [
    "prevdef1  =  prevdef==1\n",
    "prevdef1 = prevdef[prevdef1]\n",
    "prevdef1"
   ]
  },
  {
   "cell_type": "code",
   "execution_count": 48,
   "id": "17cae688",
   "metadata": {},
   "outputs": [],
   "source": [
    "#prevdef1.to_csv(r'D:\\Internship\\Dataset\\TablesForUnivariateAnalysis\\prevdef1.csv')"
   ]
  },
  {
   "cell_type": "code",
   "execution_count": 49,
   "id": "3208b081",
   "metadata": {},
   "outputs": [
    {
     "data": {
      "text/plain": [
       "10       0\n",
       "11       0\n",
       "25       0\n",
       "35       0\n",
       "40       0\n",
       "        ..\n",
       "12754    0\n",
       "12767    0\n",
       "12772    0\n",
       "12790    0\n",
       "12806    0\n",
       "Name: prev_def, Length: 858, dtype: int64"
      ]
     },
     "execution_count": 49,
     "metadata": {},
     "output_type": "execute_result"
    }
   ],
   "source": [
    "prevdef0  =  prevdef==0\n",
    "prevdef0 = prevdef[prevdef0]\n",
    "prevdef0"
   ]
  },
  {
   "cell_type": "code",
   "execution_count": 50,
   "id": "5cd078f9",
   "metadata": {},
   "outputs": [],
   "source": [
    "#prevdef0.to_csv(r'D:\\Internship\\Dataset\\TablesForUnivariateAnalysis\\prevdef0.csv')"
   ]
  },
  {
   "cell_type": "code",
   "execution_count": 51,
   "id": "4902073e",
   "metadata": {},
   "outputs": [
    {
     "data": {
      "text/plain": [
       "1        1\n",
       "6        1\n",
       "16       1\n",
       "17       1\n",
       "18       1\n",
       "        ..\n",
       "12792    1\n",
       "12795    1\n",
       "12798    1\n",
       "12802    1\n",
       "12807    1\n",
       "Name: prev_def, Length: 3212, dtype: int64"
      ]
     },
     "execution_count": 51,
     "metadata": {},
     "output_type": "execute_result"
    }
   ],
   "source": [
    "prevnotdef1  =  prevnotdef==1\n",
    "prevnotdef1 = prevnotdef[prevnotdef1]\n",
    "prevnotdef1"
   ]
  },
  {
   "cell_type": "code",
   "execution_count": 52,
   "id": "3788c9d6",
   "metadata": {},
   "outputs": [],
   "source": [
    "#prevnotdef1.to_csv(r'D:\\Internship\\Dataset\\TablesForUnivariateAnalysis\\prevnotdef1.csv')"
   ]
  },
  {
   "cell_type": "code",
   "execution_count": 53,
   "id": "81e495ca",
   "metadata": {},
   "outputs": [
    {
     "data": {
      "text/plain": [
       "0        0\n",
       "2        0\n",
       "3        0\n",
       "4        0\n",
       "5        0\n",
       "        ..\n",
       "12808    0\n",
       "12809    0\n",
       "12810    0\n",
       "12811    0\n",
       "12812    0\n",
       "Name: prev_def, Length: 7108, dtype: int64"
      ]
     },
     "execution_count": 53,
     "metadata": {},
     "output_type": "execute_result"
    }
   ],
   "source": [
    "prevnotdef0  =  prevnotdef==0\n",
    "prevnotdef0 = prevnotdef[prevnotdef0]\n",
    "prevnotdef0"
   ]
  },
  {
   "cell_type": "code",
   "execution_count": 54,
   "id": "a01eee3e",
   "metadata": {},
   "outputs": [],
   "source": [
    "#prevnotdef0.to_csv(r'D:\\Internship\\Dataset\\TablesForUnivariateAnalysis\\prevnotdef0.csv')"
   ]
  },
  {
   "cell_type": "markdown",
   "id": "e44cb623",
   "metadata": {},
   "source": [
    "# Bivariate Analysis"
   ]
  },
  {
   "cell_type": "code",
   "execution_count": 98,
   "id": "e20175cd",
   "metadata": {},
   "outputs": [
    {
     "name": "stderr",
     "output_type": "stream",
     "text": [
      "C:\\Users\\dhruv\\anaconda3\\lib\\site-packages\\seaborn\\axisgrid.py:316: UserWarning: The `size` parameter has been renamed to `height`; please update your code.\n",
      "  warnings.warn(msg, UserWarning)\n"
     ]
    },
    {
     "data": {
      "image/png": "[encoded data removed]",
      "text/plain": [
       "<Figure size 722.05x648 with 1 Axes>"
      ]
     },
     "metadata": {},
     "output_type": "display_data"
    }
   ],
   "source": [
    "sns.FacetGrid(model,hue='loan_default',size=9).map(plt.scatter,\"loan_default\",\"age\").add_legend();\n",
    "plt.show()"
   ]
  },
  {
   "cell_type": "code",
   "execution_count": 99,
   "id": "4063abf9",
   "metadata": {},
   "outputs": [
    {
     "name": "stderr",
     "output_type": "stream",
     "text": [
      "C:\\Users\\dhruv\\anaconda3\\lib\\site-packages\\seaborn\\axisgrid.py:316: UserWarning: The `size` parameter has been renamed to `height`; please update your code.\n",
      "  warnings.warn(msg, UserWarning)\n"
     ]
    },
    {
     "data": {
      "image/png": "[encoded data removed]",
      "text/plain": [
       "<Figure size 722.05x648 with 1 Axes>"
      ]
     },
     "metadata": {},
     "output_type": "display_data"
    }
   ],
   "source": [
    "sns.FacetGrid(model,hue='loan_default',size=9).map(plt.scatter,\"purpose_of_loan\",\"age\").add_legend();\n",
    "plt.show()"
   ]
  },
  {
   "cell_type": "code",
   "execution_count": 100,
   "id": "adee4026",
   "metadata": {},
   "outputs": [
    {
     "name": "stderr",
     "output_type": "stream",
     "text": [
      "C:\\Users\\dhruv\\anaconda3\\lib\\site-packages\\seaborn\\axisgrid.py:316: UserWarning: The `size` parameter has been renamed to `height`; please update your code.\n",
      "  warnings.warn(msg, UserWarning)\n"
     ]
    },
    {
     "data": {
      "image/png": "[encoded data removed]",
      "text/plain": [
       "<Figure size 722.05x648 with 1 Axes>"
      ]
     },
     "metadata": {},
     "output_type": "display_data"
    }
   ],
   "source": [
    "sns.FacetGrid(model,hue='loan_default',size=9).map(plt.scatter,\"purpose_of_loan\",\"loan_amount\").add_legend();\n",
    "plt.show()"
   ]
  },
  {
   "cell_type": "code",
   "execution_count": 101,
   "id": "9c8375a7",
   "metadata": {},
   "outputs": [
    {
     "name": "stderr",
     "output_type": "stream",
     "text": [
      "C:\\Users\\dhruv\\anaconda3\\lib\\site-packages\\seaborn\\axisgrid.py:316: UserWarning: The `size` parameter has been renamed to `height`; please update your code.\n",
      "  warnings.warn(msg, UserWarning)\n"
     ]
    },
    {
     "data": {
      "image/png": "[encoded data removed]",
      "text/plain": [
       "<Figure size 722.05x648 with 1 Axes>"
      ]
     },
     "metadata": {},
     "output_type": "display_data"
    }
   ],
   "source": [
    "sns.FacetGrid(model,hue='loan_default',size=9).map(plt.scatter,\"prev_def\",\"number_prev_loans\").add_legend();\n",
    "plt.show()"
   ]
  },
  {
   "cell_type": "code",
   "execution_count": 66,
   "id": "57af705e",
   "metadata": {},
   "outputs": [
    {
     "data": {
      "text/plain": [
       "<AxesSubplot:xlabel='loan_default', ylabel='age'>"
      ]
     },
     "execution_count": 66,
     "metadata": {},
     "output_type": "execute_result"
    },
    {
     "data": {
      "image/png": "[encoded data removed]",
      "text/plain": [
       "<Figure size 432x288 with 1 Axes>"
      ]
     },
     "metadata": {
      "needs_background": "light"
     },
     "output_type": "display_data"
    }
   ],
   "source": [
    "model.plot.scatter('loan_default','age')"
   ]
  },
  {
   "cell_type": "code",
   "execution_count": 67,
   "id": "2844ea45",
   "metadata": {},
   "outputs": [
    {
     "data": {
      "text/plain": [
       "-0.06082863198217591"
      ]
     },
     "execution_count": 67,
     "metadata": {},
     "output_type": "execute_result"
    }
   ],
   "source": [
    "model['age'].corr(model['loan_default'])"
   ]
  },
  {
   "cell_type": "code",
   "execution_count": 103,
   "id": "38b9ef4a",
   "metadata": {},
   "outputs": [
    {
     "data": {
      "image/png": "[encoded data removed]",
      "text/plain": [
       "<Figure size 842.4x595.44 with 1 Axes>"
      ]
     },
     "metadata": {},
     "output_type": "display_data"
    }
   ],
   "source": [
    "sns.set_style('whitegrid')\n",
    "sns.countplot(x ='loan_default',data=model)\n",
    "sns.set(rc={'figure.figsize':(11.7,8.27)})\n"
   ]
  },
  {
   "cell_type": "code",
   "execution_count": 105,
   "id": "366b1035",
   "metadata": {},
   "outputs": [
    {
     "data": {
      "text/plain": [
       "<AxesSubplot:xlabel='loan_default', ylabel='count'>"
      ]
     },
     "execution_count": 105,
     "metadata": {},
     "output_type": "execute_result"
    },
    {
     "data": {
      "image/png": "[encoded data removed]",
      "text/plain": [
       "<Figure size 842.4x595.44 with 1 Axes>"
      ]
     },
     "metadata": {},
     "output_type": "display_data"
    }
   ],
   "source": [
    "sns.set_style('whitegrid')\n",
    "sns.countplot(x ='loan_default',hue='marital_status',data=model)"
   ]
  },
  {
   "cell_type": "code",
   "execution_count": 106,
   "id": "7c0a39f3",
   "metadata": {},
   "outputs": [
    {
     "data": {
      "text/plain": [
       "<AxesSubplot:xlabel='loan_default', ylabel='count'>"
      ]
     },
     "execution_count": 106,
     "metadata": {},
     "output_type": "execute_result"
    },
    {
     "data": {
      "image/png": "[encoded data removed]",
      "text/plain": [
       "<Figure size 842.4x595.44 with 1 Axes>"
      ]
     },
     "metadata": {},
     "output_type": "display_data"
    }
   ],
   "source": [
    "sns.set_style('whitegrid')\n",
    "sns.countplot(x ='loan_default',hue='type',data=model)"
   ]
  },
  {
   "cell_type": "code",
   "execution_count": 107,
   "id": "79583df4",
   "metadata": {},
   "outputs": [
    {
     "data": {
      "text/plain": [
       "<AxesSubplot:xlabel='loan_default', ylabel='count'>"
      ]
     },
     "execution_count": 107,
     "metadata": {},
     "output_type": "execute_result"
    },
    {
     "data": {
      "image/png": "[encoded data removed]",
      "text/plain": [
       "<Figure size 842.4x595.44 with 1 Axes>"
      ]
     },
     "metadata": {},
     "output_type": "display_data"
    }
   ],
   "source": [
    "sns.set_style('whitegrid')\n",
    "sns.countplot(x ='loan_default',hue='purpose_of_loan',data=model)"
   ]
  },
  {
   "cell_type": "code",
   "execution_count": 108,
   "id": "7d7cc4f0",
   "metadata": {},
   "outputs": [
    {
     "data": {
      "text/plain": [
       "<AxesSubplot:xlabel='loan_default', ylabel='count'>"
      ]
     },
     "execution_count": 108,
     "metadata": {},
     "output_type": "execute_result"
    },
    {
     "data": {
      "image/png": "[encoded data removed]",
      "text/plain": [
       "<Figure size 842.4x595.44 with 1 Axes>"
      ]
     },
     "metadata": {},
     "output_type": "display_data"
    }
   ],
   "source": [
    "sns.set_style('whitegrid')\n",
    "sns.countplot(x ='loan_default',hue='residenceType',data=model)"
   ]
  },
  {
   "cell_type": "code",
   "execution_count": 109,
   "id": "775a5aed",
   "metadata": {},
   "outputs": [
    {
     "data": {
      "text/plain": [
       "<AxesSubplot:xlabel='loan_default', ylabel='count'>"
      ]
     },
     "execution_count": 109,
     "metadata": {},
     "output_type": "execute_result"
    },
    {
     "data": {
      "image/png": "[encoded data removed]",
      "text/plain": [
       "<Figure size 842.4x595.44 with 1 Axes>"
      ]
     },
     "metadata": {},
     "output_type": "display_data"
    }
   ],
   "source": [
    "sns.set_style('whitegrid')\n",
    "sns.countplot(x ='loan_default',hue='ownership',data=model)"
   ]
  },
  {
   "cell_type": "code",
   "execution_count": 110,
   "id": "46274301",
   "metadata": {},
   "outputs": [
    {
     "name": "stderr",
     "output_type": "stream",
     "text": [
      "C:\\Users\\dhruv\\anaconda3\\lib\\site-packages\\seaborn\\distributions.py:2557: FutureWarning: `distplot` is a deprecated function and will be removed in a future version. Please adapt your code to use either `displot` (a figure-level function with similar flexibility) or `histplot` (an axes-level function for histograms).\n",
      "  warnings.warn(msg, FutureWarning)\n"
     ]
    },
    {
     "data": {
      "text/plain": [
       "<AxesSubplot:xlabel='age', ylabel='Density'>"
      ]
     },
     "execution_count": 110,
     "metadata": {},
     "output_type": "execute_result"
    },
    {
     "data": {
      "image/png": "[encoded data removed]",
      "text/plain": [
       "<Figure size 842.4x595.44 with 1 Axes>"
      ]
     },
     "metadata": {},
     "output_type": "display_data"
    }
   ],
   "source": [
    "sns.distplot(model['age'],bins=50)"
   ]
  },
  {
   "cell_type": "code",
   "execution_count": 111,
   "id": "3fa5696a",
   "metadata": {},
   "outputs": [
    {
     "data": {
      "text/plain": [
       "<AxesSubplot:xlabel='loan_default', ylabel='age'>"
      ]
     },
     "execution_count": 111,
     "metadata": {},
     "output_type": "execute_result"
    },
    {
     "data": {
      "image/png": "[encoded data removed]",
      "text/plain": [
       "<Figure size 842.4x595.44 with 1 Axes>"
      ]
     },
     "metadata": {},
     "output_type": "display_data"
    }
   ],
   "source": [
    "sns.boxplot(x='loan_default',y='age',data=model)"
   ]
  },
  {
   "cell_type": "code",
   "execution_count": null,
   "id": "284ab8a3",
   "metadata": {},
   "outputs": [],
   "source": []
  },
  {
   "cell_type": "code",
   "execution_count": null,
   "id": "366ad2d7",
   "metadata": {},
   "outputs": [],
   "source": []
  },
  {
   "cell_type": "markdown",
   "id": "93243627",
   "metadata": {},
   "source": [
    "# Multivariate Analysis"
   ]
  },
  {
   "cell_type": "code",
   "execution_count": 59,
   "id": "ecfd80d5",
   "metadata": {},
   "outputs": [],
   "source": [
    "#sns.pairplot(model,hue=\"loan_default\",size=5).add_legend();"
   ]
  },
  {
   "cell_type": "code",
   "execution_count": null,
   "id": "1d760294",
   "metadata": {},
   "outputs": [],
   "source": []
  }
 ],
 "metadata": {
  "kernelspec": {
   "display_name": "Python 3",
   "language": "python",
   "name": "python3"
  },
  "language_info": {
   "codemirror_mode": {
    "name": "ipython",
    "version": 3
   },
   "file_extension": ".py",
   "mimetype": "text/x-python",
   "name": "python",
   "nbconvert_exporter": "python",
   "pygments_lexer": "ipython3",
   "version": "3.8.8"
  }
 },
 "nbformat": 4,
 "nbformat_minor": 5
}
