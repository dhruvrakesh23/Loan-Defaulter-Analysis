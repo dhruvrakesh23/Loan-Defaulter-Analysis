{
 "cells": [
  {
   "cell_type": "code",
   "execution_count": 1,
   "id": "76f27f84",
   "metadata": {},
   "outputs": [
    {
     "data": {
      "text/html": [
       "<div>\n",
       "<style scoped>\n",
       "    .dataframe tbody tr th:only-of-type {\n",
       "        vertical-align: middle;\n",
       "    }\n",
       "\n",
       "    .dataframe tbody tr th {\n",
       "        vertical-align: top;\n",
       "    }\n",
       "\n",
       "    .dataframe thead th {\n",
       "        text-align: right;\n",
       "    }\n",
       "</style>\n",
       "<table border=\"1\" class=\"dataframe\">\n",
       "  <thead>\n",
       "    <tr style=\"text-align: right;\">\n",
       "      <th></th>\n",
       "      <th>UID</th>\n",
       "      <th>type</th>\n",
       "      <th>loan_amount</th>\n",
       "      <th>age</th>\n",
       "      <th>purpose_of_loan</th>\n",
       "      <th>requested_amount</th>\n",
       "      <th>marital_status</th>\n",
       "      <th>residenceType</th>\n",
       "      <th>income</th>\n",
       "      <th>monthly_rent</th>\n",
       "      <th>ownership</th>\n",
       "      <th>number_prev_loans</th>\n",
       "      <th>prev_def</th>\n",
       "      <th>prev_bal</th>\n",
       "      <th>loan_default</th>\n",
       "    </tr>\n",
       "  </thead>\n",
       "  <tbody>\n",
       "    <tr>\n",
       "      <th>0</th>\n",
       "      <td>1JIJ98G</td>\n",
       "      <td>PERSONAL LOAN</td>\n",
       "      <td>82000</td>\n",
       "      <td>45.137135</td>\n",
       "      <td>wedding</td>\n",
       "      <td>500000</td>\n",
       "      <td>MARRIED</td>\n",
       "      <td>Own House</td>\n",
       "      <td>82000</td>\n",
       "      <td>0</td>\n",
       "      <td>INDIVIDUAL</td>\n",
       "      <td>9</td>\n",
       "      <td>0</td>\n",
       "      <td>0.0</td>\n",
       "      <td>0</td>\n",
       "    </tr>\n",
       "    <tr>\n",
       "      <th>1</th>\n",
       "      <td>1ITH0P5</td>\n",
       "      <td>PERSONAL LOAN</td>\n",
       "      <td>60000</td>\n",
       "      <td>31.850072</td>\n",
       "      <td>other</td>\n",
       "      <td>500000</td>\n",
       "      <td>MARRIED</td>\n",
       "      <td>Rented - Family</td>\n",
       "      <td>60000</td>\n",
       "      <td>5000</td>\n",
       "      <td>INDIVIDUAL</td>\n",
       "      <td>16</td>\n",
       "      <td>1</td>\n",
       "      <td>72720.0</td>\n",
       "      <td>0</td>\n",
       "    </tr>\n",
       "    <tr>\n",
       "      <th>2</th>\n",
       "      <td>1ITDL9J</td>\n",
       "      <td>PERSONAL LOAN</td>\n",
       "      <td>82000</td>\n",
       "      <td>37.898109</td>\n",
       "      <td>wedding</td>\n",
       "      <td>500000</td>\n",
       "      <td>MARRIED</td>\n",
       "      <td>Rented - Family</td>\n",
       "      <td>82000</td>\n",
       "      <td>8000</td>\n",
       "      <td>INDIVIDUAL</td>\n",
       "      <td>5</td>\n",
       "      <td>0</td>\n",
       "      <td>387762.0</td>\n",
       "      <td>0</td>\n",
       "    </tr>\n",
       "    <tr>\n",
       "      <th>3</th>\n",
       "      <td>1I6G9PG</td>\n",
       "      <td>PERSONAL LOAN</td>\n",
       "      <td>60000</td>\n",
       "      <td>30.097812</td>\n",
       "      <td>loanrefinancing</td>\n",
       "      <td>60000</td>\n",
       "      <td>SINGLE</td>\n",
       "      <td>Own House</td>\n",
       "      <td>60000</td>\n",
       "      <td>0</td>\n",
       "      <td>INDIVIDUAL</td>\n",
       "      <td>14</td>\n",
       "      <td>0</td>\n",
       "      <td>1059828.0</td>\n",
       "      <td>0</td>\n",
       "    </tr>\n",
       "    <tr>\n",
       "      <th>4</th>\n",
       "      <td>1I5K2R3</td>\n",
       "      <td>PERSONAL LOAN</td>\n",
       "      <td>31700</td>\n",
       "      <td>33.104034</td>\n",
       "      <td>Personal</td>\n",
       "      <td>50000</td>\n",
       "      <td>MARRIED</td>\n",
       "      <td>Own House</td>\n",
       "      <td>31700</td>\n",
       "      <td>0</td>\n",
       "      <td>INDIVIDUAL</td>\n",
       "      <td>4</td>\n",
       "      <td>0</td>\n",
       "      <td>42361.0</td>\n",
       "      <td>0</td>\n",
       "    </tr>\n",
       "    <tr>\n",
       "      <th>...</th>\n",
       "      <td>...</td>\n",
       "      <td>...</td>\n",
       "      <td>...</td>\n",
       "      <td>...</td>\n",
       "      <td>...</td>\n",
       "      <td>...</td>\n",
       "      <td>...</td>\n",
       "      <td>...</td>\n",
       "      <td>...</td>\n",
       "      <td>...</td>\n",
       "      <td>...</td>\n",
       "      <td>...</td>\n",
       "      <td>...</td>\n",
       "      <td>...</td>\n",
       "      <td>...</td>\n",
       "    </tr>\n",
       "    <tr>\n",
       "      <th>12808</th>\n",
       "      <td>1AG01U9</td>\n",
       "      <td>PERSONAL LOAN</td>\n",
       "      <td>25000</td>\n",
       "      <td>33.046538</td>\n",
       "      <td>loanrefinancing</td>\n",
       "      <td>200000</td>\n",
       "      <td>MARRIED</td>\n",
       "      <td>Rented - Family</td>\n",
       "      <td>25000</td>\n",
       "      <td>6000</td>\n",
       "      <td>INDIVIDUAL</td>\n",
       "      <td>5</td>\n",
       "      <td>0</td>\n",
       "      <td>100143.0</td>\n",
       "      <td>0</td>\n",
       "    </tr>\n",
       "    <tr>\n",
       "      <th>12809</th>\n",
       "      <td>1AFL31H</td>\n",
       "      <td>CREDIT CARD</td>\n",
       "      <td>21000</td>\n",
       "      <td>23.833481</td>\n",
       "      <td>other</td>\n",
       "      <td>500000</td>\n",
       "      <td>SINGLE</td>\n",
       "      <td>Rented - Alone</td>\n",
       "      <td>21000</td>\n",
       "      <td>1500</td>\n",
       "      <td>INDIVIDUAL</td>\n",
       "      <td>1</td>\n",
       "      <td>0</td>\n",
       "      <td>0.0</td>\n",
       "      <td>0</td>\n",
       "    </tr>\n",
       "    <tr>\n",
       "      <th>12810</th>\n",
       "      <td>1AFL1VT</td>\n",
       "      <td>CREDIT CARD</td>\n",
       "      <td>31000</td>\n",
       "      <td>24.786272</td>\n",
       "      <td>wedding</td>\n",
       "      <td>260000</td>\n",
       "      <td>SINGLE</td>\n",
       "      <td>Rented - Alone</td>\n",
       "      <td>31000</td>\n",
       "      <td>6000</td>\n",
       "      <td>INDIVIDUAL</td>\n",
       "      <td>1</td>\n",
       "      <td>0</td>\n",
       "      <td>25432.0</td>\n",
       "      <td>0</td>\n",
       "    </tr>\n",
       "    <tr>\n",
       "      <th>12811</th>\n",
       "      <td>1AFKVOI</td>\n",
       "      <td>PERSONAL LOAN</td>\n",
       "      <td>60000</td>\n",
       "      <td>31.598185</td>\n",
       "      <td>homeimprovement</td>\n",
       "      <td>500000</td>\n",
       "      <td>MARRIED</td>\n",
       "      <td>Rented - Family</td>\n",
       "      <td>60000</td>\n",
       "      <td>6000</td>\n",
       "      <td>INDIVIDUAL</td>\n",
       "      <td>3</td>\n",
       "      <td>0</td>\n",
       "      <td>167230.0</td>\n",
       "      <td>0</td>\n",
       "    </tr>\n",
       "    <tr>\n",
       "      <th>12812</th>\n",
       "      <td>1AFKS77</td>\n",
       "      <td>CREDIT CARD</td>\n",
       "      <td>20000</td>\n",
       "      <td>28.337338</td>\n",
       "      <td>Personal</td>\n",
       "      <td>50000</td>\n",
       "      <td>SINGLE</td>\n",
       "      <td>Rented - Family</td>\n",
       "      <td>20000</td>\n",
       "      <td>6000</td>\n",
       "      <td>INDIVIDUAL</td>\n",
       "      <td>2</td>\n",
       "      <td>0</td>\n",
       "      <td>18915.0</td>\n",
       "      <td>0</td>\n",
       "    </tr>\n",
       "  </tbody>\n",
       "</table>\n",
       "<p>12813 rows × 15 columns</p>\n",
       "</div>"
      ],
      "text/plain": [
       "           UID           type  loan_amount        age  purpose_of_loan  \\\n",
       "0      1JIJ98G  PERSONAL LOAN        82000  45.137135          wedding   \n",
       "1      1ITH0P5  PERSONAL LOAN        60000  31.850072            other   \n",
       "2      1ITDL9J  PERSONAL LOAN        82000  37.898109          wedding   \n",
       "3      1I6G9PG  PERSONAL LOAN        60000  30.097812  loanrefinancing   \n",
       "4      1I5K2R3  PERSONAL LOAN        31700  33.104034         Personal   \n",
       "...        ...            ...          ...        ...              ...   \n",
       "12808  1AG01U9  PERSONAL LOAN        25000  33.046538  loanrefinancing   \n",
       "12809  1AFL31H    CREDIT CARD        21000  23.833481            other   \n",
       "12810  1AFL1VT    CREDIT CARD        31000  24.786272          wedding   \n",
       "12811  1AFKVOI  PERSONAL LOAN        60000  31.598185  homeimprovement   \n",
       "12812  1AFKS77    CREDIT CARD        20000  28.337338         Personal   \n",
       "\n",
       "       requested_amount marital_status    residenceType  income  monthly_rent  \\\n",
       "0                500000        MARRIED        Own House   82000             0   \n",
       "1                500000        MARRIED  Rented - Family   60000          5000   \n",
       "2                500000        MARRIED  Rented - Family   82000          8000   \n",
       "3                 60000         SINGLE        Own House   60000             0   \n",
       "4                 50000        MARRIED        Own House   31700             0   \n",
       "...                 ...            ...              ...     ...           ...   \n",
       "12808            200000        MARRIED  Rented - Family   25000          6000   \n",
       "12809            500000         SINGLE   Rented - Alone   21000          1500   \n",
       "12810            260000         SINGLE   Rented - Alone   31000          6000   \n",
       "12811            500000        MARRIED  Rented - Family   60000          6000   \n",
       "12812             50000         SINGLE  Rented - Family   20000          6000   \n",
       "\n",
       "        ownership  number_prev_loans  prev_def   prev_bal  loan_default  \n",
       "0      INDIVIDUAL                  9         0        0.0             0  \n",
       "1      INDIVIDUAL                 16         1    72720.0             0  \n",
       "2      INDIVIDUAL                  5         0   387762.0             0  \n",
       "3      INDIVIDUAL                 14         0  1059828.0             0  \n",
       "4      INDIVIDUAL                  4         0    42361.0             0  \n",
       "...           ...                ...       ...        ...           ...  \n",
       "12808  INDIVIDUAL                  5         0   100143.0             0  \n",
       "12809  INDIVIDUAL                  1         0        0.0             0  \n",
       "12810  INDIVIDUAL                  1         0    25432.0             0  \n",
       "12811  INDIVIDUAL                  3         0   167230.0             0  \n",
       "12812  INDIVIDUAL                  2         0    18915.0             0  \n",
       "\n",
       "[12813 rows x 15 columns]"
      ]
     },
     "execution_count": 1,
     "metadata": {},
     "output_type": "execute_result"
    }
   ],
   "source": [
    "import pandas as pd\n",
    "import numpy as np\n",
    "from sklearn.model_selection import train_test_split\n",
    "from sklearn.metrics import accuracy_score\n",
    "from sklearn.linear_model import LogisticRegression\n",
    "import scipy.stats as stats\n",
    "from sklearn.metrics import confusion_matrix\n",
    "from sklearn.metrics import plot_confusion_matrix\n",
    "\n",
    "\n",
    "import seaborn as sns\n",
    "import matplotlib.pyplot as plt\n",
    "%matplotlib inline\n",
    "\n",
    "\n",
    "model = pd.read_csv(\"D:\\Internship\\Dataset\\PredictiveAnalysis\\FinalModelUpdated.csv\")\n",
    "model"
   ]
  },
  {
   "cell_type": "code",
   "execution_count": 2,
   "id": "ea642d5b",
   "metadata": {},
   "outputs": [
    {
     "data": {
      "text/html": [
       "<div>\n",
       "<style scoped>\n",
       "    .dataframe tbody tr th:only-of-type {\n",
       "        vertical-align: middle;\n",
       "    }\n",
       "\n",
       "    .dataframe tbody tr th {\n",
       "        vertical-align: top;\n",
       "    }\n",
       "\n",
       "    .dataframe thead th {\n",
       "        text-align: right;\n",
       "    }\n",
       "</style>\n",
       "<table border=\"1\" class=\"dataframe\">\n",
       "  <thead>\n",
       "    <tr style=\"text-align: right;\">\n",
       "      <th></th>\n",
       "      <th>type</th>\n",
       "      <th>loan_amount</th>\n",
       "      <th>age</th>\n",
       "      <th>purpose_of_loan</th>\n",
       "      <th>requested_amount</th>\n",
       "      <th>marital_status</th>\n",
       "      <th>residenceType</th>\n",
       "      <th>income</th>\n",
       "      <th>number_prev_loans</th>\n",
       "      <th>prev_def</th>\n",
       "      <th>prev_bal</th>\n",
       "      <th>loan_default</th>\n",
       "    </tr>\n",
       "  </thead>\n",
       "  <tbody>\n",
       "    <tr>\n",
       "      <th>0</th>\n",
       "      <td>PERSONAL LOAN</td>\n",
       "      <td>82000</td>\n",
       "      <td>45.137135</td>\n",
       "      <td>wedding</td>\n",
       "      <td>500000</td>\n",
       "      <td>MARRIED</td>\n",
       "      <td>Own House</td>\n",
       "      <td>82000</td>\n",
       "      <td>9</td>\n",
       "      <td>0</td>\n",
       "      <td>0.0</td>\n",
       "      <td>0</td>\n",
       "    </tr>\n",
       "    <tr>\n",
       "      <th>1</th>\n",
       "      <td>PERSONAL LOAN</td>\n",
       "      <td>60000</td>\n",
       "      <td>31.850072</td>\n",
       "      <td>other</td>\n",
       "      <td>500000</td>\n",
       "      <td>MARRIED</td>\n",
       "      <td>Rented - Family</td>\n",
       "      <td>60000</td>\n",
       "      <td>16</td>\n",
       "      <td>1</td>\n",
       "      <td>72720.0</td>\n",
       "      <td>0</td>\n",
       "    </tr>\n",
       "    <tr>\n",
       "      <th>2</th>\n",
       "      <td>PERSONAL LOAN</td>\n",
       "      <td>82000</td>\n",
       "      <td>37.898109</td>\n",
       "      <td>wedding</td>\n",
       "      <td>500000</td>\n",
       "      <td>MARRIED</td>\n",
       "      <td>Rented - Family</td>\n",
       "      <td>82000</td>\n",
       "      <td>5</td>\n",
       "      <td>0</td>\n",
       "      <td>387762.0</td>\n",
       "      <td>0</td>\n",
       "    </tr>\n",
       "    <tr>\n",
       "      <th>3</th>\n",
       "      <td>PERSONAL LOAN</td>\n",
       "      <td>60000</td>\n",
       "      <td>30.097812</td>\n",
       "      <td>loanrefinancing</td>\n",
       "      <td>60000</td>\n",
       "      <td>SINGLE</td>\n",
       "      <td>Own House</td>\n",
       "      <td>60000</td>\n",
       "      <td>14</td>\n",
       "      <td>0</td>\n",
       "      <td>1059828.0</td>\n",
       "      <td>0</td>\n",
       "    </tr>\n",
       "    <tr>\n",
       "      <th>4</th>\n",
       "      <td>PERSONAL LOAN</td>\n",
       "      <td>31700</td>\n",
       "      <td>33.104034</td>\n",
       "      <td>Personal</td>\n",
       "      <td>50000</td>\n",
       "      <td>MARRIED</td>\n",
       "      <td>Own House</td>\n",
       "      <td>31700</td>\n",
       "      <td>4</td>\n",
       "      <td>0</td>\n",
       "      <td>42361.0</td>\n",
       "      <td>0</td>\n",
       "    </tr>\n",
       "    <tr>\n",
       "      <th>...</th>\n",
       "      <td>...</td>\n",
       "      <td>...</td>\n",
       "      <td>...</td>\n",
       "      <td>...</td>\n",
       "      <td>...</td>\n",
       "      <td>...</td>\n",
       "      <td>...</td>\n",
       "      <td>...</td>\n",
       "      <td>...</td>\n",
       "      <td>...</td>\n",
       "      <td>...</td>\n",
       "      <td>...</td>\n",
       "    </tr>\n",
       "    <tr>\n",
       "      <th>12808</th>\n",
       "      <td>PERSONAL LOAN</td>\n",
       "      <td>25000</td>\n",
       "      <td>33.046538</td>\n",
       "      <td>loanrefinancing</td>\n",
       "      <td>200000</td>\n",
       "      <td>MARRIED</td>\n",
       "      <td>Rented - Family</td>\n",
       "      <td>25000</td>\n",
       "      <td>5</td>\n",
       "      <td>0</td>\n",
       "      <td>100143.0</td>\n",
       "      <td>0</td>\n",
       "    </tr>\n",
       "    <tr>\n",
       "      <th>12809</th>\n",
       "      <td>CREDIT CARD</td>\n",
       "      <td>21000</td>\n",
       "      <td>23.833481</td>\n",
       "      <td>other</td>\n",
       "      <td>500000</td>\n",
       "      <td>SINGLE</td>\n",
       "      <td>Rented - Alone</td>\n",
       "      <td>21000</td>\n",
       "      <td>1</td>\n",
       "      <td>0</td>\n",
       "      <td>0.0</td>\n",
       "      <td>0</td>\n",
       "    </tr>\n",
       "    <tr>\n",
       "      <th>12810</th>\n",
       "      <td>CREDIT CARD</td>\n",
       "      <td>31000</td>\n",
       "      <td>24.786272</td>\n",
       "      <td>wedding</td>\n",
       "      <td>260000</td>\n",
       "      <td>SINGLE</td>\n",
       "      <td>Rented - Alone</td>\n",
       "      <td>31000</td>\n",
       "      <td>1</td>\n",
       "      <td>0</td>\n",
       "      <td>25432.0</td>\n",
       "      <td>0</td>\n",
       "    </tr>\n",
       "    <tr>\n",
       "      <th>12811</th>\n",
       "      <td>PERSONAL LOAN</td>\n",
       "      <td>60000</td>\n",
       "      <td>31.598185</td>\n",
       "      <td>homeimprovement</td>\n",
       "      <td>500000</td>\n",
       "      <td>MARRIED</td>\n",
       "      <td>Rented - Family</td>\n",
       "      <td>60000</td>\n",
       "      <td>3</td>\n",
       "      <td>0</td>\n",
       "      <td>167230.0</td>\n",
       "      <td>0</td>\n",
       "    </tr>\n",
       "    <tr>\n",
       "      <th>12812</th>\n",
       "      <td>CREDIT CARD</td>\n",
       "      <td>20000</td>\n",
       "      <td>28.337338</td>\n",
       "      <td>Personal</td>\n",
       "      <td>50000</td>\n",
       "      <td>SINGLE</td>\n",
       "      <td>Rented - Family</td>\n",
       "      <td>20000</td>\n",
       "      <td>2</td>\n",
       "      <td>0</td>\n",
       "      <td>18915.0</td>\n",
       "      <td>0</td>\n",
       "    </tr>\n",
       "  </tbody>\n",
       "</table>\n",
       "<p>12813 rows × 12 columns</p>\n",
       "</div>"
      ],
      "text/plain": [
       "                type  loan_amount        age  purpose_of_loan  \\\n",
       "0      PERSONAL LOAN        82000  45.137135          wedding   \n",
       "1      PERSONAL LOAN        60000  31.850072            other   \n",
       "2      PERSONAL LOAN        82000  37.898109          wedding   \n",
       "3      PERSONAL LOAN        60000  30.097812  loanrefinancing   \n",
       "4      PERSONAL LOAN        31700  33.104034         Personal   \n",
       "...              ...          ...        ...              ...   \n",
       "12808  PERSONAL LOAN        25000  33.046538  loanrefinancing   \n",
       "12809    CREDIT CARD        21000  23.833481            other   \n",
       "12810    CREDIT CARD        31000  24.786272          wedding   \n",
       "12811  PERSONAL LOAN        60000  31.598185  homeimprovement   \n",
       "12812    CREDIT CARD        20000  28.337338         Personal   \n",
       "\n",
       "       requested_amount marital_status    residenceType  income  \\\n",
       "0                500000        MARRIED        Own House   82000   \n",
       "1                500000        MARRIED  Rented - Family   60000   \n",
       "2                500000        MARRIED  Rented - Family   82000   \n",
       "3                 60000         SINGLE        Own House   60000   \n",
       "4                 50000        MARRIED        Own House   31700   \n",
       "...                 ...            ...              ...     ...   \n",
       "12808            200000        MARRIED  Rented - Family   25000   \n",
       "12809            500000         SINGLE   Rented - Alone   21000   \n",
       "12810            260000         SINGLE   Rented - Alone   31000   \n",
       "12811            500000        MARRIED  Rented - Family   60000   \n",
       "12812             50000         SINGLE  Rented - Family   20000   \n",
       "\n",
       "       number_prev_loans  prev_def   prev_bal  loan_default  \n",
       "0                      9         0        0.0             0  \n",
       "1                     16         1    72720.0             0  \n",
       "2                      5         0   387762.0             0  \n",
       "3                     14         0  1059828.0             0  \n",
       "4                      4         0    42361.0             0  \n",
       "...                  ...       ...        ...           ...  \n",
       "12808                  5         0   100143.0             0  \n",
       "12809                  1         0        0.0             0  \n",
       "12810                  1         0    25432.0             0  \n",
       "12811                  3         0   167230.0             0  \n",
       "12812                  2         0    18915.0             0  \n",
       "\n",
       "[12813 rows x 12 columns]"
      ]
     },
     "execution_count": 2,
     "metadata": {},
     "output_type": "execute_result"
    }
   ],
   "source": [
    "model.drop(['monthly_rent'],inplace=True,axis=1)\n",
    "model.drop(['UID'],inplace=True,axis=1)\n",
    "model.drop(['ownership'],inplace=True,axis=1)\n",
    "model\n"
   ]
  },
  {
   "cell_type": "code",
   "execution_count": 3,
   "id": "b44c8137",
   "metadata": {},
   "outputs": [],
   "source": [
    "age_new = model['age'].astype('int')\n",
    "model['age'] = age_new\n",
    "\n",
    "prev_bal_new = model['prev_bal'].astype('int')\n",
    "model['prev_bal'] = prev_bal_new"
   ]
  },
  {
   "cell_type": "code",
   "execution_count": 4,
   "id": "4fb65d72",
   "metadata": {},
   "outputs": [],
   "source": [
    "model= pd.get_dummies(model,columns=['type','purpose_of_loan','marital_status','residenceType'])\n"
   ]
  },
  {
   "cell_type": "code",
   "execution_count": 5,
   "id": "463ec4e7",
   "metadata": {},
   "outputs": [
    {
     "data": {
      "text/plain": [
       "0         9.0\n",
       "1        16.0\n",
       "2         5.0\n",
       "3        14.0\n",
       "4         4.0\n",
       "         ... \n",
       "12808     5.0\n",
       "12809     1.0\n",
       "12810     1.0\n",
       "12811     3.0\n",
       "12812     2.0\n",
       "Name: number_prev_loans, Length: 12813, dtype: float64"
      ]
     },
     "execution_count": 5,
     "metadata": {},
     "output_type": "execute_result"
    }
   ],
   "source": [
    "model['loan_amount'].astype(np.float64)\n",
    "model['age'].astype(np.float64)\n",
    "model['requested_amount'].astype(np.float64)\n",
    "model['income'].astype(np.float64)\n",
    "model['number_prev_loans'].astype(np.float64)"
   ]
  },
  {
   "cell_type": "code",
   "execution_count": 6,
   "id": "730a6d05",
   "metadata": {},
   "outputs": [
    {
     "data": {
      "text/plain": [
       "array(['loan_amount', 'age', 'requested_amount', 'income',\n",
       "       'number_prev_loans', 'prev_def', 'prev_bal', 'loan_default',\n",
       "       'type_CREDIT CARD', 'type_PERSONAL LOAN', 'type_TWO-WHEELER LOAN',\n",
       "       'purpose_of_loan_Personal', 'purpose_of_loan_homeimprovement',\n",
       "       'purpose_of_loan_loanrefinancing', 'purpose_of_loan_medical',\n",
       "       'purpose_of_loan_other', 'purpose_of_loan_wedding',\n",
       "       'marital_status_MARRIED', 'marital_status_SINGLE',\n",
       "       'residenceType_Own House', 'residenceType_Rented - Alone',\n",
       "       'residenceType_Rented - Family'], dtype=object)"
      ]
     },
     "execution_count": 6,
     "metadata": {},
     "output_type": "execute_result"
    }
   ],
   "source": [
    "model.columns.values"
   ]
  },
  {
   "cell_type": "code",
   "execution_count": 7,
   "id": "571941f4",
   "metadata": {},
   "outputs": [],
   "source": [
    "import pandas as pd\n",
    "import numpy as np\n",
    "from sklearn.feature_selection import SelectKBest\n",
    "from sklearn.feature_selection import chi2\n",
    "x = model.iloc[:,0:36]  #independent columns\n",
    "x.drop(['loan_default'],inplace=True,axis=1)\n",
    "y = model['loan_default']    #target column i.e loan_default"
   ]
  },
  {
   "cell_type": "code",
   "execution_count": 8,
   "id": "55935873",
   "metadata": {},
   "outputs": [
    {
     "data": {
      "text/plain": [
       "loan_amount                        int64\n",
       "age                                int32\n",
       "requested_amount                   int64\n",
       "income                             int64\n",
       "number_prev_loans                  int64\n",
       "prev_def                           int64\n",
       "prev_bal                           int32\n",
       "loan_default                       int64\n",
       "type_CREDIT CARD                   uint8\n",
       "type_PERSONAL LOAN                 uint8\n",
       "type_TWO-WHEELER LOAN              uint8\n",
       "purpose_of_loan_Personal           uint8\n",
       "purpose_of_loan_homeimprovement    uint8\n",
       "purpose_of_loan_loanrefinancing    uint8\n",
       "purpose_of_loan_medical            uint8\n",
       "purpose_of_loan_other              uint8\n",
       "purpose_of_loan_wedding            uint8\n",
       "marital_status_MARRIED             uint8\n",
       "marital_status_SINGLE              uint8\n",
       "residenceType_Own House            uint8\n",
       "residenceType_Rented - Alone       uint8\n",
       "residenceType_Rented - Family      uint8\n",
       "dtype: object"
      ]
     },
     "execution_count": 8,
     "metadata": {},
     "output_type": "execute_result"
    }
   ],
   "source": [
    "model.dtypes"
   ]
  },
  {
   "cell_type": "code",
   "execution_count": 9,
   "id": "0eb2811f",
   "metadata": {},
   "outputs": [],
   "source": [
    "data_y = pd.DataFrame(model['loan_default'])\n",
    "data_x = model.drop(['loan_default'],axis=1)"
   ]
  },
  {
   "cell_type": "code",
   "execution_count": 10,
   "id": "fb6b36ef",
   "metadata": {},
   "outputs": [
    {
     "name": "stdout",
     "output_type": "stream",
     "text": [
      "[ True  True  True  True  True  True  True  True  True  True  True  True\n",
      "  True  True  True False  True  True  True  True  True]\n",
      "[1 1 1 1 1 1 1 1 1 1 1 1 1 1 1 2 1 1 1 1 1]\n"
     ]
    },
    {
     "name": "stderr",
     "output_type": "stream",
     "text": [
      "C:\\Users\\dhruv\\anaconda3\\lib\\site-packages\\sklearn\\utils\\validation.py:70: FutureWarning: Pass n_features_to_select=20 as keyword args. From version 1.0 (renaming of 0.25) passing these as positional arguments will result in an error\n",
      "  warnings.warn(f\"Pass {args_msg} as keyword args. From version \"\n"
     ]
    }
   ],
   "source": [
    "# Recursive Feature Elimination\n",
    "\n",
    "model_final=model.columns.values.tolist()\n",
    "y=['y']\n",
    "x=[i for i in model_final if i not in y]\n",
    "\n",
    "from sklearn.feature_selection import RFE\n",
    "from sklearn.linear_model import LogisticRegression\n",
    "\n",
    "logreg = LogisticRegression()\n",
    "rfe = RFE(logreg, 20)\n",
    "rfe = rfe.fit(data_x, data_y.values.ravel())\n",
    "print(rfe.support_)\n",
    "print(rfe.ranking_)"
   ]
  },
  {
   "cell_type": "code",
   "execution_count": 11,
   "id": "f24e6519",
   "metadata": {},
   "outputs": [
    {
     "data": {
      "text/plain": [
       "array(['loan_amount', 'age', 'requested_amount', 'income',\n",
       "       'number_prev_loans', 'prev_def', 'prev_bal', 'type_CREDIT CARD',\n",
       "       'type_PERSONAL LOAN', 'type_TWO-WHEELER LOAN',\n",
       "       'purpose_of_loan_Personal', 'purpose_of_loan_homeimprovement',\n",
       "       'purpose_of_loan_loanrefinancing', 'purpose_of_loan_medical',\n",
       "       'purpose_of_loan_other', 'purpose_of_loan_wedding',\n",
       "       'marital_status_MARRIED', 'marital_status_SINGLE',\n",
       "       'residenceType_Own House', 'residenceType_Rented - Alone',\n",
       "       'residenceType_Rented - Family'], dtype=object)"
      ]
     },
     "execution_count": 11,
     "metadata": {},
     "output_type": "execute_result"
    }
   ],
   "source": [
    "data_x.columns.values"
   ]
  },
  {
   "cell_type": "code",
   "execution_count": 12,
   "id": "d8955be3",
   "metadata": {},
   "outputs": [],
   "source": [
    "data_x = data_x.drop(['purpose_of_loan_wedding'],axis=1)"
   ]
  },
  {
   "cell_type": "code",
   "execution_count": 13,
   "id": "a2929dde",
   "metadata": {},
   "outputs": [
    {
     "name": "stdout",
     "output_type": "stream",
     "text": [
      "Optimization terminated successfully.\n",
      "         Current function value: 0.406202\n",
      "         Iterations 30\n",
      "                                        Results: Logit\n",
      "==============================================================================================\n",
      "Model:                         Logit                     Pseudo R-squared:          0.176     \n",
      "Dependent Variable:            loan_default              AIC:                       10445.3203\n",
      "Date:                          2021-11-03 11:35          BIC:                       10579.5681\n",
      "No. Observations:              12813                     Log-Likelihood:            -5204.7   \n",
      "Df Model:                      17                        LL-Null:                   -6314.0   \n",
      "Df Residuals:                  12795                     LLR p-value:               0.0000    \n",
      "Converged:                     1.0000                    Scale:                     1.0000    \n",
      "No. Iterations:                30.0000                                                        \n",
      "----------------------------------------------------------------------------------------------\n",
      "                                 Coef.    Std.Err.      z    P>|z|      [0.025       0.975]   \n",
      "----------------------------------------------------------------------------------------------\n",
      "loan_amount                     -0.0012     135.5351 -0.0000 1.0000     -265.6452     265.6427\n",
      "age                             -0.0495       0.0054 -9.1710 0.0000       -0.0601      -0.0389\n",
      "requested_amount                 0.0000       0.0000  1.3815 0.1671       -0.0000       0.0000\n",
      "income                           0.0013     135.5351  0.0000 1.0000     -265.6427     265.6452\n",
      "number_prev_loans               -0.0591       0.0067 -8.8404 0.0000       -0.0722      -0.0460\n",
      "prev_def                         1.6665       0.0537 31.0515 0.0000        1.5613       1.7717\n",
      "prev_bal                        -0.0000       0.0000 -7.0477 0.0000       -0.0000      -0.0000\n",
      "type_CREDIT CARD                 0.5759 1034343.1242  0.0000 1.0000 -2027274.6952 2027275.8469\n",
      "type_PERSONAL LOAN              -0.7442 1034343.1242 -0.0000 1.0000 -2027276.0153 2027274.5268\n",
      "type_TWO-WHEELER LOAN           -0.8603 1034343.1242 -0.0000 1.0000 -2027276.1313 2027274.4108\n",
      "purpose_of_loan_Personal        -0.0382       0.0909 -0.4204 0.6742       -0.2165       0.1400\n",
      "purpose_of_loan_homeimprovement -0.0435       0.0909 -0.4791 0.6319       -0.2217       0.1346\n",
      "purpose_of_loan_loanrefinancing -0.0970       0.0912 -1.0636 0.2875       -0.2758       0.0818\n",
      "purpose_of_loan_medical         -0.2963       0.1227 -2.4151 0.0157       -0.5367      -0.0558\n",
      "purpose_of_loan_other            0.0212       0.0935  0.2271 0.8204       -0.1621       0.2046\n",
      "marital_status_MARRIED          -0.2603          nan     nan    nan           nan          nan\n",
      "marital_status_SINGLE           -0.7683          nan     nan    nan           nan          nan\n",
      "residenceType_Own House         -0.2074          nan     nan    nan           nan          nan\n",
      "residenceType_Rented - Alone    -0.5215          nan     nan    nan           nan          nan\n",
      "residenceType_Rented - Family   -0.2997          nan     nan    nan           nan          nan\n",
      "==============================================================================================\n",
      "\n"
     ]
    }
   ],
   "source": [
    "import statsmodels.api as sm\n",
    "logit_model=sm.Logit(data_y,data_x)\n",
    "result=logit_model.fit()\n",
    "print(result.summary2())"
   ]
  },
  {
   "cell_type": "code",
   "execution_count": 14,
   "id": "6e737192",
   "metadata": {},
   "outputs": [],
   "source": [
    "data_x = data_x.drop(['type_CREDIT CARD','type_PERSONAL LOAN','purpose_of_loan_Personal'],axis=1)"
   ]
  },
  {
   "cell_type": "code",
   "execution_count": 15,
   "id": "cdb4915d",
   "metadata": {},
   "outputs": [
    {
     "name": "stdout",
     "output_type": "stream",
     "text": [
      "Warning: Maximum number of iterations has been exceeded.\n",
      "         Current function value: 0.428521\n",
      "         Iterations: 35\n",
      "                                        Results: Logit\n",
      "===============================================================================================\n",
      "Model:                        Logit                      Pseudo R-squared:           0.130     \n",
      "Dependent Variable:           loan_default               AIC:                        11013.2829\n",
      "Date:                         2021-11-03 11:35           BIC:                        11132.6144\n",
      "No. Observations:             12813                      Log-Likelihood:             -5490.6   \n",
      "Df Model:                     15                         LL-Null:                    -6314.0   \n",
      "Df Residuals:                 12797                      LLR p-value:                0.0000    \n",
      "Converged:                    0.0000                     Scale:                      1.0000    \n",
      "No. Iterations:               35.0000                                                          \n",
      "-----------------------------------------------------------------------------------------------\n",
      "                                 Coef.    Std.Err.      z     P>|z|      [0.025       0.975]   \n",
      "-----------------------------------------------------------------------------------------------\n",
      "loan_amount                     -0.0012      48.2190  -0.0000 1.0000      -94.5086      94.5062\n",
      "age                             -0.0502       0.0052  -9.5871 0.0000       -0.0605      -0.0400\n",
      "requested_amount                 0.0000       0.0000   2.5002 0.0124        0.0000       0.0000\n",
      "income                           0.0012      48.2190   0.0000 1.0000      -94.5062      94.5086\n",
      "number_prev_loans               -0.0735       0.0065 -11.2571 0.0000       -0.0863      -0.0607\n",
      "prev_def                         1.5670       0.0516  30.3595 0.0000        1.4658       1.6682\n",
      "prev_bal                        -0.0000       0.0000  -6.3903 0.0000       -0.0000      -0.0000\n",
      "type_TWO-WHEELER LOAN           -0.9757       0.1013  -9.6303 0.0000       -1.1743      -0.7771\n",
      "purpose_of_loan_homeimprovement -0.0314       0.0670  -0.4688 0.6392       -0.1627       0.0999\n",
      "purpose_of_loan_loanrefinancing -0.1302       0.0677  -1.9236 0.0544       -0.2630       0.0025\n",
      "purpose_of_loan_medical         -0.3359       0.1037  -3.2380 0.0012       -0.5392      -0.1326\n",
      "purpose_of_loan_other            0.0672       0.0709   0.9479 0.3432       -0.0718       0.2063\n",
      "marital_status_MARRIED          -0.1188 1955656.7870  -0.0000 1.0000 -3833016.9875 3833016.7499\n",
      "marital_status_SINGLE           -0.5774 1955656.7870  -0.0000 1.0000 -3833017.4460 3833016.2913\n",
      "residenceType_Own House         -0.1078 1955656.7870  -0.0000 1.0000 -3833016.9765 3833016.7608\n",
      "residenceType_Rented - Alone    -0.3998 1955656.7870  -0.0000 1.0000 -3833017.2685 3833016.4689\n",
      "residenceType_Rented - Family   -0.1885 1955656.7870  -0.0000 1.0000 -3833017.0572 3833016.6801\n",
      "===============================================================================================\n",
      "\n"
     ]
    },
    {
     "name": "stderr",
     "output_type": "stream",
     "text": [
      "C:\\Users\\dhruv\\anaconda3\\lib\\site-packages\\statsmodels\\base\\model.py:566: ConvergenceWarning: Maximum Likelihood optimization failed to converge. Check mle_retvals\n",
      "  warnings.warn(\"Maximum Likelihood optimization failed to \"\n"
     ]
    }
   ],
   "source": [
    "import statsmodels.api as sm\n",
    "logit_model=sm.Logit(data_y,data_x)\n",
    "result=logit_model.fit()\n",
    "print(result.summary2())"
   ]
  },
  {
   "cell_type": "code",
   "execution_count": 16,
   "id": "3f1e27c6",
   "metadata": {},
   "outputs": [],
   "source": [
    "data_x = data_x.drop(['income'],axis=1)"
   ]
  },
  {
   "cell_type": "code",
   "execution_count": 17,
   "id": "58d5639f",
   "metadata": {},
   "outputs": [
    {
     "name": "stdout",
     "output_type": "stream",
     "text": [
      "Optimization terminated successfully.\n",
      "         Current function value: 0.428586\n",
      "         Iterations 6\n",
      "                                 Results: Logit\n",
      "================================================================================\n",
      "Model:                   Logit                 Pseudo R-squared:      0.130     \n",
      "Dependent Variable:      loan_default          AIC:                   11012.9349\n",
      "Date:                    2021-11-03 11:35      BIC:                   11124.8082\n",
      "No. Observations:        12813                 Log-Likelihood:        -5491.5   \n",
      "Df Model:                14                    LL-Null:               -6314.0   \n",
      "Df Residuals:            12798                 LLR p-value:           0.0000    \n",
      "Converged:               1.0000                Scale:                 1.0000    \n",
      "No. Iterations:          6.0000                                                 \n",
      "--------------------------------------------------------------------------------\n",
      "                                 Coef.  Std.Err.    z     P>|z|   [0.025  0.975]\n",
      "--------------------------------------------------------------------------------\n",
      "loan_amount                      0.0000   0.0000   6.3744 0.0000  0.0000  0.0000\n",
      "age                             -0.0502   0.0052  -9.5851 0.0000 -0.0605 -0.0399\n",
      "requested_amount                 0.0000   0.0000   2.5115 0.0120  0.0000  0.0000\n",
      "number_prev_loans               -0.0736   0.0065 -11.2680 0.0000 -0.0864 -0.0608\n",
      "prev_def                         1.5679   0.0516  30.3817 0.0000  1.4668  1.6691\n",
      "prev_bal                        -0.0000   0.0000  -6.3860 0.0000 -0.0000 -0.0000\n",
      "type_TWO-WHEELER LOAN           -0.9765   0.1013  -9.6378 0.0000 -1.1751 -0.7779\n",
      "purpose_of_loan_homeimprovement -0.0326   0.0670  -0.4866 0.6265 -0.1639  0.0987\n",
      "purpose_of_loan_loanrefinancing -0.1312   0.0677  -1.9373 0.0527 -0.2638  0.0015\n",
      "purpose_of_loan_medical         -0.3368   0.1037  -3.2466 0.0012 -0.5401 -0.1335\n",
      "purpose_of_loan_other            0.0663   0.0709   0.9340 0.3503 -0.0728  0.2053\n",
      "marital_status_MARRIED          -0.1175      nan      nan    nan     nan     nan\n",
      "marital_status_SINGLE           -0.5768      nan      nan    nan     nan     nan\n",
      "residenceType_Own House         -0.1068      nan      nan    nan     nan     nan\n",
      "residenceType_Rented - Alone    -0.3992      nan      nan    nan     nan     nan\n",
      "residenceType_Rented - Family   -0.1883      nan      nan    nan     nan     nan\n",
      "================================================================================\n",
      "\n"
     ]
    }
   ],
   "source": [
    "import statsmodels.api as sm\n",
    "logit_model=sm.Logit(data_y,data_x)\n",
    "result=logit_model.fit()\n",
    "print(result.summary2())"
   ]
  },
  {
   "cell_type": "code",
   "execution_count": 18,
   "id": "f8a29477",
   "metadata": {},
   "outputs": [],
   "source": [
    "data_x = data_x.drop(['purpose_of_loan_other'],axis=1)"
   ]
  },
  {
   "cell_type": "code",
   "execution_count": 19,
   "id": "fa2539c9",
   "metadata": {},
   "outputs": [
    {
     "name": "stdout",
     "output_type": "stream",
     "text": [
      "Optimization terminated successfully.\n",
      "         Current function value: 0.428620\n",
      "         Iterations 6\n",
      "                                 Results: Logit\n",
      "================================================================================\n",
      "Model:                   Logit                 Pseudo R-squared:      0.130     \n",
      "Dependent Variable:      loan_default          AIC:                   11011.8047\n",
      "Date:                    2021-11-03 11:35      BIC:                   11116.2197\n",
      "No. Observations:        12813                 Log-Likelihood:        -5491.9   \n",
      "Df Model:                13                    LL-Null:               -6314.0   \n",
      "Df Residuals:            12799                 LLR p-value:           0.0000    \n",
      "Converged:               1.0000                Scale:                 1.0000    \n",
      "No. Iterations:          6.0000                                                 \n",
      "--------------------------------------------------------------------------------\n",
      "                                 Coef.  Std.Err.    z     P>|z|   [0.025  0.975]\n",
      "--------------------------------------------------------------------------------\n",
      "loan_amount                      0.0000   0.0000   6.3899 0.0000  0.0000  0.0000\n",
      "age                             -0.0502   0.0052  -9.5922 0.0000 -0.0605 -0.0400\n",
      "requested_amount                 0.0000   0.0000   2.5532 0.0107  0.0000  0.0000\n",
      "number_prev_loans               -0.0737   0.0065 -11.2836 0.0000 -0.0865 -0.0609\n",
      "prev_def                         1.5673   0.0516  30.3762 0.0000  1.4662  1.6685\n",
      "prev_bal                        -0.0000   0.0000  -6.4077 0.0000 -0.0000 -0.0000\n",
      "type_TWO-WHEELER LOAN           -0.9764   0.1013  -9.6371 0.0000 -1.1750 -0.7778\n",
      "purpose_of_loan_homeimprovement -0.0554   0.0623  -0.8894 0.3738 -0.1775  0.0667\n",
      "purpose_of_loan_loanrefinancing -0.1538   0.0631  -2.4358 0.0149 -0.2775 -0.0300\n",
      "purpose_of_loan_medical         -0.3592   0.1009  -3.5611 0.0004 -0.5569 -0.1615\n",
      "marital_status_MARRIED          -0.1026      nan      nan    nan     nan     nan\n",
      "marital_status_SINGLE           -0.5647      nan      nan    nan     nan     nan\n",
      "residenceType_Own House         -0.0986      nan      nan    nan     nan     nan\n",
      "residenceType_Rented - Alone    -0.3887      nan      nan    nan     nan     nan\n",
      "residenceType_Rented - Family   -0.1801      nan      nan    nan     nan     nan\n",
      "================================================================================\n",
      "\n"
     ]
    }
   ],
   "source": [
    "logit_model=sm.Logit(data_y,data_x)\n",
    "result=logit_model.fit()\n",
    "print(result.summary2())"
   ]
  },
  {
   "cell_type": "code",
   "execution_count": 20,
   "id": "c9c079a7",
   "metadata": {},
   "outputs": [],
   "source": [
    "data_x = data_x.drop(['purpose_of_loan_homeimprovement'],axis=1)"
   ]
  },
  {
   "cell_type": "code",
   "execution_count": 21,
   "id": "9931c629",
   "metadata": {},
   "outputs": [
    {
     "name": "stdout",
     "output_type": "stream",
     "text": [
      "Optimization terminated successfully.\n",
      "         Current function value: 0.428651\n",
      "         Iterations 6\n",
      "                                        Results: Logit\n",
      "===============================================================================================\n",
      "Model:                        Logit                      Pseudo R-squared:           0.130     \n",
      "Dependent Variable:           loan_default               AIC:                        11010.5982\n",
      "Date:                         2021-11-03 11:35           BIC:                        11107.5550\n",
      "No. Observations:             12813                      Log-Likelihood:             -5492.3   \n",
      "Df Model:                     12                         LL-Null:                    -6314.0   \n",
      "Df Residuals:                 12800                      LLR p-value:                0.0000    \n",
      "Converged:                    1.0000                     Scale:                      1.0000    \n",
      "No. Iterations:               6.0000                                                           \n",
      "-----------------------------------------------------------------------------------------------\n",
      "                                 Coef.    Std.Err.      z     P>|z|      [0.025       0.975]   \n",
      "-----------------------------------------------------------------------------------------------\n",
      "loan_amount                      0.0000       0.0000   6.3818 0.0000        0.0000       0.0000\n",
      "age                             -0.0503       0.0052  -9.6049 0.0000       -0.0606      -0.0400\n",
      "requested_amount                 0.0000       0.0000   2.5368 0.0112        0.0000       0.0000\n",
      "number_prev_loans               -0.0737       0.0065 -11.2868 0.0000       -0.0865      -0.0609\n",
      "prev_def                         1.5665       0.0516  30.3670 0.0000        1.4654       1.6676\n",
      "prev_bal                        -0.0000       0.0000  -6.4188 0.0000       -0.0000      -0.0000\n",
      "type_TWO-WHEELER LOAN           -0.9770       0.1013  -9.6451 0.0000       -1.1756      -0.7785\n",
      "purpose_of_loan_loanrefinancing -0.1372       0.0604  -2.2728 0.0230       -0.2555      -0.0189\n",
      "purpose_of_loan_medical         -0.3427       0.0992  -3.4557 0.0005       -0.5370      -0.1483\n",
      "marital_status_MARRIED          -0.1119 1636661.0420  -0.0000 1.0000 -3207796.8092 3207796.5854\n",
      "marital_status_SINGLE           -0.5700 1636661.0420  -0.0000 1.0000 -3207797.2673 3207796.1274\n",
      "residenceType_Own House         -0.1068 1636661.0420  -0.0000 1.0000 -3207796.8041 3207796.5905\n",
      "residenceType_Rented - Alone    -0.3931 1636661.0420  -0.0000 1.0000 -3207797.0904 3207796.3042\n",
      "residenceType_Rented - Family   -0.1819 1636661.0420  -0.0000 1.0000 -3207796.8792 3207796.5154\n",
      "===============================================================================================\n",
      "\n"
     ]
    }
   ],
   "source": [
    "logit_model=sm.Logit(data_y,data_x)\n",
    "result=logit_model.fit()\n",
    "print(result.summary2())"
   ]
  },
  {
   "cell_type": "code",
   "execution_count": 22,
   "id": "b6961daf",
   "metadata": {},
   "outputs": [],
   "source": [
    "data_x = data_x.drop(['marital_status_MARRIED','marital_status_SINGLE','residenceType_Own House','residenceType_Rented - Alone','residenceType_Rented - Family'],axis=1)"
   ]
  },
  {
   "cell_type": "code",
   "execution_count": 23,
   "id": "221ef292",
   "metadata": {},
   "outputs": [
    {
     "name": "stdout",
     "output_type": "stream",
     "text": [
      "Optimization terminated successfully.\n",
      "         Current function value: 0.434821\n",
      "         Iterations 6\n",
      "                                 Results: Logit\n",
      "================================================================================\n",
      "Model:                   Logit                 Pseudo R-squared:      0.118     \n",
      "Dependent Variable:      loan_default          AIC:                   11160.7294\n",
      "Date:                    2021-11-03 11:35      BIC:                   11227.8534\n",
      "No. Observations:        12813                 Log-Likelihood:        -5571.4   \n",
      "Df Model:                8                     LL-Null:               -6314.0   \n",
      "Df Residuals:            12804                 LLR p-value:           0.0000    \n",
      "Converged:               1.0000                Scale:                 1.0000    \n",
      "No. Iterations:          6.0000                                                 \n",
      "--------------------------------------------------------------------------------\n",
      "                                 Coef.  Std.Err.    z     P>|z|   [0.025  0.975]\n",
      "--------------------------------------------------------------------------------\n",
      "loan_amount                      0.0000   0.0000   5.1764 0.0000  0.0000  0.0000\n",
      "age                             -0.0654   0.0024 -27.6022 0.0000 -0.0701 -0.0608\n",
      "requested_amount                 0.0000   0.0000   1.5796 0.1142 -0.0000  0.0000\n",
      "number_prev_loans               -0.0570   0.0063  -9.0189 0.0000 -0.0694 -0.0446\n",
      "prev_def                         1.6193   0.0512  31.6374 0.0000  1.5190  1.7196\n",
      "prev_bal                        -0.0000   0.0000  -6.3847 0.0000 -0.0000 -0.0000\n",
      "type_TWO-WHEELER LOAN           -0.9678   0.1005  -9.6306 0.0000 -1.1648 -0.7708\n",
      "purpose_of_loan_loanrefinancing -0.1949   0.0596  -3.2683 0.0011 -0.3117 -0.0780\n",
      "purpose_of_loan_medical         -0.3669   0.0983  -3.7323 0.0002 -0.5596 -0.1742\n",
      "================================================================================\n",
      "\n"
     ]
    }
   ],
   "source": [
    "logit_model=sm.Logit(data_y,data_x)\n",
    "result=logit_model.fit()\n",
    "print(result.summary2())"
   ]
  },
  {
   "cell_type": "code",
   "execution_count": 24,
   "id": "75a6fbca",
   "metadata": {},
   "outputs": [],
   "source": [
    "data_x = data_x.drop(['requested_amount'],axis=1)"
   ]
  },
  {
   "cell_type": "code",
   "execution_count": 25,
   "id": "0b25d2cc",
   "metadata": {},
   "outputs": [
    {
     "name": "stdout",
     "output_type": "stream",
     "text": [
      "Optimization terminated successfully.\n",
      "         Current function value: 0.434918\n",
      "         Iterations 6\n",
      "                                 Results: Logit\n",
      "================================================================================\n",
      "Model:                   Logit                 Pseudo R-squared:      0.117     \n",
      "Dependent Variable:      loan_default          AIC:                   11161.2206\n",
      "Date:                    2021-11-03 11:35      BIC:                   11220.8863\n",
      "No. Observations:        12813                 Log-Likelihood:        -5572.6   \n",
      "Df Model:                7                     LL-Null:               -6314.0   \n",
      "Df Residuals:            12805                 LLR p-value:           0.0000    \n",
      "Converged:               1.0000                Scale:                 1.0000    \n",
      "No. Iterations:          6.0000                                                 \n",
      "--------------------------------------------------------------------------------\n",
      "                                 Coef.  Std.Err.    z     P>|z|   [0.025  0.975]\n",
      "--------------------------------------------------------------------------------\n",
      "loan_amount                      0.0000   0.0000   5.7480 0.0000  0.0000  0.0000\n",
      "age                             -0.0639   0.0022 -29.5674 0.0000 -0.0682 -0.0597\n",
      "number_prev_loans               -0.0571   0.0063  -9.0375 0.0000 -0.0695 -0.0447\n",
      "prev_def                         1.6183   0.0512  31.6220 0.0000  1.5180  1.7186\n",
      "prev_bal                        -0.0000   0.0000  -6.4110 0.0000 -0.0000 -0.0000\n",
      "type_TWO-WHEELER LOAN           -0.9659   0.1004  -9.6162 0.0000 -1.1628 -0.7691\n",
      "purpose_of_loan_loanrefinancing -0.1957   0.0596  -3.2831 0.0010 -0.3125 -0.0789\n",
      "purpose_of_loan_medical         -0.3789   0.0980  -3.8680 0.0001 -0.5710 -0.1869\n",
      "================================================================================\n",
      "\n"
     ]
    }
   ],
   "source": [
    "logit_model=sm.Logit(data_y,data_x)\n",
    "result=logit_model.fit()\n",
    "print(result.summary2())"
   ]
  },
  {
   "cell_type": "code",
   "execution_count": 26,
   "id": "9a2d152e",
   "metadata": {},
   "outputs": [
    {
     "name": "stdout",
     "output_type": "stream",
     "text": [
      "(9609, 8)\n",
      "(3204, 8)\n",
      "(9609, 1)\n",
      "(3204, 1)\n"
     ]
    }
   ],
   "source": [
    "x_train, x_test, y_train, y_test = train_test_split(data_x, data_y, test_size=0.25, random_state=42,shuffle=True)\n",
    "print(x_train.shape)\n",
    "print(x_test.shape)\n",
    "print(y_train.shape)\n",
    "print(y_test.shape)"
   ]
  },
  {
   "cell_type": "code",
   "execution_count": 27,
   "id": "51a9c159",
   "metadata": {},
   "outputs": [],
   "source": [
    "from sklearn.preprocessing import StandardScaler\n",
    "scalar = StandardScaler()\n",
    "x_train = scalar.fit_transform(x_train)\n",
    "x_test = scalar.fit_transform(x_test)"
   ]
  },
  {
   "cell_type": "code",
   "execution_count": 28,
   "id": "6f1f9df7",
   "metadata": {},
   "outputs": [
    {
     "name": "stdout",
     "output_type": "stream",
     "text": [
      "Train accuracy Score: 0.8172546570923093\n",
      "Accuracy Score: 0.8161672908863921\n"
     ]
    },
    {
     "name": "stderr",
     "output_type": "stream",
     "text": [
      "C:\\Users\\dhruv\\anaconda3\\lib\\site-packages\\sklearn\\utils\\validation.py:63: DataConversionWarning: A column-vector y was passed when a 1d array was expected. Please change the shape of y to (n_samples, ), for example using ravel().\n",
      "  return f(*args, **kwargs)\n"
     ]
    },
    {
     "data": {
      "text/plain": [
       "array([[2506,   81],\n",
       "       [ 508,  109]], dtype=int64)"
      ]
     },
     "execution_count": 28,
     "metadata": {},
     "output_type": "execute_result"
    }
   ],
   "source": [
    "clf = LogisticRegression()\n",
    "clf.fit(x_train, y_train)\n",
    "y_pred_lr = clf.predict(x_train)\n",
    "print('Train accuracy Score:', accuracy_score(y_train,y_pred_lr))\n",
    "#print('Test accuracy Score:',accuracy_score(y_test,clf.predict(x_test)))\n",
    "\n",
    "#Logistic Regression\n",
    "#confusion_matrix(y_test,clf.predict(x_test))\n",
    "\n",
    "y_pred_new_threshold = (clf.predict_proba(x_test)[:,1]>=0.47).astype(int)\n",
    "print('Accuracy Score:',accuracy_score(y_test,y_pred_new_threshold))\n",
    "\n",
    "confusion_matrix(y_test,y_pred_new_threshold)"
   ]
  },
  {
   "cell_type": "code",
   "execution_count": 29,
   "id": "3b56f714",
   "metadata": {},
   "outputs": [
    {
     "name": "stderr",
     "output_type": "stream",
     "text": [
      "<ipython-input-29-99ccbfe86b26>:4: DataConversionWarning: A column-vector y was passed when a 1d array was expected. Please change the shape of y to (n_samples,), for example using ravel().\n",
      "  rfc_b.fit(x_train,y_train)\n"
     ]
    },
    {
     "name": "stdout",
     "output_type": "stream",
     "text": [
      "Train accuracy Score: 0.9973982724529087\n",
      "Test accuracy Score: 0.8030586766541823\n"
     ]
    },
    {
     "data": {
      "text/plain": [
       "array([[2475,  112],\n",
       "       [ 519,   98]], dtype=int64)"
      ]
     },
     "execution_count": 29,
     "metadata": {},
     "output_type": "execute_result"
    }
   ],
   "source": [
    "from sklearn.ensemble import RandomForestClassifier as RFC\n",
    "\n",
    "rfc_b =RFC()\n",
    "rfc_b.fit(x_train,y_train)\n",
    "y_pred_rfc = rfc_b.predict(x_train)\n",
    "print('Train accuracy Score:', accuracy_score(y_train,y_pred_rfc))\n",
    "print('Test accuracy Score:',accuracy_score(y_test,rfc_b.predict(x_test)))\n",
    "\n",
    "#Random Forest\n",
    "confusion_matrix(y_test,rfc_b.predict(x_test))\n",
    "\n"
   ]
  },
  {
   "cell_type": "code",
   "execution_count": 30,
   "id": "8e037c64",
   "metadata": {},
   "outputs": [
    {
     "name": "stderr",
     "output_type": "stream",
     "text": [
      "C:\\Users\\dhruv\\anaconda3\\lib\\site-packages\\sklearn\\neighbors\\_classification.py:179: DataConversionWarning: A column-vector y was passed when a 1d array was expected. Please change the shape of y to (n_samples,), for example using ravel().\n",
      "  return self._fit(X, y)\n"
     ]
    },
    {
     "name": "stdout",
     "output_type": "stream",
     "text": [
      "Train accuracy Score: 0.8436882089707566\n",
      "Test accuracy Score: 0.7936953807740325\n"
     ]
    },
    {
     "data": {
      "text/plain": [
       "array([[2396,  191],\n",
       "       [ 470,  147]], dtype=int64)"
      ]
     },
     "execution_count": 30,
     "metadata": {},
     "output_type": "execute_result"
    }
   ],
   "source": [
    "from sklearn.neighbors import KNeighborsClassifier\n",
    "knn = KNeighborsClassifier()\n",
    "\n",
    "knn.fit(x_train,y_train)\n",
    "y_pred_knn = knn.predict(x_train)\n",
    "print('Train accuracy Score:', accuracy_score(y_train,y_pred_knn))\n",
    "print('Test accuracy Score:',accuracy_score(y_test,knn.predict(x_test)))\n",
    "#K Nearest Neighbour\n",
    "confusion_matrix(y_test,knn.predict(x_test))"
   ]
  },
  {
   "cell_type": "code",
   "execution_count": null,
   "id": "8ab7357f",
   "metadata": {},
   "outputs": [],
   "source": []
  },
  {
   "cell_type": "code",
   "execution_count": null,
   "id": "e27fc579",
   "metadata": {},
   "outputs": [],
   "source": []
  },
  {
   "cell_type": "code",
   "execution_count": null,
   "id": "3d5e7143",
   "metadata": {},
   "outputs": [],
   "source": []
  },
  {
   "cell_type": "code",
   "execution_count": null,
   "id": "18cfb4d4",
   "metadata": {},
   "outputs": [],
   "source": []
  },
  {
   "cell_type": "code",
   "execution_count": null,
   "id": "d4648236",
   "metadata": {},
   "outputs": [],
   "source": []
  }
 ],
 "metadata": {
  "kernelspec": {
   "display_name": "Python 3",
   "language": "python",
   "name": "python3"
  },
  "language_info": {
   "codemirror_mode": {
    "name": "ipython",
    "version": 3
   },
   "file_extension": ".py",
   "mimetype": "text/x-python",
   "name": "python",
   "nbconvert_exporter": "python",
   "pygments_lexer": "ipython3",
   "version": "3.8.8"
  }
 },
 "nbformat": 4,
 "nbformat_minor": 5
}
