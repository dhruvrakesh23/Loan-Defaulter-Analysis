{
 "cells": [
  {
   "cell_type": "code",
   "execution_count": 1,
   "id": "9b9a2ad2",
   "metadata": {},
   "outputs": [
    {
     "data": {
      "text/html": [
       "<div>\n",
       "<style scoped>\n",
       "    .dataframe tbody tr th:only-of-type {\n",
       "        vertical-align: middle;\n",
       "    }\n",
       "\n",
       "    .dataframe tbody tr th {\n",
       "        vertical-align: top;\n",
       "    }\n",
       "\n",
       "    .dataframe thead th {\n",
       "        text-align: right;\n",
       "    }\n",
       "</style>\n",
       "<table border=\"1\" class=\"dataframe\">\n",
       "  <thead>\n",
       "    <tr style=\"text-align: right;\">\n",
       "      <th></th>\n",
       "      <th>UID</th>\n",
       "      <th>type</th>\n",
       "      <th>loan_amount</th>\n",
       "      <th>age</th>\n",
       "      <th>purpose_of_loan</th>\n",
       "      <th>requested_amount</th>\n",
       "      <th>marital_status</th>\n",
       "      <th>residenceType</th>\n",
       "      <th>income</th>\n",
       "      <th>monthly_rent</th>\n",
       "      <th>ownership</th>\n",
       "      <th>number_prev_loans</th>\n",
       "      <th>prev_def</th>\n",
       "      <th>prev_bal</th>\n",
       "      <th>loan_default</th>\n",
       "    </tr>\n",
       "  </thead>\n",
       "  <tbody>\n",
       "    <tr>\n",
       "      <th>0</th>\n",
       "      <td>1JIJ98G</td>\n",
       "      <td>PERSONAL LOAN</td>\n",
       "      <td>1000000</td>\n",
       "      <td>45.137135</td>\n",
       "      <td>wedding</td>\n",
       "      <td>500000.0</td>\n",
       "      <td>MARRIED</td>\n",
       "      <td>Own House</td>\n",
       "      <td>150000.0</td>\n",
       "      <td>0</td>\n",
       "      <td>INDIVIDUAL</td>\n",
       "      <td>9</td>\n",
       "      <td>0</td>\n",
       "      <td>0</td>\n",
       "      <td>0</td>\n",
       "    </tr>\n",
       "    <tr>\n",
       "      <th>1</th>\n",
       "      <td>1ITH0P5</td>\n",
       "      <td>PERSONAL LOAN</td>\n",
       "      <td>381412</td>\n",
       "      <td>31.850072</td>\n",
       "      <td>other</td>\n",
       "      <td>500000.0</td>\n",
       "      <td>MARRIED</td>\n",
       "      <td>Rented - Family</td>\n",
       "      <td>60000.0</td>\n",
       "      <td>5000</td>\n",
       "      <td>INDIVIDUAL</td>\n",
       "      <td>16</td>\n",
       "      <td>1</td>\n",
       "      <td>72720</td>\n",
       "      <td>0</td>\n",
       "    </tr>\n",
       "    <tr>\n",
       "      <th>2</th>\n",
       "      <td>1ITDL9J</td>\n",
       "      <td>PERSONAL LOAN</td>\n",
       "      <td>84770</td>\n",
       "      <td>37.898109</td>\n",
       "      <td>wedding</td>\n",
       "      <td>500000.0</td>\n",
       "      <td>MARRIED</td>\n",
       "      <td>Rented - Family</td>\n",
       "      <td>100000.0</td>\n",
       "      <td>8000</td>\n",
       "      <td>INDIVIDUAL</td>\n",
       "      <td>5</td>\n",
       "      <td>0</td>\n",
       "      <td>387762</td>\n",
       "      <td>0</td>\n",
       "    </tr>\n",
       "    <tr>\n",
       "      <th>3</th>\n",
       "      <td>1I6G9PG</td>\n",
       "      <td>PERSONAL LOAN</td>\n",
       "      <td>712844</td>\n",
       "      <td>30.097812</td>\n",
       "      <td>loanrefinancing</td>\n",
       "      <td>60000.0</td>\n",
       "      <td>SINGLE</td>\n",
       "      <td>Own House</td>\n",
       "      <td>60000.0</td>\n",
       "      <td>0</td>\n",
       "      <td>INDIVIDUAL</td>\n",
       "      <td>14</td>\n",
       "      <td>0</td>\n",
       "      <td>1059828</td>\n",
       "      <td>0</td>\n",
       "    </tr>\n",
       "    <tr>\n",
       "      <th>4</th>\n",
       "      <td>1I5K2R3</td>\n",
       "      <td>PERSONAL LOAN</td>\n",
       "      <td>195206</td>\n",
       "      <td>33.104034</td>\n",
       "      <td>Personal</td>\n",
       "      <td>50000.0</td>\n",
       "      <td>MARRIED</td>\n",
       "      <td>Own House</td>\n",
       "      <td>31700.0</td>\n",
       "      <td>0</td>\n",
       "      <td>INDIVIDUAL</td>\n",
       "      <td>4</td>\n",
       "      <td>0</td>\n",
       "      <td>42361</td>\n",
       "      <td>0</td>\n",
       "    </tr>\n",
       "    <tr>\n",
       "      <th>...</th>\n",
       "      <td>...</td>\n",
       "      <td>...</td>\n",
       "      <td>...</td>\n",
       "      <td>...</td>\n",
       "      <td>...</td>\n",
       "      <td>...</td>\n",
       "      <td>...</td>\n",
       "      <td>...</td>\n",
       "      <td>...</td>\n",
       "      <td>...</td>\n",
       "      <td>...</td>\n",
       "      <td>...</td>\n",
       "      <td>...</td>\n",
       "      <td>...</td>\n",
       "      <td>...</td>\n",
       "    </tr>\n",
       "    <tr>\n",
       "      <th>12808</th>\n",
       "      <td>1AG01U9</td>\n",
       "      <td>PERSONAL LOAN</td>\n",
       "      <td>25000</td>\n",
       "      <td>33.046538</td>\n",
       "      <td>loanrefinancing</td>\n",
       "      <td>200000.0</td>\n",
       "      <td>MARRIED</td>\n",
       "      <td>Rented - Family</td>\n",
       "      <td>25000.0</td>\n",
       "      <td>6000</td>\n",
       "      <td>INDIVIDUAL</td>\n",
       "      <td>5</td>\n",
       "      <td>0</td>\n",
       "      <td>100143</td>\n",
       "      <td>0</td>\n",
       "    </tr>\n",
       "    <tr>\n",
       "      <th>12809</th>\n",
       "      <td>1AFL31H</td>\n",
       "      <td>CREDIT CARD</td>\n",
       "      <td>2499</td>\n",
       "      <td>23.833481</td>\n",
       "      <td>other</td>\n",
       "      <td>500000.0</td>\n",
       "      <td>SINGLE</td>\n",
       "      <td>Rented - Alone</td>\n",
       "      <td>21000.0</td>\n",
       "      <td>1500</td>\n",
       "      <td>INDIVIDUAL</td>\n",
       "      <td>1</td>\n",
       "      <td>0</td>\n",
       "      <td>0</td>\n",
       "      <td>0</td>\n",
       "    </tr>\n",
       "    <tr>\n",
       "      <th>12810</th>\n",
       "      <td>1AFL1VT</td>\n",
       "      <td>CREDIT CARD</td>\n",
       "      <td>45318</td>\n",
       "      <td>24.786272</td>\n",
       "      <td>wedding</td>\n",
       "      <td>260000.0</td>\n",
       "      <td>SINGLE</td>\n",
       "      <td>Rented - Alone</td>\n",
       "      <td>31000.0</td>\n",
       "      <td>6000</td>\n",
       "      <td>INDIVIDUAL</td>\n",
       "      <td>1</td>\n",
       "      <td>0</td>\n",
       "      <td>25432</td>\n",
       "      <td>0</td>\n",
       "    </tr>\n",
       "    <tr>\n",
       "      <th>12811</th>\n",
       "      <td>1AFKVOI</td>\n",
       "      <td>PERSONAL LOAN</td>\n",
       "      <td>285448</td>\n",
       "      <td>31.598185</td>\n",
       "      <td>homeimprovement</td>\n",
       "      <td>500000.0</td>\n",
       "      <td>MARRIED</td>\n",
       "      <td>Rented - Family</td>\n",
       "      <td>60000.0</td>\n",
       "      <td>6000</td>\n",
       "      <td>INDIVIDUAL</td>\n",
       "      <td>3</td>\n",
       "      <td>0</td>\n",
       "      <td>167230</td>\n",
       "      <td>0</td>\n",
       "    </tr>\n",
       "    <tr>\n",
       "      <th>12812</th>\n",
       "      <td>1AFKS77</td>\n",
       "      <td>CREDIT CARD</td>\n",
       "      <td>5930</td>\n",
       "      <td>28.337338</td>\n",
       "      <td>Personal</td>\n",
       "      <td>50000.0</td>\n",
       "      <td>SINGLE</td>\n",
       "      <td>Rented - Family</td>\n",
       "      <td>20000.0</td>\n",
       "      <td>6000</td>\n",
       "      <td>INDIVIDUAL</td>\n",
       "      <td>2</td>\n",
       "      <td>0</td>\n",
       "      <td>18915</td>\n",
       "      <td>0</td>\n",
       "    </tr>\n",
       "  </tbody>\n",
       "</table>\n",
       "<p>12813 rows × 15 columns</p>\n",
       "</div>"
      ],
      "text/plain": [
       "           UID           type  loan_amount        age  purpose_of_loan  \\\n",
       "0      1JIJ98G  PERSONAL LOAN      1000000  45.137135          wedding   \n",
       "1      1ITH0P5  PERSONAL LOAN       381412  31.850072            other   \n",
       "2      1ITDL9J  PERSONAL LOAN        84770  37.898109          wedding   \n",
       "3      1I6G9PG  PERSONAL LOAN       712844  30.097812  loanrefinancing   \n",
       "4      1I5K2R3  PERSONAL LOAN       195206  33.104034         Personal   \n",
       "...        ...            ...          ...        ...              ...   \n",
       "12808  1AG01U9  PERSONAL LOAN        25000  33.046538  loanrefinancing   \n",
       "12809  1AFL31H    CREDIT CARD         2499  23.833481            other   \n",
       "12810  1AFL1VT    CREDIT CARD        45318  24.786272          wedding   \n",
       "12811  1AFKVOI  PERSONAL LOAN       285448  31.598185  homeimprovement   \n",
       "12812  1AFKS77    CREDIT CARD         5930  28.337338         Personal   \n",
       "\n",
       "       requested_amount marital_status    residenceType    income  \\\n",
       "0              500000.0        MARRIED        Own House  150000.0   \n",
       "1              500000.0        MARRIED  Rented - Family   60000.0   \n",
       "2              500000.0        MARRIED  Rented - Family  100000.0   \n",
       "3               60000.0         SINGLE        Own House   60000.0   \n",
       "4               50000.0        MARRIED        Own House   31700.0   \n",
       "...                 ...            ...              ...       ...   \n",
       "12808          200000.0        MARRIED  Rented - Family   25000.0   \n",
       "12809          500000.0         SINGLE   Rented - Alone   21000.0   \n",
       "12810          260000.0         SINGLE   Rented - Alone   31000.0   \n",
       "12811          500000.0        MARRIED  Rented - Family   60000.0   \n",
       "12812           50000.0         SINGLE  Rented - Family   20000.0   \n",
       "\n",
       "       monthly_rent   ownership  number_prev_loans  prev_def  prev_bal  \\\n",
       "0                 0  INDIVIDUAL                  9         0         0   \n",
       "1              5000  INDIVIDUAL                 16         1     72720   \n",
       "2              8000  INDIVIDUAL                  5         0    387762   \n",
       "3                 0  INDIVIDUAL                 14         0   1059828   \n",
       "4                 0  INDIVIDUAL                  4         0     42361   \n",
       "...             ...         ...                ...       ...       ...   \n",
       "12808          6000  INDIVIDUAL                  5         0    100143   \n",
       "12809          1500  INDIVIDUAL                  1         0         0   \n",
       "12810          6000  INDIVIDUAL                  1         0     25432   \n",
       "12811          6000  INDIVIDUAL                  3         0    167230   \n",
       "12812          6000  INDIVIDUAL                  2         0     18915   \n",
       "\n",
       "       loan_default  \n",
       "0                 0  \n",
       "1                 0  \n",
       "2                 0  \n",
       "3                 0  \n",
       "4                 0  \n",
       "...             ...  \n",
       "12808             0  \n",
       "12809             0  \n",
       "12810             0  \n",
       "12811             0  \n",
       "12812             0  \n",
       "\n",
       "[12813 rows x 15 columns]"
      ]
     },
     "execution_count": 1,
     "metadata": {},
     "output_type": "execute_result"
    }
   ],
   "source": [
    "#import combined table to python\n",
    "\n",
    "import pandas as pd\n",
    "model = pd.read_csv(\"D:\\Internship\\Dataset\\FinalModeliteration\\FinalModel.csv\")\n",
    "model"
   ]
  },
  {
   "cell_type": "code",
   "execution_count": 2,
   "id": "9f147b48",
   "metadata": {},
   "outputs": [
    {
     "data": {
      "text/plain": [
       "500000.0"
      ]
     },
     "execution_count": 2,
     "metadata": {},
     "output_type": "execute_result"
    }
   ],
   "source": [
    "import numpy as np\n",
    "per_reqamt = np.percentile(model['requested_amount'],95)\n",
    "per_lowreqamt = np.percentile(model['requested_amount'],5)\n",
    "per_reqamt"
   ]
  },
  {
   "cell_type": "code",
   "execution_count": 3,
   "id": "e6c0ec94",
   "metadata": {},
   "outputs": [
    {
     "data": {
      "text/plain": [
       "82000.0"
      ]
     },
     "execution_count": 3,
     "metadata": {},
     "output_type": "execute_result"
    }
   ],
   "source": [
    "per_income = np.percentile(model['income'],95)\n",
    "per_lowincome = np.percentile(model['income'],5)\n",
    "per_income"
   ]
  },
  {
   "cell_type": "code",
   "execution_count": 4,
   "id": "4bfe4b4c",
   "metadata": {},
   "outputs": [
    {
     "data": {
      "text/plain": [
       "19.0"
      ]
     },
     "execution_count": 4,
     "metadata": {},
     "output_type": "execute_result"
    }
   ],
   "source": [
    "per_numprev = np.percentile(model['number_prev_loans'],95)\n",
    "per_lownumprev = np.percentile(model['number_prev_loans'],5)\n",
    "per_numprev"
   ]
  },
  {
   "cell_type": "code",
   "execution_count": 5,
   "id": "0830af68",
   "metadata": {},
   "outputs": [
    {
     "data": {
      "text/plain": [
       "1692743.5999999996"
      ]
     },
     "execution_count": 5,
     "metadata": {},
     "output_type": "execute_result"
    }
   ],
   "source": [
    "per_prevbal = np.percentile(model['prev_bal'],95)\n",
    "per_lowprevbal = np.percentile(model['prev_bal'],5)\n",
    "per_prevbal"
   ]
  },
  {
   "cell_type": "code",
   "execution_count": 6,
   "id": "5ec12289",
   "metadata": {},
   "outputs": [],
   "source": [
    "model['income'] = model.apply(lambda x: np.where(model['income']>per_income,per_income,model['income']))\n",
    "model['requested_amount'] = model.apply(lambda x: np.where(model['requested_amount']>per_reqamt,per_reqamt,model['requested_amount']))\n",
    "model['number_prev_loans'] = model.apply(lambda x: np.where(model['number_prev_loans']>per_numprev,per_numprev,model['number_prev_loans']))\n",
    "model['prev_bal'] = model.apply(lambda x: np.where(model['prev_bal']>per_prevbal,per_prevbal,model['prev_bal']))\n",
    "model['income'] = model.apply(lambda x: np.where(model['income']<per_lowincome,per_lowincome,model['income']))\n",
    "model['requested_amount'] = model.apply(lambda x: np.where(model['requested_amount']<per_lowreqamt,per_lowreqamt,model['requested_amount']))\n",
    "model['number_prev_loans'] = model.apply(lambda x: np.where(model['number_prev_loans']<per_lownumprev,per_lownumprev,model['number_prev_loans']))\n",
    "model['prev_bal'] = model.apply(lambda x: np.where(model['prev_bal']<per_lowprevbal,per_lowprevbal,model['prev_bal']))\n",
    "model['loan_amount'] = model.apply(lambda x: np.where(model['loan_amount']<0,0,model['income']))"
   ]
  },
  {
   "cell_type": "code",
   "execution_count": 7,
   "id": "04f687f1",
   "metadata": {},
   "outputs": [
    {
     "data": {
      "text/html": [
       "<div>\n",
       "<style scoped>\n",
       "    .dataframe tbody tr th:only-of-type {\n",
       "        vertical-align: middle;\n",
       "    }\n",
       "\n",
       "    .dataframe tbody tr th {\n",
       "        vertical-align: top;\n",
       "    }\n",
       "\n",
       "    .dataframe thead th {\n",
       "        text-align: right;\n",
       "    }\n",
       "</style>\n",
       "<table border=\"1\" class=\"dataframe\">\n",
       "  <thead>\n",
       "    <tr style=\"text-align: right;\">\n",
       "      <th></th>\n",
       "      <th>UID</th>\n",
       "      <th>type</th>\n",
       "      <th>loan_amount</th>\n",
       "      <th>age</th>\n",
       "      <th>purpose_of_loan</th>\n",
       "      <th>requested_amount</th>\n",
       "      <th>marital_status</th>\n",
       "      <th>residenceType</th>\n",
       "      <th>income</th>\n",
       "      <th>monthly_rent</th>\n",
       "      <th>ownership</th>\n",
       "      <th>number_prev_loans</th>\n",
       "      <th>prev_def</th>\n",
       "      <th>prev_bal</th>\n",
       "      <th>loan_default</th>\n",
       "    </tr>\n",
       "  </thead>\n",
       "  <tbody>\n",
       "    <tr>\n",
       "      <th>0</th>\n",
       "      <td>1JIJ98G</td>\n",
       "      <td>PERSONAL LOAN</td>\n",
       "      <td>82000.0</td>\n",
       "      <td>45.137135</td>\n",
       "      <td>wedding</td>\n",
       "      <td>500000.0</td>\n",
       "      <td>MARRIED</td>\n",
       "      <td>Own House</td>\n",
       "      <td>82000.0</td>\n",
       "      <td>0</td>\n",
       "      <td>INDIVIDUAL</td>\n",
       "      <td>9.0</td>\n",
       "      <td>0</td>\n",
       "      <td>0.0</td>\n",
       "      <td>0</td>\n",
       "    </tr>\n",
       "    <tr>\n",
       "      <th>1</th>\n",
       "      <td>1ITH0P5</td>\n",
       "      <td>PERSONAL LOAN</td>\n",
       "      <td>60000.0</td>\n",
       "      <td>31.850072</td>\n",
       "      <td>other</td>\n",
       "      <td>500000.0</td>\n",
       "      <td>MARRIED</td>\n",
       "      <td>Rented - Family</td>\n",
       "      <td>60000.0</td>\n",
       "      <td>5000</td>\n",
       "      <td>INDIVIDUAL</td>\n",
       "      <td>16.0</td>\n",
       "      <td>1</td>\n",
       "      <td>72720.0</td>\n",
       "      <td>0</td>\n",
       "    </tr>\n",
       "    <tr>\n",
       "      <th>2</th>\n",
       "      <td>1ITDL9J</td>\n",
       "      <td>PERSONAL LOAN</td>\n",
       "      <td>82000.0</td>\n",
       "      <td>37.898109</td>\n",
       "      <td>wedding</td>\n",
       "      <td>500000.0</td>\n",
       "      <td>MARRIED</td>\n",
       "      <td>Rented - Family</td>\n",
       "      <td>82000.0</td>\n",
       "      <td>8000</td>\n",
       "      <td>INDIVIDUAL</td>\n",
       "      <td>5.0</td>\n",
       "      <td>0</td>\n",
       "      <td>387762.0</td>\n",
       "      <td>0</td>\n",
       "    </tr>\n",
       "    <tr>\n",
       "      <th>3</th>\n",
       "      <td>1I6G9PG</td>\n",
       "      <td>PERSONAL LOAN</td>\n",
       "      <td>60000.0</td>\n",
       "      <td>30.097812</td>\n",
       "      <td>loanrefinancing</td>\n",
       "      <td>60000.0</td>\n",
       "      <td>SINGLE</td>\n",
       "      <td>Own House</td>\n",
       "      <td>60000.0</td>\n",
       "      <td>0</td>\n",
       "      <td>INDIVIDUAL</td>\n",
       "      <td>14.0</td>\n",
       "      <td>0</td>\n",
       "      <td>1059828.0</td>\n",
       "      <td>0</td>\n",
       "    </tr>\n",
       "    <tr>\n",
       "      <th>4</th>\n",
       "      <td>1I5K2R3</td>\n",
       "      <td>PERSONAL LOAN</td>\n",
       "      <td>31700.0</td>\n",
       "      <td>33.104034</td>\n",
       "      <td>Personal</td>\n",
       "      <td>50000.0</td>\n",
       "      <td>MARRIED</td>\n",
       "      <td>Own House</td>\n",
       "      <td>31700.0</td>\n",
       "      <td>0</td>\n",
       "      <td>INDIVIDUAL</td>\n",
       "      <td>4.0</td>\n",
       "      <td>0</td>\n",
       "      <td>42361.0</td>\n",
       "      <td>0</td>\n",
       "    </tr>\n",
       "    <tr>\n",
       "      <th>...</th>\n",
       "      <td>...</td>\n",
       "      <td>...</td>\n",
       "      <td>...</td>\n",
       "      <td>...</td>\n",
       "      <td>...</td>\n",
       "      <td>...</td>\n",
       "      <td>...</td>\n",
       "      <td>...</td>\n",
       "      <td>...</td>\n",
       "      <td>...</td>\n",
       "      <td>...</td>\n",
       "      <td>...</td>\n",
       "      <td>...</td>\n",
       "      <td>...</td>\n",
       "      <td>...</td>\n",
       "    </tr>\n",
       "    <tr>\n",
       "      <th>12808</th>\n",
       "      <td>1AG01U9</td>\n",
       "      <td>PERSONAL LOAN</td>\n",
       "      <td>25000.0</td>\n",
       "      <td>33.046538</td>\n",
       "      <td>loanrefinancing</td>\n",
       "      <td>200000.0</td>\n",
       "      <td>MARRIED</td>\n",
       "      <td>Rented - Family</td>\n",
       "      <td>25000.0</td>\n",
       "      <td>6000</td>\n",
       "      <td>INDIVIDUAL</td>\n",
       "      <td>5.0</td>\n",
       "      <td>0</td>\n",
       "      <td>100143.0</td>\n",
       "      <td>0</td>\n",
       "    </tr>\n",
       "    <tr>\n",
       "      <th>12809</th>\n",
       "      <td>1AFL31H</td>\n",
       "      <td>CREDIT CARD</td>\n",
       "      <td>21000.0</td>\n",
       "      <td>23.833481</td>\n",
       "      <td>other</td>\n",
       "      <td>500000.0</td>\n",
       "      <td>SINGLE</td>\n",
       "      <td>Rented - Alone</td>\n",
       "      <td>21000.0</td>\n",
       "      <td>1500</td>\n",
       "      <td>INDIVIDUAL</td>\n",
       "      <td>1.0</td>\n",
       "      <td>0</td>\n",
       "      <td>0.0</td>\n",
       "      <td>0</td>\n",
       "    </tr>\n",
       "    <tr>\n",
       "      <th>12810</th>\n",
       "      <td>1AFL1VT</td>\n",
       "      <td>CREDIT CARD</td>\n",
       "      <td>31000.0</td>\n",
       "      <td>24.786272</td>\n",
       "      <td>wedding</td>\n",
       "      <td>260000.0</td>\n",
       "      <td>SINGLE</td>\n",
       "      <td>Rented - Alone</td>\n",
       "      <td>31000.0</td>\n",
       "      <td>6000</td>\n",
       "      <td>INDIVIDUAL</td>\n",
       "      <td>1.0</td>\n",
       "      <td>0</td>\n",
       "      <td>25432.0</td>\n",
       "      <td>0</td>\n",
       "    </tr>\n",
       "    <tr>\n",
       "      <th>12811</th>\n",
       "      <td>1AFKVOI</td>\n",
       "      <td>PERSONAL LOAN</td>\n",
       "      <td>60000.0</td>\n",
       "      <td>31.598185</td>\n",
       "      <td>homeimprovement</td>\n",
       "      <td>500000.0</td>\n",
       "      <td>MARRIED</td>\n",
       "      <td>Rented - Family</td>\n",
       "      <td>60000.0</td>\n",
       "      <td>6000</td>\n",
       "      <td>INDIVIDUAL</td>\n",
       "      <td>3.0</td>\n",
       "      <td>0</td>\n",
       "      <td>167230.0</td>\n",
       "      <td>0</td>\n",
       "    </tr>\n",
       "    <tr>\n",
       "      <th>12812</th>\n",
       "      <td>1AFKS77</td>\n",
       "      <td>CREDIT CARD</td>\n",
       "      <td>20000.0</td>\n",
       "      <td>28.337338</td>\n",
       "      <td>Personal</td>\n",
       "      <td>50000.0</td>\n",
       "      <td>SINGLE</td>\n",
       "      <td>Rented - Family</td>\n",
       "      <td>20000.0</td>\n",
       "      <td>6000</td>\n",
       "      <td>INDIVIDUAL</td>\n",
       "      <td>2.0</td>\n",
       "      <td>0</td>\n",
       "      <td>18915.0</td>\n",
       "      <td>0</td>\n",
       "    </tr>\n",
       "  </tbody>\n",
       "</table>\n",
       "<p>10320 rows × 15 columns</p>\n",
       "</div>"
      ],
      "text/plain": [
       "           UID           type  loan_amount        age  purpose_of_loan  \\\n",
       "0      1JIJ98G  PERSONAL LOAN      82000.0  45.137135          wedding   \n",
       "1      1ITH0P5  PERSONAL LOAN      60000.0  31.850072            other   \n",
       "2      1ITDL9J  PERSONAL LOAN      82000.0  37.898109          wedding   \n",
       "3      1I6G9PG  PERSONAL LOAN      60000.0  30.097812  loanrefinancing   \n",
       "4      1I5K2R3  PERSONAL LOAN      31700.0  33.104034         Personal   \n",
       "...        ...            ...          ...        ...              ...   \n",
       "12808  1AG01U9  PERSONAL LOAN      25000.0  33.046538  loanrefinancing   \n",
       "12809  1AFL31H    CREDIT CARD      21000.0  23.833481            other   \n",
       "12810  1AFL1VT    CREDIT CARD      31000.0  24.786272          wedding   \n",
       "12811  1AFKVOI  PERSONAL LOAN      60000.0  31.598185  homeimprovement   \n",
       "12812  1AFKS77    CREDIT CARD      20000.0  28.337338         Personal   \n",
       "\n",
       "       requested_amount marital_status    residenceType   income  \\\n",
       "0              500000.0        MARRIED        Own House  82000.0   \n",
       "1              500000.0        MARRIED  Rented - Family  60000.0   \n",
       "2              500000.0        MARRIED  Rented - Family  82000.0   \n",
       "3               60000.0         SINGLE        Own House  60000.0   \n",
       "4               50000.0        MARRIED        Own House  31700.0   \n",
       "...                 ...            ...              ...      ...   \n",
       "12808          200000.0        MARRIED  Rented - Family  25000.0   \n",
       "12809          500000.0         SINGLE   Rented - Alone  21000.0   \n",
       "12810          260000.0         SINGLE   Rented - Alone  31000.0   \n",
       "12811          500000.0        MARRIED  Rented - Family  60000.0   \n",
       "12812           50000.0         SINGLE  Rented - Family  20000.0   \n",
       "\n",
       "       monthly_rent   ownership  number_prev_loans  prev_def   prev_bal  \\\n",
       "0                 0  INDIVIDUAL                9.0         0        0.0   \n",
       "1              5000  INDIVIDUAL               16.0         1    72720.0   \n",
       "2              8000  INDIVIDUAL                5.0         0   387762.0   \n",
       "3                 0  INDIVIDUAL               14.0         0  1059828.0   \n",
       "4                 0  INDIVIDUAL                4.0         0    42361.0   \n",
       "...             ...         ...                ...       ...        ...   \n",
       "12808          6000  INDIVIDUAL                5.0         0   100143.0   \n",
       "12809          1500  INDIVIDUAL                1.0         0        0.0   \n",
       "12810          6000  INDIVIDUAL                1.0         0    25432.0   \n",
       "12811          6000  INDIVIDUAL                3.0         0   167230.0   \n",
       "12812          6000  INDIVIDUAL                2.0         0    18915.0   \n",
       "\n",
       "       loan_default  \n",
       "0                 0  \n",
       "1                 0  \n",
       "2                 0  \n",
       "3                 0  \n",
       "4                 0  \n",
       "...             ...  \n",
       "12808             0  \n",
       "12809             0  \n",
       "12810             0  \n",
       "12811             0  \n",
       "12812             0  \n",
       "\n",
       "[10320 rows x 15 columns]"
      ]
     },
     "execution_count": 7,
     "metadata": {},
     "output_type": "execute_result"
    }
   ],
   "source": [
    "import matplotlib.pyplot as plt\n",
    "df_defaulted = model.loc[model['loan_default']==1]\n",
    "df_defaulted\n",
    "df_notdefaulted = model.loc[model['loan_default']==0]\n",
    "df_notdefaulted\n"
   ]
  },
  {
   "cell_type": "code",
   "execution_count": 8,
   "id": "65405d48",
   "metadata": {},
   "outputs": [
    {
     "data": {
      "image/png": "[encoded data removed]",
      "text/plain": [
       "<Figure size 432x288 with 1 Axes>"
      ]
     },
     "metadata": {
      "needs_background": "light"
     },
     "output_type": "display_data"
    }
   ],
   "source": [
    "plt.plot(df_notdefaulted['income'],np.zeros_like(df_notdefaulted['income']),'o')\n",
    "plt.plot(df_defaulted['income'],np.zeros_like(df_defaulted['income']),'o')\n",
    "plt.xlabel('income')\n",
    "plt.show()"
   ]
  },
  {
   "cell_type": "code",
   "execution_count": 9,
   "id": "5dbff191",
   "metadata": {},
   "outputs": [
    {
     "name": "stderr",
     "output_type": "stream",
     "text": [
      "C:\\Users\\dhruv\\anaconda3\\lib\\site-packages\\seaborn\\distributions.py:2557: FutureWarning: `distplot` is a deprecated function and will be removed in a future version. Please adapt your code to use either `displot` (a figure-level function with similar flexibility) or `histplot` (an axes-level function for histograms).\n",
      "  warnings.warn(msg, FutureWarning)\n"
     ]
    },
    {
     "data": {
      "text/plain": [
       "<AxesSubplot:xlabel='income', ylabel='Density'>"
      ]
     },
     "execution_count": 9,
     "metadata": {},
     "output_type": "execute_result"
    },
    {
     "data": {
      "image/png": "[encoded data removed]",
      "text/plain": [
       "<Figure size 842.4x595.44 with 1 Axes>"
      ]
     },
     "metadata": {},
     "output_type": "display_data"
    }
   ],
   "source": [
    "import seaborn as sns\n",
    "sns.set(rc={'figure.figsize':(11.7,8.27)})\n",
    "sns.distplot(df_defaulted['income'],bins=100)"
   ]
  },
  {
   "cell_type": "code",
   "execution_count": 10,
   "id": "1801ff6e",
   "metadata": {},
   "outputs": [
    {
     "name": "stderr",
     "output_type": "stream",
     "text": [
      "C:\\Users\\dhruv\\anaconda3\\lib\\site-packages\\seaborn\\distributions.py:2557: FutureWarning: `distplot` is a deprecated function and will be removed in a future version. Please adapt your code to use either `displot` (a figure-level function with similar flexibility) or `histplot` (an axes-level function for histograms).\n",
      "  warnings.warn(msg, FutureWarning)\n"
     ]
    },
    {
     "data": {
      "text/plain": [
       "<AxesSubplot:xlabel='income', ylabel='Density'>"
      ]
     },
     "execution_count": 10,
     "metadata": {},
     "output_type": "execute_result"
    },
    {
     "data": {
      "image/png": "[encoded data removed]",
      "text/plain": [
       "<Figure size 842.4x595.44 with 1 Axes>"
      ]
     },
     "metadata": {},
     "output_type": "display_data"
    }
   ],
   "source": [
    "sns.distplot(df_notdefaulted['income'],bins=100)"
   ]
  },
  {
   "cell_type": "code",
   "execution_count": 11,
   "id": "6c89a771",
   "metadata": {},
   "outputs": [
    {
     "name": "stderr",
     "output_type": "stream",
     "text": [
      "C:\\Users\\dhruv\\anaconda3\\lib\\site-packages\\seaborn\\axisgrid.py:316: UserWarning: The `size` parameter has been renamed to `height`; please update your code.\n",
      "  warnings.warn(msg, UserWarning)\n"
     ]
    },
    {
     "data": {
      "image/png": "[encoded data removed]",
      "text/plain": [
       "<Figure size 722.05x648 with 1 Axes>"
      ]
     },
     "metadata": {},
     "output_type": "display_data"
    }
   ],
   "source": [
    "sns.FacetGrid(model,hue='loan_default',size=9).map(plt.scatter,\"loan_default\",\"income\").add_legend();\n",
    "plt.show()"
   ]
  },
  {
   "cell_type": "code",
   "execution_count": 12,
   "id": "a8841733",
   "metadata": {},
   "outputs": [
    {
     "name": "stderr",
     "output_type": "stream",
     "text": [
      "C:\\Users\\dhruv\\anaconda3\\lib\\site-packages\\seaborn\\distributions.py:2557: FutureWarning: `distplot` is a deprecated function and will be removed in a future version. Please adapt your code to use either `displot` (a figure-level function with similar flexibility) or `histplot` (an axes-level function for histograms).\n",
      "  warnings.warn(msg, FutureWarning)\n"
     ]
    },
    {
     "data": {
      "text/plain": [
       "<AxesSubplot:xlabel='loan_amount', ylabel='Density'>"
      ]
     },
     "execution_count": 12,
     "metadata": {},
     "output_type": "execute_result"
    },
    {
     "data": {
      "image/png": "[encoded data removed]",
      "text/plain": [
       "<Figure size 842.4x595.44 with 1 Axes>"
      ]
     },
     "metadata": {},
     "output_type": "display_data"
    }
   ],
   "source": [
    "sns.distplot(df_defaulted['loan_amount'],bins=100)"
   ]
  },
  {
   "cell_type": "code",
   "execution_count": 13,
   "id": "59c9cabb",
   "metadata": {},
   "outputs": [
    {
     "name": "stderr",
     "output_type": "stream",
     "text": [
      "C:\\Users\\dhruv\\anaconda3\\lib\\site-packages\\seaborn\\distributions.py:2557: FutureWarning: `distplot` is a deprecated function and will be removed in a future version. Please adapt your code to use either `displot` (a figure-level function with similar flexibility) or `histplot` (an axes-level function for histograms).\n",
      "  warnings.warn(msg, FutureWarning)\n"
     ]
    },
    {
     "data": {
      "text/plain": [
       "<AxesSubplot:xlabel='loan_amount', ylabel='Density'>"
      ]
     },
     "execution_count": 13,
     "metadata": {},
     "output_type": "execute_result"
    },
    {
     "data": {
      "image/png": "[encoded data removed]",
      "text/plain": [
       "<Figure size 842.4x595.44 with 1 Axes>"
      ]
     },
     "metadata": {},
     "output_type": "display_data"
    }
   ],
   "source": [
    "sns.distplot(df_notdefaulted['loan_amount'],bins=100)"
   ]
  },
  {
   "cell_type": "code",
   "execution_count": 14,
   "id": "0069741e",
   "metadata": {},
   "outputs": [
    {
     "name": "stderr",
     "output_type": "stream",
     "text": [
      "C:\\Users\\dhruv\\anaconda3\\lib\\site-packages\\seaborn\\distributions.py:2557: FutureWarning: `distplot` is a deprecated function and will be removed in a future version. Please adapt your code to use either `displot` (a figure-level function with similar flexibility) or `histplot` (an axes-level function for histograms).\n",
      "  warnings.warn(msg, FutureWarning)\n"
     ]
    },
    {
     "data": {
      "text/plain": [
       "<AxesSubplot:xlabel='requested_amount', ylabel='Density'>"
      ]
     },
     "execution_count": 14,
     "metadata": {},
     "output_type": "execute_result"
    },
    {
     "data": {
      "image/png": "[encoded data removed]",
      "text/plain": [
       "<Figure size 842.4x595.44 with 1 Axes>"
      ]
     },
     "metadata": {},
     "output_type": "display_data"
    }
   ],
   "source": [
    "sns.distplot(df_defaulted['requested_amount'],bins=100)"
   ]
  },
  {
   "cell_type": "code",
   "execution_count": 15,
   "id": "c395d723",
   "metadata": {},
   "outputs": [
    {
     "name": "stderr",
     "output_type": "stream",
     "text": [
      "C:\\Users\\dhruv\\anaconda3\\lib\\site-packages\\seaborn\\distributions.py:2557: FutureWarning: `distplot` is a deprecated function and will be removed in a future version. Please adapt your code to use either `displot` (a figure-level function with similar flexibility) or `histplot` (an axes-level function for histograms).\n",
      "  warnings.warn(msg, FutureWarning)\n"
     ]
    },
    {
     "data": {
      "text/plain": [
       "<AxesSubplot:xlabel='requested_amount', ylabel='Density'>"
      ]
     },
     "execution_count": 15,
     "metadata": {},
     "output_type": "execute_result"
    },
    {
     "data": {
      "image/png": "[encoded data removed]",
      "text/plain": [
       "<Figure size 842.4x595.44 with 1 Axes>"
      ]
     },
     "metadata": {},
     "output_type": "display_data"
    }
   ],
   "source": [
    "sns.distplot(df_notdefaulted['requested_amount'],bins=100)"
   ]
  },
  {
   "cell_type": "code",
   "execution_count": 16,
   "id": "798c798f",
   "metadata": {},
   "outputs": [
    {
     "name": "stderr",
     "output_type": "stream",
     "text": [
      "C:\\Users\\dhruv\\anaconda3\\lib\\site-packages\\seaborn\\distributions.py:2557: FutureWarning: `distplot` is a deprecated function and will be removed in a future version. Please adapt your code to use either `displot` (a figure-level function with similar flexibility) or `histplot` (an axes-level function for histograms).\n",
      "  warnings.warn(msg, FutureWarning)\n"
     ]
    },
    {
     "data": {
      "text/plain": [
       "<AxesSubplot:xlabel='number_prev_loans', ylabel='Density'>"
      ]
     },
     "execution_count": 16,
     "metadata": {},
     "output_type": "execute_result"
    },
    {
     "data": {
      "image/png": "[encoded data removed]",
      "text/plain": [
       "<Figure size 842.4x595.44 with 1 Axes>"
      ]
     },
     "metadata": {},
     "output_type": "display_data"
    }
   ],
   "source": [
    "sns.distplot(df_defaulted['number_prev_loans'],bins=100)"
   ]
  },
  {
   "cell_type": "code",
   "execution_count": 17,
   "id": "bc6f20a9",
   "metadata": {},
   "outputs": [
    {
     "name": "stderr",
     "output_type": "stream",
     "text": [
      "C:\\Users\\dhruv\\anaconda3\\lib\\site-packages\\seaborn\\distributions.py:2557: FutureWarning: `distplot` is a deprecated function and will be removed in a future version. Please adapt your code to use either `displot` (a figure-level function with similar flexibility) or `histplot` (an axes-level function for histograms).\n",
      "  warnings.warn(msg, FutureWarning)\n"
     ]
    },
    {
     "data": {
      "text/plain": [
       "<AxesSubplot:xlabel='number_prev_loans', ylabel='Density'>"
      ]
     },
     "execution_count": 17,
     "metadata": {},
     "output_type": "execute_result"
    },
    {
     "data": {
      "image/png": "[encoded data removed]",
      "text/plain": [
       "<Figure size 842.4x595.44 with 1 Axes>"
      ]
     },
     "metadata": {},
     "output_type": "display_data"
    }
   ],
   "source": [
    "sns.distplot(df_notdefaulted['number_prev_loans'],bins=100)"
   ]
  },
  {
   "cell_type": "code",
   "execution_count": 18,
   "id": "1d31d61b",
   "metadata": {},
   "outputs": [],
   "source": [
    "agedef = df_defaulted['age']\n",
    "agedef.to_csv(r'D:\\Internship\\Dataset\\Tables for EDA\\agedef.csv')\n",
    "agenotdef = df_notdefaulted['age']\n",
    "agenotdef.to_csv(r'D:\\Internship\\Dataset\\Tables for EDA\\agenotdef.csv')\n",
    "type_def = df_defaulted['type'].value_counts().to_frame()\n",
    "type_def = type_def.reset_index()\n",
    "type_def.columns = ['Type','Number']\n",
    "type_def.to_csv(r'D:\\Internship\\Dataset\\Tables for EDA\\typedef.csv')\n",
    "type_notdef = df_notdefaulted['type'].value_counts().to_frame()\n",
    "type_notdef = type_notdef.reset_index()\n",
    "type_notdef.columns = ['Type','Number']\n",
    "type_notdef.to_csv(r'D:\\Internship\\Dataset\\Tables for EDA\\typenotdef.csv')\n",
    "loanamountnotdef = df_notdefaulted['loan_amount']\n",
    "loanamountnotdef.to_csv(r'D:\\Internship\\Dataset\\Tables for EDA\\loanamountnotdef.csv')\n",
    "loanamountdef = df_defaulted['loan_amount']\n",
    "loanamountdef.to_csv(r'D:\\Internship\\Dataset\\Tables for EDA\\loanamountdef.csv')\n",
    "purpose_def = df_defaulted['purpose_of_loan'].value_counts().to_frame()\n",
    "purpose_def = purpose_def.reset_index()\n",
    "purpose_def.columns = ['Purpose','Number']\n",
    "purpose_def.to_csv(r'D:\\Internship\\Dataset\\Tables for EDA\\purpose_def.csv')\n",
    "purpose_notdef = df_notdefaulted['purpose_of_loan'].value_counts().to_frame()\n",
    "purpose_notdef = purpose_notdef.reset_index()\n",
    "purpose_notdef.columns = ['Purpose','Number']\n",
    "purpose_notdef.to_csv(r'D:\\Internship\\Dataset\\Tables for EDA\\purpose_notdef.csv')\n",
    "marital_def = df_defaulted['marital_status'].value_counts().to_frame()\n",
    "marital_def = marital_def.reset_index()\n",
    "marital_def.columns = ['Status','Number']\n",
    "marital_def.to_csv(r'D:\\Internship\\Dataset\\Tables for EDA\\maritaldef.csv')\n",
    "marital_notdef = df_notdefaulted['marital_status'].value_counts().to_frame()\n",
    "marital_notdef = marital_notdef.reset_index()\n",
    "marital_notdef.columns = ['Status','Number']\n",
    "marital_notdef.to_csv(r'D:\\Internship\\Dataset\\Tables for EDA\\maritalnotdef.csv')\n",
    "residence_notdef = df_notdefaulted['residenceType'].value_counts().to_frame()\n",
    "residence_notdef = residence_notdef.reset_index()\n",
    "residence_notdef.columns = ['Residence','Number']\n",
    "residence_notdef.to_csv(r'D:\\Internship\\Dataset\\Tables for EDA\\residencenotdef.csv')\n",
    "residence_def = df_defaulted['residenceType'].value_counts().to_frame()\n",
    "residence_def = residence_def.reset_index()\n",
    "residence_def.columns = ['Residence','Number']\n",
    "residence_def.to_csv(r'D:\\Internship\\Dataset\\Tables for EDA\\residencedef.csv')\n",
    "own_notdef = df_notdefaulted['ownership'].value_counts().to_frame()\n",
    "own_notdef = own_notdef.reset_index()\n",
    "own_notdef.columns = ['Ownership','Number']\n",
    "own_notdef.to_csv(r'D:\\Internship\\Dataset\\Tables for EDA\\ownnotdef.csv')\n",
    "own_def = df_defaulted['ownership'].value_counts().to_frame()\n",
    "own_def = own_def.reset_index()\n",
    "own_def.columns = ['Ownership','Number']\n",
    "own_def.to_csv(r'D:\\Internship\\Dataset\\Tables for EDA\\own_def.csv')\n",
    "incomenotdef = df_notdefaulted['income']\n",
    "incomenotdef.to_csv(r'D:\\Internship\\Dataset\\Tables for EDA\\incomenotdef.csv')\n",
    "incomedef = df_defaulted['income']\n",
    "incomedef.to_csv(r'D:\\Internship\\Dataset\\Tables for EDA\\incomedef.csv')\n",
    "numberloansdef = df_defaulted['number_prev_loans']\n",
    "numberloansdef.to_csv(r'D:\\Internship\\Dataset\\Tables for EDA\\numberloansdef.csv')\n",
    "numberloansnotdef = df_notdefaulted['number_prev_loans']\n",
    "numberloansnotdef.to_csv(r'D:\\Internship\\Dataset\\Tables for EDA\\numberloansnotdef.csv')\n",
    "prevdef = df_defaulted['prev_def']\n",
    "prevdef.to_csv(r'D:\\Internship\\Dataset\\Tables for EDA\\prevdef.csv')\n",
    "prevnotdef = df_notdefaulted['prev_def']\n",
    "prevnotdef.to_csv(r'D:\\Internship\\Dataset\\Tables for EDA\\prevnotdef.csv')\n",
    "prevdef1  =  prevdef==1\n",
    "prevdef1 = prevdef[prevdef1]\n",
    "prevdef1.to_csv(r'D:\\Internship\\Dataset\\Tables for EDA\\prevdef1.csv')\n",
    "prevdef0  =  prevdef==0\n",
    "prevdef0 = prevdef[prevdef0]\n",
    "prevdef0.to_csv(r'D:\\Internship\\Dataset\\Tables for EDA\\prevdef0.csv')\n",
    "prevnotdef1  =  prevnotdef==1\n",
    "prevnotdef1 = prevnotdef[prevnotdef1]\n",
    "prevnotdef1.to_csv(r'D:\\Internship\\Dataset\\Tables for EDA\\prevnotdef1.csv')\n",
    "prevnotdef0  =  prevnotdef==0\n",
    "prevnotdef0 = prevnotdef[prevnotdef0]\n",
    "prevnotdef0.to_csv(r'D:\\Internship\\Dataset\\Tables for EDA\\prevnotdef0.csv')"
   ]
  },
  {
   "cell_type": "code",
   "execution_count": 19,
   "id": "1312bca0",
   "metadata": {},
   "outputs": [
    {
     "data": {
      "text/plain": [
       "array([[ 1.        , -0.06082863],\n",
       "       [-0.06082863,  1.        ]])"
      ]
     },
     "execution_count": 19,
     "metadata": {},
     "output_type": "execute_result"
    }
   ],
   "source": [
    "np.corrcoef(model['age'],model['loan_default'])"
   ]
  },
  {
   "cell_type": "code",
   "execution_count": 20,
   "id": "76a87f05",
   "metadata": {},
   "outputs": [
    {
     "data": {
      "text/html": [
       "<div>\n",
       "<style scoped>\n",
       "    .dataframe tbody tr th:only-of-type {\n",
       "        vertical-align: middle;\n",
       "    }\n",
       "\n",
       "    .dataframe tbody tr th {\n",
       "        vertical-align: top;\n",
       "    }\n",
       "\n",
       "    .dataframe thead th {\n",
       "        text-align: right;\n",
       "    }\n",
       "</style>\n",
       "<table border=\"1\" class=\"dataframe\">\n",
       "  <thead>\n",
       "    <tr style=\"text-align: right;\">\n",
       "      <th></th>\n",
       "      <th>loan_amount</th>\n",
       "      <th>age</th>\n",
       "      <th>requested_amount</th>\n",
       "      <th>income</th>\n",
       "      <th>monthly_rent</th>\n",
       "      <th>number_prev_loans</th>\n",
       "      <th>prev_def</th>\n",
       "      <th>prev_bal</th>\n",
       "      <th>loan_default</th>\n",
       "    </tr>\n",
       "  </thead>\n",
       "  <tbody>\n",
       "    <tr>\n",
       "      <th>loan_amount</th>\n",
       "      <td>1.000000</td>\n",
       "      <td>0.198070</td>\n",
       "      <td>0.240127</td>\n",
       "      <td>0.999915</td>\n",
       "      <td>0.025324</td>\n",
       "      <td>0.323045</td>\n",
       "      <td>0.236404</td>\n",
       "      <td>0.379044</td>\n",
       "      <td>0.069990</td>\n",
       "    </tr>\n",
       "    <tr>\n",
       "      <th>age</th>\n",
       "      <td>0.198070</td>\n",
       "      <td>1.000000</td>\n",
       "      <td>0.123345</td>\n",
       "      <td>0.198124</td>\n",
       "      <td>0.004269</td>\n",
       "      <td>0.406739</td>\n",
       "      <td>0.174100</td>\n",
       "      <td>0.224051</td>\n",
       "      <td>-0.060829</td>\n",
       "    </tr>\n",
       "    <tr>\n",
       "      <th>requested_amount</th>\n",
       "      <td>0.240127</td>\n",
       "      <td>0.123345</td>\n",
       "      <td>1.000000</td>\n",
       "      <td>0.240202</td>\n",
       "      <td>-0.008743</td>\n",
       "      <td>0.118154</td>\n",
       "      <td>0.059518</td>\n",
       "      <td>0.106363</td>\n",
       "      <td>0.033114</td>\n",
       "    </tr>\n",
       "    <tr>\n",
       "      <th>income</th>\n",
       "      <td>0.999915</td>\n",
       "      <td>0.198124</td>\n",
       "      <td>0.240202</td>\n",
       "      <td>1.000000</td>\n",
       "      <td>0.025326</td>\n",
       "      <td>0.322999</td>\n",
       "      <td>0.236589</td>\n",
       "      <td>0.379032</td>\n",
       "      <td>0.070236</td>\n",
       "    </tr>\n",
       "    <tr>\n",
       "      <th>monthly_rent</th>\n",
       "      <td>0.025324</td>\n",
       "      <td>0.004269</td>\n",
       "      <td>-0.008743</td>\n",
       "      <td>0.025326</td>\n",
       "      <td>1.000000</td>\n",
       "      <td>0.001371</td>\n",
       "      <td>0.011538</td>\n",
       "      <td>-0.002635</td>\n",
       "      <td>-0.004322</td>\n",
       "    </tr>\n",
       "    <tr>\n",
       "      <th>number_prev_loans</th>\n",
       "      <td>0.323045</td>\n",
       "      <td>0.406739</td>\n",
       "      <td>0.118154</td>\n",
       "      <td>0.322999</td>\n",
       "      <td>0.001371</td>\n",
       "      <td>1.000000</td>\n",
       "      <td>0.185209</td>\n",
       "      <td>0.490363</td>\n",
       "      <td>-0.092164</td>\n",
       "    </tr>\n",
       "    <tr>\n",
       "      <th>prev_def</th>\n",
       "      <td>0.236404</td>\n",
       "      <td>0.174100</td>\n",
       "      <td>0.059518</td>\n",
       "      <td>0.236589</td>\n",
       "      <td>0.011538</td>\n",
       "      <td>0.185209</td>\n",
       "      <td>1.000000</td>\n",
       "      <td>0.011348</td>\n",
       "      <td>0.281290</td>\n",
       "    </tr>\n",
       "    <tr>\n",
       "      <th>prev_bal</th>\n",
       "      <td>0.379044</td>\n",
       "      <td>0.224051</td>\n",
       "      <td>0.106363</td>\n",
       "      <td>0.379032</td>\n",
       "      <td>-0.002635</td>\n",
       "      <td>0.490363</td>\n",
       "      <td>0.011348</td>\n",
       "      <td>1.000000</td>\n",
       "      <td>-0.105573</td>\n",
       "    </tr>\n",
       "    <tr>\n",
       "      <th>loan_default</th>\n",
       "      <td>0.069990</td>\n",
       "      <td>-0.060829</td>\n",
       "      <td>0.033114</td>\n",
       "      <td>0.070236</td>\n",
       "      <td>-0.004322</td>\n",
       "      <td>-0.092164</td>\n",
       "      <td>0.281290</td>\n",
       "      <td>-0.105573</td>\n",
       "      <td>1.000000</td>\n",
       "    </tr>\n",
       "  </tbody>\n",
       "</table>\n",
       "</div>"
      ],
      "text/plain": [
       "                   loan_amount       age  requested_amount    income  \\\n",
       "loan_amount           1.000000  0.198070          0.240127  0.999915   \n",
       "age                   0.198070  1.000000          0.123345  0.198124   \n",
       "requested_amount      0.240127  0.123345          1.000000  0.240202   \n",
       "income                0.999915  0.198124          0.240202  1.000000   \n",
       "monthly_rent          0.025324  0.004269         -0.008743  0.025326   \n",
       "number_prev_loans     0.323045  0.406739          0.118154  0.322999   \n",
       "prev_def              0.236404  0.174100          0.059518  0.236589   \n",
       "prev_bal              0.379044  0.224051          0.106363  0.379032   \n",
       "loan_default          0.069990 -0.060829          0.033114  0.070236   \n",
       "\n",
       "                   monthly_rent  number_prev_loans  prev_def  prev_bal  \\\n",
       "loan_amount            0.025324           0.323045  0.236404  0.379044   \n",
       "age                    0.004269           0.406739  0.174100  0.224051   \n",
       "requested_amount      -0.008743           0.118154  0.059518  0.106363   \n",
       "income                 0.025326           0.322999  0.236589  0.379032   \n",
       "monthly_rent           1.000000           0.001371  0.011538 -0.002635   \n",
       "number_prev_loans      0.001371           1.000000  0.185209  0.490363   \n",
       "prev_def               0.011538           0.185209  1.000000  0.011348   \n",
       "prev_bal              -0.002635           0.490363  0.011348  1.000000   \n",
       "loan_default          -0.004322          -0.092164  0.281290 -0.105573   \n",
       "\n",
       "                   loan_default  \n",
       "loan_amount            0.069990  \n",
       "age                   -0.060829  \n",
       "requested_amount       0.033114  \n",
       "income                 0.070236  \n",
       "monthly_rent          -0.004322  \n",
       "number_prev_loans     -0.092164  \n",
       "prev_def               0.281290  \n",
       "prev_bal              -0.105573  \n",
       "loan_default           1.000000  "
      ]
     },
     "execution_count": 20,
     "metadata": {},
     "output_type": "execute_result"
    }
   ],
   "source": [
    "model.corr()"
   ]
  },
  {
   "cell_type": "code",
   "execution_count": null,
   "id": "29768009",
   "metadata": {},
   "outputs": [],
   "source": []
  },
  {
   "cell_type": "code",
   "execution_count": 21,
   "id": "48436f86",
   "metadata": {},
   "outputs": [],
   "source": [
    "model.to_csv(r'D:\\Internship\\Dataset\\FinalModeliteration\\FinalModelUpdated.csv')"
   ]
  },
  {
   "cell_type": "code",
   "execution_count": 22,
   "id": "242c2070",
   "metadata": {},
   "outputs": [
    {
     "data": {
      "text/plain": [
       "count     2493.000000\n",
       "mean     38095.600882\n",
       "std      17483.298668\n",
       "min      20000.000000\n",
       "25%      25000.000000\n",
       "50%      32000.000000\n",
       "75%      46000.000000\n",
       "max      82000.000000\n",
       "Name: income, dtype: float64"
      ]
     },
     "execution_count": 22,
     "metadata": {},
     "output_type": "execute_result"
    }
   ],
   "source": [
    "df_defaulted['income'].describe()"
   ]
  },
  {
   "cell_type": "code",
   "execution_count": 23,
   "id": "22c03508",
   "metadata": {},
   "outputs": [
    {
     "data": {
      "text/plain": [
       "count    10320.000000\n",
       "mean     35094.347868\n",
       "std      16725.195353\n",
       "min      20000.000000\n",
       "25%      23000.000000\n",
       "50%      29000.000000\n",
       "75%      40000.000000\n",
       "max      82000.000000\n",
       "Name: income, dtype: float64"
      ]
     },
     "execution_count": 23,
     "metadata": {},
     "output_type": "execute_result"
    }
   ],
   "source": [
    "df_notdefaulted['income'].describe()"
   ]
  },
  {
   "cell_type": "code",
   "execution_count": 24,
   "id": "f484f27f",
   "metadata": {},
   "outputs": [
    {
     "data": {
      "text/plain": [
       "count    2493.000000\n",
       "mean        5.289611\n",
       "std         4.530036\n",
       "min         1.000000\n",
       "25%         2.000000\n",
       "50%         4.000000\n",
       "75%         7.000000\n",
       "max        19.000000\n",
       "Name: number_prev_loans, dtype: float64"
      ]
     },
     "execution_count": 24,
     "metadata": {},
     "output_type": "execute_result"
    }
   ],
   "source": [
    "df_defaulted['number_prev_loans'].describe()"
   ]
  },
  {
   "cell_type": "code",
   "execution_count": 25,
   "id": "8b67b07f",
   "metadata": {},
   "outputs": [
    {
     "data": {
      "text/plain": [
       "count    10320.000000\n",
       "mean         6.470252\n",
       "std          5.167669\n",
       "min          1.000000\n",
       "25%          2.000000\n",
       "50%          5.000000\n",
       "75%          9.000000\n",
       "max         19.000000\n",
       "Name: number_prev_loans, dtype: float64"
      ]
     },
     "execution_count": 25,
     "metadata": {},
     "output_type": "execute_result"
    }
   ],
   "source": [
    "df_notdefaulted['number_prev_loans'].describe()"
   ]
  },
  {
   "cell_type": "code",
   "execution_count": 26,
   "id": "4635942a",
   "metadata": {},
   "outputs": [
    {
     "name": "stderr",
     "output_type": "stream",
     "text": [
      "C:\\Users\\dhruv\\anaconda3\\lib\\site-packages\\seaborn\\distributions.py:2557: FutureWarning: `distplot` is a deprecated function and will be removed in a future version. Please adapt your code to use either `displot` (a figure-level function with similar flexibility) or `histplot` (an axes-level function for histograms).\n",
      "  warnings.warn(msg, FutureWarning)\n"
     ]
    },
    {
     "data": {
      "text/plain": [
       "<AxesSubplot:xlabel='prev_bal', ylabel='Density'>"
      ]
     },
     "execution_count": 26,
     "metadata": {},
     "output_type": "execute_result"
    },
    {
     "data": {
      "image/png": "[encoded data removed]",
      "text/plain": [
       "<Figure size 842.4x595.44 with 1 Axes>"
      ]
     },
     "metadata": {},
     "output_type": "display_data"
    }
   ],
   "source": [
    "sns.distplot(df_notdefaulted['prev_bal'],bins=100)"
   ]
  },
  {
   "cell_type": "code",
   "execution_count": 27,
   "id": "c3a1b3b5",
   "metadata": {},
   "outputs": [
    {
     "name": "stderr",
     "output_type": "stream",
     "text": [
      "C:\\Users\\dhruv\\anaconda3\\lib\\site-packages\\seaborn\\distributions.py:2557: FutureWarning: `distplot` is a deprecated function and will be removed in a future version. Please adapt your code to use either `displot` (a figure-level function with similar flexibility) or `histplot` (an axes-level function for histograms).\n",
      "  warnings.warn(msg, FutureWarning)\n"
     ]
    },
    {
     "data": {
      "text/plain": [
       "<AxesSubplot:xlabel='prev_bal', ylabel='Density'>"
      ]
     },
     "execution_count": 27,
     "metadata": {},
     "output_type": "execute_result"
    },
    {
     "data": {
      "image/png": "[encoded data removed]",
      "text/plain": [
       "<Figure size 842.4x595.44 with 1 Axes>"
      ]
     },
     "metadata": {},
     "output_type": "display_data"
    }
   ],
   "source": [
    "sns.distplot(df_defaulted['prev_bal'],bins=100)"
   ]
  },
  {
   "cell_type": "code",
   "execution_count": 28,
   "id": "ef72ec1e",
   "metadata": {},
   "outputs": [
    {
     "data": {
      "text/plain": [
       "count    2493.000000\n",
       "mean       29.661762\n",
       "std         5.802872\n",
       "min        17.298096\n",
       "25%        25.498128\n",
       "50%        28.419475\n",
       "75%        32.403129\n",
       "max        63.141611\n",
       "Name: age, dtype: float64"
      ]
     },
     "execution_count": 28,
     "metadata": {},
     "output_type": "execute_result"
    }
   ],
   "source": [
    "df_defaulted['age'].describe()"
   ]
  },
  {
   "cell_type": "code",
   "execution_count": 29,
   "id": "a6b92dd2",
   "metadata": {},
   "outputs": [
    {
     "data": {
      "text/plain": [
       "count    10320.000000\n",
       "mean        30.561819\n",
       "std          5.857741\n",
       "min         18.902510\n",
       "25%         26.292121\n",
       "50%         29.294236\n",
       "75%         33.402465\n",
       "max         58.043629\n",
       "Name: age, dtype: float64"
      ]
     },
     "execution_count": 29,
     "metadata": {},
     "output_type": "execute_result"
    }
   ],
   "source": [
    "df_notdefaulted['age'].describe()"
   ]
  },
  {
   "cell_type": "code",
   "execution_count": 30,
   "id": "2dc9e3a8",
   "metadata": {},
   "outputs": [
    {
     "data": {
      "text/plain": [
       "count     2493.000000\n",
       "mean     38085.572804\n",
       "std      17497.976657\n",
       "min          0.000000\n",
       "25%      25000.000000\n",
       "50%      32000.000000\n",
       "75%      46000.000000\n",
       "max      82000.000000\n",
       "Name: loan_amount, dtype: float64"
      ]
     },
     "execution_count": 30,
     "metadata": {},
     "output_type": "execute_result"
    }
   ],
   "source": [
    "df_defaulted['loan_amount'].describe()"
   ]
  },
  {
   "cell_type": "code",
   "execution_count": 31,
   "id": "9fcbe9ba",
   "metadata": {},
   "outputs": [
    {
     "data": {
      "text/plain": [
       "count    10320.000000\n",
       "mean     35094.347868\n",
       "std      16725.195353\n",
       "min      20000.000000\n",
       "25%      23000.000000\n",
       "50%      29000.000000\n",
       "75%      40000.000000\n",
       "max      82000.000000\n",
       "Name: loan_amount, dtype: float64"
      ]
     },
     "execution_count": 31,
     "metadata": {},
     "output_type": "execute_result"
    }
   ],
   "source": [
    "df_notdefaulted['loan_amount'].describe()"
   ]
  },
  {
   "cell_type": "code",
   "execution_count": 32,
   "id": "bfb23caf",
   "metadata": {},
   "outputs": [
    {
     "data": {
      "text/plain": [
       "count    10320.000000\n",
       "mean     35094.347868\n",
       "std      16725.195353\n",
       "min      20000.000000\n",
       "25%      23000.000000\n",
       "50%      29000.000000\n",
       "75%      40000.000000\n",
       "max      82000.000000\n",
       "Name: income, dtype: float64"
      ]
     },
     "execution_count": 32,
     "metadata": {},
     "output_type": "execute_result"
    }
   ],
   "source": [
    "df_notdefaulted['income'].describe()"
   ]
  },
  {
   "cell_type": "code",
   "execution_count": 36,
   "id": "01258f2c",
   "metadata": {},
   "outputs": [
    {
     "data": {
      "text/plain": [
       "10         61152.0\n",
       "11          3477.0\n",
       "15          1480.0\n",
       "21         37329.0\n",
       "23             0.0\n",
       "           ...    \n",
       "12773          0.0\n",
       "12787      72217.0\n",
       "12790    1692743.6\n",
       "12794          0.0\n",
       "12806          0.0\n",
       "Name: prev_bal, Length: 2493, dtype: float64"
      ]
     },
     "execution_count": 36,
     "metadata": {},
     "output_type": "execute_result"
    }
   ],
   "source": [
    "prevbaldef = df_defaulted['prev_bal']\n",
    "prevbaldef"
   ]
  },
  {
   "cell_type": "code",
   "execution_count": 37,
   "id": "1fa24316",
   "metadata": {},
   "outputs": [],
   "source": [
    "prevbaldef.to_csv(r'D:\\Internship\\Dataset\\Tables for EDA\\prevbaldef.csv')"
   ]
  },
  {
   "cell_type": "code",
   "execution_count": 39,
   "id": "132af5a8",
   "metadata": {},
   "outputs": [
    {
     "data": {
      "text/plain": [
       "0              0.0\n",
       "1          72720.0\n",
       "2         387762.0\n",
       "3        1059828.0\n",
       "4          42361.0\n",
       "           ...    \n",
       "12808     100143.0\n",
       "12809          0.0\n",
       "12810      25432.0\n",
       "12811     167230.0\n",
       "12812      18915.0\n",
       "Name: prev_bal, Length: 10320, dtype: float64"
      ]
     },
     "execution_count": 39,
     "metadata": {},
     "output_type": "execute_result"
    }
   ],
   "source": [
    "prevbalnotdef = df_notdefaulted['prev_bal']\n",
    "prevbalnotdef"
   ]
  },
  {
   "cell_type": "code",
   "execution_count": 40,
   "id": "dcde2f66",
   "metadata": {},
   "outputs": [],
   "source": [
    "prevbalnotdef.to_csv(r'D:\\Internship\\Dataset\\Tables for EDA\\prevbalnotdef.csv')"
   ]
  },
  {
   "cell_type": "code",
   "execution_count": 41,
   "id": "0d935721",
   "metadata": {},
   "outputs": [
    {
     "data": {
      "text/plain": [
       "count    2.493000e+03\n",
       "mean     2.030979e+05\n",
       "std      3.714739e+05\n",
       "min      0.000000e+00\n",
       "25%      2.620000e+02\n",
       "50%      5.295600e+04\n",
       "75%      2.105700e+05\n",
       "max      1.692744e+06\n",
       "Name: prev_bal, dtype: float64"
      ]
     },
     "execution_count": 41,
     "metadata": {},
     "output_type": "execute_result"
    }
   ],
   "source": [
    "prevbaldef.describe()"
   ]
  },
  {
   "cell_type": "code",
   "execution_count": 42,
   "id": "ac5a9de2",
   "metadata": {},
   "outputs": [
    {
     "data": {
      "text/plain": [
       "count    1.032000e+04\n",
       "mean     3.186902e+05\n",
       "std      4.442421e+05\n",
       "min      0.000000e+00\n",
       "25%      3.752225e+04\n",
       "50%      1.351940e+05\n",
       "75%      3.882735e+05\n",
       "max      1.692744e+06\n",
       "Name: prev_bal, dtype: float64"
      ]
     },
     "execution_count": 42,
     "metadata": {},
     "output_type": "execute_result"
    }
   ],
   "source": [
    "prevbalnotdef.describe()"
   ]
  },
  {
   "cell_type": "code",
   "execution_count": null,
   "id": "81b0a573",
   "metadata": {},
   "outputs": [],
   "source": []
  }
 ],
 "metadata": {
  "kernelspec": {
   "display_name": "Python 3",
   "language": "python",
   "name": "python3"
  },
  "language_info": {
   "codemirror_mode": {
    "name": "ipython",
    "version": 3
   },
   "file_extension": ".py",
   "mimetype": "text/x-python",
   "name": "python",
   "nbconvert_exporter": "python",
   "pygments_lexer": "ipython3",
   "version": "3.8.8"
  }
 },
 "nbformat": 4,
 "nbformat_minor": 5
}
